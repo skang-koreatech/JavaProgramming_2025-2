{
 "cells": [
  {
   "cell_type": "markdown",
   "id": "e0347503-f8ba-4163-a2ef-e380970babdc",
   "metadata": {},
   "source": [
    "# 자바프로그래밍 (01분반)"
   ]
  },
  {
   "cell_type": "markdown",
   "id": "f59d9ffc-d5a8-4212-97a9-50dc350d761d",
   "metadata": {},
   "source": [
    "# 예외 처리\n",
    "# 1. 예외 클래스\n",
    "## 혼공자 10-1 (p.466 ~ p.474)"
   ]
  },
  {
   "cell_type": "markdown",
   "id": "fd331122-d128-462a-bc7f-f535fe840e31",
   "metadata": {},
   "source": [
    "### 예외와 예외 클래스\n",
    "- 예외(exception) : 사용자의 잘못된 조작 또는 개발자의 잘못된 코딩으로 인해 발생하는 프로그램 오류\n",
    "    - 예외가 발생되면 프로그램은 곧바로 종료된다는 점에서 에러와 비슷\n",
    "    - 하지만 예외 처리 (exception handling)를 통해 프로그램을 종료하지 않고 정상 실행 상태가 유지되도록 할 수 있음\n",
    "\n",
    "- 자바는 예외가 발생할 가능성이 높은 코드를 컴파일할 때 예외 처리 유무를 확인함\n",
    "    - 만약 예외 처리 코드가 없다면 컴파일이 되지 않음"
   ]
  },
  {
   "cell_type": "markdown",
   "id": "24ea109d-aa7c-4e3f-9cb7-8641482f22bc",
   "metadata": {},
   "source": [
    "#### 예외 종류\n",
    "- 일반 예외 (exception)\n",
    "    - 컴파일 체크 예외라고도 함\n",
    "    - 프로그램 실행 시 예외가 발생할 가능성이 높기 때문에 자바 소스를 컴파일하는 과정에서 해당 예외 처리 코드가 있는지 검사하는데 만약 예외 처리 코드가 없으면 컴파일 오류 발생\n",
    "- 실행 예외 (runtime exception)\n",
    "    - 실행 시 예측할 수 없이 갑자기 발생하기 때문에 컴파일하는 과정에서 예외 처리 코드가 있는지 검사하지 않음\n"
   ]
  },
  {
   "cell_type": "markdown",
   "id": "8c9bf338-5171-46c5-8730-b2b72b54e0cc",
   "metadata": {},
   "source": [
    "#### 예외 클래스\n",
    "- 자바에서는 예외를 클래스로 관리함\n",
    "- JVM은 프로그램을 실행하는 도중에 예외가 발생하면 해당 예외 클래스로 객체를 생성하고 예외 처리 코드에서 예외 객체를 이용할 수 있도록 해줌\n",
    "- 모든 예외 클래스는 java.lang.Exception 클래스를 상속받음\n",
    "- java.lang.Exception\n",
    "    - java.lang.ClassNotFoundException\n",
    "    - java.lang.InterruptedException\n",
    "    - ...\n",
    "    - java.lang.RuntimeException\n",
    "- 일반 예외와 실행 예외 클래스는 RuntimeException 클래스를 기준으로 구별함\n",
    "    - RuntimeException의 하위 클래스는 모두 실행 예외 클래스\n",
    "- java.lang.RuntimeException\n",
    "    - java.lang.NullPointerException\n",
    "    - java.lang.ClassCastException\n",
    "    - java.lang.NumberFormatException\n",
    "    - ..."
   ]
  },
  {
   "cell_type": "markdown",
   "id": "2f3554c7",
   "metadata": {},
   "source": [
    "### 실행 예외\n",
    "- 실행 예외는 자바 컴파일러가 체크하지 않기 때문에 오로지 개발자의 경험에 의해서 예외 처리 코드를 작성해야 함\n",
    "- 만약 개발자가 실행 예외에 대해 예외 처리 코드를 넣지 않았을 경우, 해당 예외가 발생하면 프로그램은 곧바로 종료됨"
   ]
  },
  {
   "cell_type": "markdown",
   "id": "8b55b254",
   "metadata": {},
   "source": [
    "#### NullPointerException\n",
    "\n",
    "- java.lang.NullPointerException : 자바 프로그램에서 가장 빈번하게 발생하는 실행 예외\n",
    "- 객체 참조 상태가 없는 상태, 즉 null 값을 갖는 참조 변수로 객체 접근 연산자인 도트(.)를 사용했을 때 발생\n",
    "    - 객체가 없는 상태에서 객체를 사용하려 했기 때문에 발생하는 예외"
   ]
  },
  {
   "cell_type": "markdown",
   "id": "9816dd6d",
   "metadata": {},
   "source": [
    "- NullPointerException 발생 예제 코드\n",
    "\n",
    "```java\n",
    "package sec01.exam01;\n",
    "\n",
    "public class NullPointerExceptionExample {\n",
    "\tpublic static void main(String[] args) {\n",
    "\t\tString data = null;\n",
    "\t\tSystem.out.println(data.toString());\n",
    "\t}\n",
    "}\n",
    "```"
   ]
  },
  {
   "cell_type": "markdown",
   "id": "8a0c00ce",
   "metadata": {},
   "source": [
    "- 위 코드 5라인에서 data 변수는 null 값을 가지고 있기 때문에 String 객체를 참조하고 있지 않음\n",
    "- 하지만 6라인에서 String 객체의 toString() 메소드를 호출하고 있음 - 여기서 NullPointerException 발생"
   ]
  },
  {
   "cell_type": "markdown",
   "id": "f9ad2c3c",
   "metadata": {},
   "source": [
    "##### 실행결과\n",
    "##### Exception in thread \"main\" java.lang.NullPointerException\n",
    "#####     at NullPointerExceptionExample.main(NullPointerExceptionExample.java:6)"
   ]
  },
  {
   "cell_type": "markdown",
   "id": "f7a3b63e",
   "metadata": {},
   "source": [
    "- 프로그램에서 예외가 발생하면 예외 메시지가 Console 뷰에 출력되면서 프로그램이 종료됨\n",
    "    - Console 뷰에 출력되는 내용에는 어떤 예외가 어떤 소스의 몇 번째 코드 라인에서 발생했는지에 대한 정보가 들어 있음"
   ]
  },
  {
   "cell_type": "markdown",
   "id": "b8b44e32",
   "metadata": {},
   "source": [
    "#### ArrayIndexOutOfBoundsException\n",
    "\n",
    "- java.lang.ArrayIndexOutOfBoundsException : 배열에서 인덱스 범위를 초과할 경우 발생하는 실행 예외\n",
    "- 예를 들어 길이가 3인 int 배열을 가정해보자\n",
    "    - int[] arr = new int[3]  \n",
    "    - 배열의 원소를 읽기 위해 arr[0], arr[1], arr[2]를 사용할 수 있음\n",
    "    - 하지만 arr[3]을 사용하면 인덱스 범위를 초과했기 때문에 ArrayIndexOutOfBoundsException 발생함"
   ]
  },
  {
   "cell_type": "markdown",
   "id": "fa939ec2",
   "metadata": {},
   "source": [
    "- ArrayIndexOutOfBoundsException 발생 예제 코드\n",
    "\n",
    "```java\n",
    "public class Main {\n",
    "    public static void main(String[] args) {\n",
    "        int[] numbers = {10, 20, 30};\n",
    "\n",
    "        // 배열의 인덱스는 0, 1, 2까지만 가능\n",
    "        System.out.println(numbers[3]); // 예외 발생\n",
    "    }\n",
    "}\n",
    "```\n",
    "\n",
    "```java\n",
    "public class Main {\n",
    "    public static void main(String[] args) {\n",
    "        String[] names = {\"홍길동\", \"이영희\", \"김철수\"};\n",
    "\n",
    "        for (int i = 0; i <= names.length; i++) {\n",
    "            System.out.println(names[i]); // 왜 exception이 발생할까?\n",
    "        }\n",
    "    }\n",
    "}\n",
    "```"
   ]
  },
  {
   "cell_type": "markdown",
   "id": "1319278d",
   "metadata": {},
   "source": [
    "- 위 코드 실행 결과는?"
   ]
  },
  {
   "cell_type": "markdown",
   "id": "d67d9883",
   "metadata": {},
   "source": [
    "#### NumberFormatException\n",
    "\n",
    "- java.lang.NumberFormatException : 문자열로 되어 있는 데이터를 숫자로 변환하는 경우에 숫자로 변환될 수 없는 문자가 포함되 있는 경우 발생하는 실행 예외\n",
    "- 문자열을 숫자로 변환하는 예\n",
    "    - Integer.parseInt(String s) : 주어진 문자열을 정수로 변환해서 반환\n",
    "    - Double.parseDouble(String s) : 주어진 문자열을 실수로 변환해서 반환"
   ]
  },
  {
   "cell_type": "markdown",
   "id": "a8f12862",
   "metadata": {},
   "source": [
    "- NumberFormatException 발생 예제 코드\n",
    "\n",
    "```java\n",
    "package sec01.exam04;\n",
    "\n",
    "public class NumberFormatExceptionExample {\n",
    "\tpublic static void main(String[] args) {\n",
    "\t\tString data1 = \"100\";\n",
    "\t\tString data2 = \"a100\";\n",
    "\t\t\t\t\n",
    "\t\tint value1 = Integer.parseInt(data1);\n",
    "\t\tint value2 = Integer.parseInt(data2);\n",
    "\t\t\n",
    "\t\tint result = value1 + value2;\n",
    "\t\tSystem.out.println(data1 + \"+\" + data2 + \"=\" + result);\n",
    "\t}\n",
    "}\n",
    "```"
   ]
  },
  {
   "cell_type": "markdown",
   "id": "175e60ca",
   "metadata": {},
   "source": [
    "#### ClassCastException\n",
    "\n",
    "- java.lang.ClassCastException : 타입 변환할 수 있는 경우가 아닌데 클래스를 다른 타입으로 변환하려고 할 때 발생하는 실행 예외\n",
    "- 타입 변환할 수 있는 경우\n",
    "    - 상위 클래스와 하위 클래스 간\n",
    "    - 인터페이스와 구현 클래스 간"
   ]
  },
  {
   "cell_type": "markdown",
   "id": "0f0ff24e",
   "metadata": {},
   "source": [
    "- ClassCastException 발생 예제 코드\n",
    "\n",
    "```java\n",
    "package sec01.exam05;\n",
    "\n",
    "public class ClassCastExceptionExample {\n",
    "\tpublic static void main(String[] args) {\n",
    "\t\tDog dog = new Dog();\n",
    "\t\tchangeDog(dog);\n",
    "\t\t\n",
    "\t\tCat cat = new Cat();\n",
    "\t\tchangeDog(cat);\n",
    "\t}\n",
    "\t\n",
    "\tpublic static void changeDog(Animal animal) {\n",
    "\t\t//if(animal instanceof Dog) {\n",
    "\t\t\tDog dog = (Dog) animal; //ClassCastException 발생 가능\n",
    "\t\t//} \n",
    "\t}\n",
    "}\n",
    "\n",
    "class Animal {}\n",
    "class Dog extends Animal {}\n",
    "class Cat extends Animal {}\n",
    "```\n"
   ]
  },
  {
   "cell_type": "markdown",
   "id": "e31cd9f7",
   "metadata": {},
   "source": [
    "- ClassCastException을 발생시키지 않으려면 타입 변환 전에 변환이 가능한지 instanceof 연산자로 확인하는 것이 바람직함\n",
    "    - instanceof 연산의 결과가 true이면 좌항 객체를 우항 타입으로 변환 가능하다는 의미"
   ]
  },
  {
   "cell_type": "markdown",
   "id": "1c8a03c4",
   "metadata": {},
   "source": [
    "# 2. 예외 처리\n",
    "## 혼공자 10-2 (p.475 ~ p.486)"
   ]
  },
  {
   "cell_type": "markdown",
   "id": "7f99f69c",
   "metadata": {},
   "source": [
    "### 예외 처리 코드\n",
    "- try-catch-finally 블록\n",
    "    - 생성자 내부, 메소드 내부에서 작성되어 일반 예외와 실행 예외가 발생할 경우 예외 처리를 할 수 있도록 해줌\n",
    "\n",
    "```java\n",
    "\n",
    "try {\n",
    "\n",
    "\n",
    "    // 예외 발생 가능 코드\n",
    "\n",
    "\n",
    "} catch(예외클래스 e) {\n",
    "\n",
    "    // 예외 처리\n",
    "\n",
    "} finally {\n",
    "\n",
    "    // 항상 실행되는 코드\n",
    "\n",
    "}\n",
    "```\n",
    "\n",
    "- try 블록에는 예외 발생 가능 코드가 포함됨\n",
    "- try 블록의 코드에서 예외 발생 없이 정상 실행되면 catch 블록의 코드는 실행되지 않고 finally 블록의 코드를 실행함\n",
    "- 만약 try 블록의 코드에서 예외가 발생하면 즉시 실행을 멈추고 catch 블록으로 이용하여 예외 처리 코드를 실행하고 finally 블록의 코드를 실행함\n",
    "- finally 블록은 생략 가능함\n",
    "    - 예외 발생 여부와 상관없이 항상 실행할 내용이 있을 경우에만 finally 블록을 작성\n",
    "    - 심지어 try 블록과 catch 블록에서 return 문을 사용하더라도 finally 블록은 항상 실행됨"
   ]
  },
  {
   "cell_type": "markdown",
   "id": "e2f1ce4b",
   "metadata": {},
   "source": [
    "- 일반 예외 발생 예제 코드\n",
    "\n",
    "```java\n",
    "package sec02.exam01;\n",
    "\n",
    "public class TryCatchFinallyExample {\n",
    "\tpublic static void main(String[] args) {\n",
    "\t\t\n",
    "\t\tClass clazz = Class.forName(\"String2\"); // ClassNotFoundException 발생\n",
    "\t\t\n",
    "\t}\n",
    "}\n",
    "```"
   ]
  },
  {
   "cell_type": "markdown",
   "id": "1dd84709",
   "metadata": {},
   "source": [
    "- 이클립스는 일반 예외가 발생할 가능성이 있는 코드를 작성하면 빨간 밑줄을 그어 예외 처리 코드의 필요성을 알려줌\n",
    "- 빨간 밑줄에 마우스 포인터를 가져다 놓으면 Unhandled exception(처리되지 않은 예외) 정보를 알 수 있음"
   ]
  },
  {
   "cell_type": "markdown",
   "id": "ff8bec1c",
   "metadata": {},
   "source": [
    "- Class.forName() 메소드는 매개값으로 주어진 클래스가 존재하면 Class 객체를 리턴하지만, 존재하지 않으면 ClassNotFoundException을 발생시킴\n",
    "- ClassNotFoundException은 일반 예외이므로 컴파일러는 개발자에게 다음과 같이 예외 처리 코드를 작성하도록 요구함"
   ]
  },
  {
   "cell_type": "markdown",
   "id": "672553c8",
   "metadata": {},
   "source": [
    "\n",
    "```java\n",
    "package sec02.exam01;\n",
    "\n",
    "public class TryCatchFinallyExample {\n",
    "\tpublic static void main(String[] args) {\n",
    "\t\ttry {\n",
    "\t\t\tClass clazz = Class.forName(\"String2\");\n",
    "\t\t} catch(ClassNotFoundException e) {\n",
    "\t\t\tSystem.out.println(\"클래스가 존재하지 않습니다.\");\n",
    "\t\t}\n",
    "\t}\n",
    "}\n",
    "```"
   ]
  },
  {
   "cell_type": "markdown",
   "id": "bb45334f",
   "metadata": {},
   "source": [
    "- 실행 예외 발생 처리 예제 코드\n",
    "\n",
    "```java\n",
    "package sec02.exam02;\n",
    "\n",
    "public class TryCatchFinallyRuntimeExceptionExample {\n",
    "\tpublic static void main(String[] args) {\n",
    "\t\ttry {\n",
    "\t\t\tint[] numbers = {10, 20, 30};\n",
    "\t\t\tSystem.out.println(numbers[3]);\n",
    "\t\t} catch(ArrayIndexOutOfBoundsException e) {\n",
    "\t\t\tSystem.out.println(\"배열의 인덱스 범위를 초과했습니다.\");\n",
    "\t\t} \n",
    "\t\t\n",
    "\t\ttry { \n",
    "\t\t\tint value1 = Integer.parseInt(\"100\");\n",
    "\t\t\tint value2 = Integer.parseInt(\"1000a\");\n",
    "\t\t\tint result = value1 + value2;\n",
    "\t\t\tSystem.out.println(value1 + \"+\" + value2 + \"=\" + result);\n",
    "\t\t} catch(NumberFormatException e) {\n",
    "\t\t\tSystem.out.println(\"숫자로 변환할 수 없습니다.\");\n",
    "\t\t} finally {\n",
    "\t\t\tSystem.out.println(\"다시 실행하세요.\");\n",
    "\t\t}\n",
    "\t}\n",
    "}\n",
    "```\n",
    "\n"
   ]
  },
  {
   "cell_type": "markdown",
   "id": "26504463",
   "metadata": {},
   "source": [
    "### 예외 종류에 따른 처리 코드\n",
    "\n",
    "#### 다중 catch\n",
    "- try 블록 내부는 다양한 예외가 발생할 수 있는데 이 경우 발생되는 예외별로 예외 처리 코드를 다르게 하려면 어떻게 해야 할까?\n",
    "    - 다중 catch 블록을 작성\n",
    "\n",
    "```java\n",
    "try {\n",
    "\n",
    "\n",
    "    // ArrayIndexOutOfBoundsException 발생\n",
    "\n",
    "    // NumberFormatException 발생\n",
    "\n",
    "} catch(ArrayIndexOutOfBoundsException e) {\n",
    "    // 예외 처리 1\n",
    "} catch(NumberFormatException e) {\n",
    "    // 예외 처리 2\n",
    "}\n",
    "```\n",
    "\n",
    "- catch 블록이 여러 개라 할지라도 단 하나의 catch 블록만 실행됨\n",
    "    - 그 이유는 try 블록에서 동시 다발적으로 예외가 발생하지 않고, 하나의 예외가 발생하면 즉시 실행을 멈추고 해당 catch 블록으로 이동하기 때문"
   ]
  },
  {
   "cell_type": "markdown",
   "id": "ca7204dc",
   "metadata": {},
   "source": [
    "```java\n",
    "package sec02.exam03;\n",
    "\n",
    "public class CatchByExceptionKindExample {\n",
    "\tpublic static void main(String[] args) {\n",
    "\t\ttry {\n",
    "\t\t\tint[] numbers = {10, 20, 30};\n",
    "\t\t\tSystem.out.println(numbers[3]);\n",
    "\n",
    "\t\t\tint value1 = Integer.parseInt(\"100\");\n",
    "\t\t\tint value2 = Integer.parseInt(\"1000a\");\n",
    "\t\t\tint result = value1 + value2;\n",
    "\t\t\tSystem.out.println(value1 + \"+\" + value2 + \"=\" + result);\n",
    "\t\t} catch(ArrayIndexOutOfBoundsException e) {\n",
    "\t\t\tSystem.out.println(\"배열의 인덱스 범위를 초과했습니다.\");\n",
    "\t\t} catch(NumberFormatException e) {\n",
    "\t\t\tSystem.out.println(\"숫자로 변환할 수 없습니다.\");\n",
    "\t\t} finally {\n",
    "\t\t\tSystem.out.println(\"다시 실행하세요.\");\n",
    "\t\t}\n",
    "\t}\n",
    "}\n",
    "\n",
    "```"
   ]
  },
  {
   "cell_type": "markdown",
   "id": "cbc12431",
   "metadata": {},
   "source": [
    "#### catch 순서\n",
    "- 다중 catch 블록을 작성할 때 주의할 점 : 상위 예외 클래스가 하위 예외 클래스보다 아래쪽에 위치해야 함\n",
    "- try 블록에서 예외가 발생했을 때, 예외를 처리해줄 catch 블록은 위에서부터 차례대로 검색됨\n",
    "    - 만약 상위 예외 클래스의 catch 블록이 위에 있다면, 하위 예외 클래스의 catch 블록은 실행되지 않음\n",
    "    - 왜냐하면 하위 예외 클래스는 상위 예외 클래스를 상속했기 때문에 상위 예외 타입이기도 하기 때문임\n"
   ]
  },
  {
   "cell_type": "markdown",
   "id": "8f6479a8",
   "metadata": {},
   "source": [
    "- 잘못된 코딩 예\n",
    "\n",
    "```java\n",
    "try {\n",
    "\n",
    "\n",
    "    // ArrayIndexOutOfBoundsException 발생\n",
    "\n",
    "    // NumberFormatException 발생\n",
    "\n",
    "} catch(Exception e) {\n",
    "    // 예외 처리 1\n",
    "} catch(ArrayIndexOutOfBoundsException e) {\n",
    "    // 예외 처리 2\n",
    "}\n",
    "```\n",
    "\n",
    "- ArrayIndexOutOfBoundsExceptionj과 NumberFormatException은 모두 Exception을 상속받기 때문에 첫 번째 catch 블록만 선택되어 실행됨\n",
    "- 두 번째 catch 블록은 어떤 경우라도 실행되지 않음"
   ]
  },
  {
   "cell_type": "markdown",
   "id": "eae4a75a",
   "metadata": {},
   "source": [
    "- 올바른 코딩 예\n",
    "\n",
    "```java\n",
    "try {\n",
    "\n",
    "\n",
    "    // ArrayIndexOutOfBoundsException 발생\n",
    "\n",
    "    // NumberFormatException 발생\n",
    "\n",
    "} catch(ArrayIndexOutOfBoundsException e) {\n",
    "    // 예외 처리 1\n",
    "} catch(Exception e) {\n",
    "    // 예외 처리 2\n",
    "}\n",
    "```\n",
    "\n",
    "- try 블록에서 ArrayIndexOutOfBoundsException이 발생하면 첫 번째 catch 블록을 실행하고 그 밖의 다른 예외가 발생하면 두 번째 catch 블록을 실행함"
   ]
  },
  {
   "cell_type": "markdown",
   "id": "3e6fe61f",
   "metadata": {},
   "source": [
    "### 예외 떠넘기기\n",
    "- 메소드 내부에서 예외가 발생할 수 있는 코드를 작성할 때 try-catch 블록으로 예외를 처리하는 것이 기본\n",
    "- 하지만 경우에 따라서는 메소드를 호출한 곳으로 예외를 떠넘길 수도 있음\n",
    "    - 이를 위해 사용하는 키워드: throws\n",
    "- throws 키워드 : 메소드 선언부 끝에 작성되어 메소드에서 처리하지 않은 예외를 호출한 곳으로 떠넘기는 역할을 함\n",
    "\n",
    "```java\n",
    "리턴타입 메소드이름(매개변수, ...) throws 예외클래스1, 예외클래스2, ... {\n",
    "\n",
    "}\n",
    "```\n",
    "\n",
    "- 발생할 수 있는 예외의 종류별로 throws 뒤에 나열하는 것이 일반적이지만 다음과 같이 throws Exception만으로 모든 예외를 간단히 떠넘길 수도 있음\n",
    "```java\n",
    "리턴타입 메소드이름(매개변수, ...) throws Exception {\n",
    "\n",
    "}\n",
    "```\n",
    "\n",
    "- throws 키워드가 붙어 있는 메소드는 반드시 try 블록 내에서 호출되어야 함\n",
    "- 그리고 catch 블록에서 떠넘겨 받은 예외를 처리해야 함"
   ]
  },
  {
   "cell_type": "markdown",
   "id": "6b073e3b",
   "metadata": {},
   "source": [
    "```java\n",
    "package sec02.exam05;\n",
    "\n",
    "public class ThrowsExample {\n",
    "\tpublic static void main(String[] args) {\n",
    "\t\ttry {\n",
    "\t\t\tfindClass(); // 메소드 호출\n",
    "\t\t} catch(ClassNotFoundException e) { // 호출한 메소드 findClass()에서 throws하는 예외를 처리하는 catch 블록\n",
    "\t\t\tSystem.out.println(\"클래스가 존재하지 않습니다.\");\n",
    "\t\t}\n",
    "\t}\n",
    "\t\n",
    "\t// findClass 메소드 정의\n",
    "\t// throws 키워드를 사용하고 있음\n",
    "\tpublic static void findClass() throws ClassNotFoundException {\n",
    "\t\tClass clazz = Class.forName(\"java.lang.String2\");\n",
    "\t}\n",
    "}\n",
    "\n",
    "```"
   ]
  }
 ],
 "metadata": {
  "kernelspec": {
   "display_name": "Python 3 (ipykernel)",
   "language": "python",
   "name": "python3"
  },
  "language_info": {
   "codemirror_mode": {
    "name": "ipython",
    "version": 3
   },
   "file_extension": ".py",
   "mimetype": "text/x-python",
   "name": "python",
   "nbconvert_exporter": "python",
   "pygments_lexer": "ipython3",
   "version": "3.12.4"
  }
 },
 "nbformat": 4,
 "nbformat_minor": 5
}
