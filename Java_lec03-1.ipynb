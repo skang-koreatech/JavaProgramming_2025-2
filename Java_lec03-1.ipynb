{
 "cells": [
  {
   "cell_type": "markdown",
   "id": "e0347503-f8ba-4163-a2ef-e380970babdc",
   "metadata": {},
   "source": [
    "# 자바프로그래밍 (01분반)"
   ]
  },
  {
   "cell_type": "markdown",
   "id": "f59d9ffc-d5a8-4212-97a9-50dc350d761d",
   "metadata": {},
   "source": [
    "# 1. 자바 배열\n",
    "### 혼공자 05-2 (p.199 ~ p.221)"
   ]
  },
  {
   "cell_type": "markdown",
   "id": "403f2ecb-6c1d-4150-81cf-d01040af7380",
   "metadata": {},
   "source": [
    "## 배열이란?\n",
    "- 같은 타입의 데이터를 연속된 공간에 나열하고, 각 데이터에 인덱스(index)를 부여해 놓은 자료구조\n",
    "- 왜 배열이 필요한가?\n",
    "   - 변수는 1개의 데이터만 저장 가능\n",
    "   - 저장해야 할 데이터의 수가 많아지면 그만큼 많은 변수가 필요하고 코드도 길어짐\n",
    "   - 학생 30명의 성적을 저장하고 평균값을 구한다고 할 때, 먼저 30명의 성적을 저장하기 위해 변수 30개를 선언하고 변수들을 모두 더해야 함\n",
    "- 배열을 이용하면 짧은 코드로 많은 양의 데이터를 처리할 수 있음 \n",
    "  \n",
    "```java\n",
    "    int[] score = {80, 90, 85, 75, 80, 90, 92, 82, 86, 91};\n",
    "    int sum = 0;\n",
    "    for (int i=0; i<10; i++) {\n",
    "        sum += score[i];\n",
    "    }\n",
    "    int avg = sum / 10;\n",
    "``` \n"
   ]
  },
  {
   "cell_type": "markdown",
   "id": "b6a7533c-6292-45e0-8476-2978b4916026",
   "metadata": {},
   "source": [
    "- 배열의 특징\n",
    "  - 같은 타입의 데이터만 저장 가능\n",
    "  - 선언과 동시에 저장할 수 있는 타입이 결정됨 (다른 타입의 값을 저장하려고 하면 타입 불일치 컴파일 에러 발생)\n",
    "  - 한 번 생성된 배열은 길이를 늘리거나 줄일 수 없음"
   ]
  },
  {
   "cell_type": "markdown",
   "id": "70471626-93cb-49a0-81ab-3caae2c7a633",
   "metadata": {},
   "source": [
    "## 배열 선언\n",
    "- 배열 변수 선언 형식\n",
    "  - 타입[] 변수;\n",
    "  - 타입 변수[];\n",
    "\n",
    "```java\n",
    "int[] intArray;\n",
    "double[] doubleArray;\n",
    "String[] strArray;\n",
    "\n",
    "int intArray[];\n",
    "double doubleArray[];\n",
    "String strArray[];\n",
    "```"
   ]
  },
  {
   "cell_type": "markdown",
   "id": "dbafffa0-618a-40f6-953e-1c0135816db8",
   "metadata": {},
   "source": [
    "- 배열 변수는 참조 변수에 속함\n",
    "  - 배열도 객체 : 메모리의 힙 영역에 생성됨\n",
    "  - 배열 변수는 힙 영역의 배열 객체를 참조\n",
    "- 만약 참조할 배열 객체가 없다면 null 값으로 초기화 될 수 있음\n",
    "  - 타입[] 변수 = null;\n",
    "    "
   ]
  },
  {
   "cell_type": "markdown",
   "id": "dbca57ac-8d5e-4178-ad36-b7070dc7bbe4",
   "metadata": {},
   "source": [
    "## 배열 생성\n",
    "1. 값 목록으로 배열 생성\n",
    "   - 타입[] 변수 = {값0, 값1, 값2, ...};\n",
    "\n",
    "```java\n",
    "String[] names = {\"신용권\", \"홍길동\", \"감자바\"};\n",
    "\n",
    "System.out.println(names[1]); // 인덱싱을 통해 배열 값 읽기\n",
    "\n",
    "names[2] = \"김철수\"; // 배열 값 저장\n",
    "```"
   ]
  },
  {
   "cell_type": "markdown",
   "id": "7dac5bad-da17-492f-abc1-fa3576b20947",
   "metadata": {},
   "source": [
    "- 값의 목록으로 배열 객체를 생성할 때는 배열 변수를 이미 선언한 후에는 다른 실행문에서 중괄호를 사용한 배열 생성이 허용되지 않음\n",
    "- 예\n",
    "\n",
    "```java\n",
    "int[] array;\n",
    "array = {0, 1, 2, 3}; // 컴파일 에러 \n",
    "```"
   ]
  },
  {
   "cell_type": "markdown",
   "id": "da40b51a-fe73-4e97-b553-1f78832f53f0",
   "metadata": {},
   "source": [
    "- 배열 변수를 미리 선언한 후 값 목록이 나중에 결정되는 상황이라면 new 연산자를 사용해서 값 목록을 지정\n",
    "- 예\n",
    "\n",
    "```java\n",
    "String[] names = null;\n",
    "names = new String[] {\"신용권\", \"홍길동\", \"감자바\"};\n",
    "```"
   ]
  },
  {
   "cell_type": "markdown",
   "id": "0a1383a3-d0f5-41db-bb9b-f35fba7193a0",
   "metadata": {},
   "source": [
    "2. new 연산자로 배열 생성\n",
    "- 값의 목록을 가지고 있지 않지만 향후 값들을 저장할 배열을 미리 만들고자 한다면 new 연산자로 배열 객체 생성\n",
    "  - 타입[] 변수 = new 타입[길이];\n"
   ]
  },
  {
   "cell_type": "markdown",
   "id": "dc5f3b99-5804-4a16-ac39-a93b5b141a0f",
   "metadata": {},
   "source": [
    "- 배열 변수가 선언된 경우\n",
    "  - 타입[] 변수 = null;\n",
    "  - 변수 = new 타입[길이];"
   ]
  },
  {
   "cell_type": "markdown",
   "id": "db110204-baeb-40db-8a23-9bfc5e6aaf79",
   "metadata": {},
   "source": [
    "```java\n",
    "int[] intArray = new int[5];\n",
    "int[] scores = new int[30]; // 모두 0으로 초기화\n",
    "\n",
    "String[] names = new String[30]; // 모두 null로 초기화"
   ]
  },
  {
   "cell_type": "markdown",
   "id": "6b25bf68-bb9f-4e8b-ad08-02cb81223527",
   "metadata": {},
   "source": [
    "- 배열 생성 후 특정 인덱스 위치에 새로운 값을 저장\n",
    "  - 변수[인덱스] = 값;"
   ]
  },
  {
   "cell_type": "markdown",
   "id": "0546f809-00e8-4afe-8311-5a8fd49f4b8a",
   "metadata": {},
   "source": [
    "```java\n",
    "int[] scores = new int[3];\n",
    "scores[0] = 83;\n",
    "scores[1] = 90;\n",
    "scores[2] = 75;\n",
    "```"
   ]
  },
  {
   "cell_type": "markdown",
   "id": "7514eec9-10ed-4e09-967d-592e9cc0fff2",
   "metadata": {},
   "source": [
    "## 배열 길이\n",
    "- 배열에 저장할 수 있는 전체 항목의 개수\n",
    "- 배열 객체의 length 필드를 이용\n",
    "  - 변수.length;"
   ]
  },
  {
   "cell_type": "markdown",
   "id": "341127f7-5661-4853-9e52-f22c683e0b86",
   "metadata": {},
   "source": [
    "```java\n",
    "int[] intArray = {10, 20, 30};\n",
    "int num = intArray.length;\n",
    "```"
   ]
  },
  {
   "cell_type": "markdown",
   "id": "23838656-01f0-44c0-94a8-ea9d7ea55e14",
   "metadata": {},
   "source": [
    "- 예제\n",
    "```java\n",
    "int[] scores = {83, 90, 87};\n",
    "\n",
    "int sum = 0;\n",
    "for (int i=0; i<scores.length; i++) {\n",
    "    sum += scores[i];\n",
    "}\n",
    "System.out.println(\"총합: \" + sum);\n",
    "\n",
    "double avg = (double) sum / scores.length;\n",
    "System.out.println(\"평균: \" + avg);\n",
    "```"
   ]
  },
  {
   "cell_type": "markdown",
   "id": "b34d70a5-eaca-4ba8-8788-7ade4cfb6efd",
   "metadata": {},
   "source": [
    "## 다차원 배열\n",
    "- 2차원 배열: 행과 열로 구성된 배열\n",
    "  - 가로 인덱스와 세로 인덱스 사용\n",
    "\n",
    "```java\n",
    "int[][] scores = new int[2][3];\n",
    "\n",
    "scores.length // 2\n",
    "scores[0].length // 3\n",
    "scores[1].length // 3\n",
    "```"
   ]
  },
  {
   "cell_type": "markdown",
   "id": "ffd64fdc-25f4-415f-a067-0bd2f62f2bcf",
   "metadata": {},
   "source": [
    "- 자바는 1차원 배열이 서로 연결된 구조로 다차원 배열을 구현하기 때문에 수학 행렬 구조가 아닌 계단식 구조를 가질 수 있음\n",
    "\n",
    "```java\n",
    "int[][] scores = new int[2][];\n",
    "scores[0] = new int[2];\n",
    "scores[1] = new int[3];\n",
    "\n",
    "scores.length // 2\n",
    "scores[0].length // 2\n",
    "scores[1].length // 3\n",
    "```"
   ]
  },
  {
   "cell_type": "markdown",
   "id": "71b61dc5-fec6-416c-ae15-958501ef9ede",
   "metadata": {},
   "source": [
    "## 객체를 참조하는 배열\n",
    "- 참조 타입(클래스, 인터페이스) 배열은 각 항목에 객체의 번지를 가지고 있음\n",
    "- 반면, 기본 타입(byte, char, short, int, long, float, double, boolean) 배열은 각 항목에 직접 값을 가지고 있음\n",
    "- 예를 들어 String은 클래스이므로 String[] 배열은 각 항목에 문자열이 아니라, String 객체의 번지를 가지고 있음\n",
    "\n",
    "```java\n",
    "String[] strArray = new String[3];\n",
    "strArray[0] = \"Java\";\n",
    "strArray[1] = \"C++\";\n",
    "strArray[2] = \"C#\";\n",
    "```"
   ]
  },
  {
   "cell_type": "markdown",
   "id": "69d9e431-c885-459a-ad2f-dcdd5ca88fff",
   "metadata": {},
   "source": [
    "## 배열 복사\n",
    "- 배열은 한 번 생성하면 크기를 변경할 수 없음\n",
    "- 더 많은 저장 공간이 필요하다면 더 큰 배열을 새로 만들고 이전 배열로부터 항목 값들을 복사해야 함\n",
    "- 배열 간 항목 값들을 복사하려면 for 문을 사용하거나 System.arraycopy() 메소드를 사용\n",
    "\n",
    "- for 문 사용 예제\n",
    "```java\n",
    "int[] oldIntArray = {1, 2, 3};\n",
    "int[] newIntArray = new int[5];\n",
    "\n",
    "for(int i=0; i<oldIntArray.length; i++) {\n",
    "    newIntArray[i] = oldIntArray[i];\n",
    "}\n",
    "\n",
    "for(int i=0; i<newIntArray.length; i++) {\n",
    "    System.out.println(newIntArray[i] + \",\");\n",
    "}\n",
    "```"
   ]
  },
  {
   "cell_type": "markdown",
   "id": "1e244563-545d-41bb-a4c5-6b8b51b6fc45",
   "metadata": {},
   "source": [
    "- System.arraycopy() 메소드 사용\n",
    "  - System.arraycopy(Object src, int srcPos, Object dest, int destPos, int length);\n",
    "\n",
    "- 예제\n",
    "```java\n",
    "String[] oldStrArray = {\"java\", \"array\", \"copy\"};\n",
    "String[] newStrArray = new String[5];\n",
    "\n",
    "System.arraycopy(oldStrArray, 0, newStrArray, 0, oldStrArray.length);\n",
    "\n",
    "for(int i=0; i<newIntArray.length; i++) {\n",
    "    System.out.println(newIntArray[i] + \",\");\n",
    "}\n",
    "```\n",
    "\n",
    "- 복사되지 않은 항목은 String[] 배열의 초기값 null이 그대로 유지됨"
   ]
  },
  {
   "cell_type": "markdown",
   "id": "4d040ecb-635e-4f09-98a3-877f09569b57",
   "metadata": {},
   "source": [
    "## 향상된 for 문\n",
    "- 자바에서 배열이나 컬렉션을 좀 더 쉽게 처리하기 위해 향상된 for 문 제공\n",
    "- 반복 실행을 하기 위해 루프 카운터 변수와 증감식을 사용하지 않음\n",
    "\n",
    "```java\n",
    "for ( 타입 변수 : 배열 ) {\n",
    "    실행문;\n",
    "}\n",
    "```"
   ]
  },
  {
   "cell_type": "markdown",
   "id": "2e6969ca-0e90-43d1-9c5f-6c95e78ec819",
   "metadata": {},
   "source": [
    "- 예제\n",
    "```java\n",
    "int[] scores = {83, 90, 87};\n",
    "\n",
    "int sum = 0;\n",
    "for (int score : scores) {\n",
    "    sum = sum + score;\n",
    "}\n",
    "System.out.println(\"총합: \" + sum);\n",
    "\n",
    "double avg = (double) sum / scores.length;\n",
    "System.out.println(\"평균: \" + avg);\n",
    "```"
   ]
  },
  {
   "cell_type": "markdown",
   "id": "49addfe7-58ed-44d4-ae34-b684922647ec",
   "metadata": {},
   "source": [
    "# 2. 배열 사용의 문제점 \n",
    "## 키오스크 프로그램의 메뉴 데이터를 배열로 만드는 경우\n",
    "\n",
    "```java\n",
    "String[] names = {\"김치찌개\", \"불고기\", \"비빔밥\"};\n",
    "int[] prices = {8000, 9000, 7000};\n",
    "```\n"
   ]
  },
  {
   "cell_type": "markdown",
   "id": "c476cae9-e196-4fbe-9805-14320a6aceca",
   "metadata": {},
   "source": [
    "- 데이터 분리 문제\n",
    "  - 메뉴 이름 배열, 가격 배열, 카테고리 배열 등 각각을 별개의 배열로 관리해야 함\n",
    "  - 인덱스를 맞추는 것을 직접 신경 써서 해야 함 (인덱스 번호가 어긋나면 데이터 오류 발생)\n",
    "- 확장성 한계\n",
    "  - 새로운 속성(예: 메뉴 설명, 칼로리, 알레르기 정보)을 추가하려면 새로운 배열을 만들어야 함\n",
    "  - 코드 관리가 더 복잡해짐\n",
    "- 코드 가독성 저하\n",
    "  - names[i], prices[i], categories[i] 같이 여러 개의 배열을 사용하면서 인덱스를 맞춰야 하므로 코드 가독성이 떨어짐\n",
    "  - 다른 사람과 협업 시 버그 발생 가능성 증가"
   ]
  },
  {
   "cell_type": "markdown",
   "id": "e919ce18-c0a7-44dd-92f7-d992ebfffc29",
   "metadata": {},
   "source": [
    "## 대안 - 클래스(Class) 활용\n",
    "- 관련 데이터(속성) + 동작(메소드)를 하나로 묶어 표현 가능함\n",
    "- 하나의 객체가 하나의 메뉴를 완전하게 표현할 수 있음\r\n"
   ]
  },
  {
   "cell_type": "markdown",
   "id": "92984b63-2101-413c-9536-19badeda69c3",
   "metadata": {},
   "source": [
    "```java\n",
    "class MenuItem {\n",
    "    private String name;\n",
    "    private int price;\n",
    "\n",
    "    public MenuItem(String name, int price) {\n",
    "        this.name = name;\n",
    "        this.price = price;\n",
    "    }\n",
    "\n",
    "    public String getName() { return name; }\n",
    "    public int getPrice() { return price; }\n",
    "\n",
    "    void priceInfo() {\n",
    "        System.out.println(\"%s - %d원%n\", name, price);\n",
    "    }\n",
    "}\n",
    "```"
   ]
  },
  {
   "cell_type": "markdown",
   "id": "0da1ba94-8d77-4779-918f-3494b5d6a5f3",
   "metadata": {},
   "source": [
    "- 메뉴 이름 배열, 가격 배열 등 각각 분리된 배열이 아니라 객체 배열로 관리 가능"
   ]
  },
  {
   "cell_type": "markdown",
   "id": "ac0f382b-7422-4850-b6b5-ede4d9fc2d92",
   "metadata": {},
   "source": [
    "- MenuItem 객체로 이루어진 menus라는 이름의 배열을 생성한 예제 코드"
   ]
  },
  {
   "cell_type": "markdown",
   "id": "a5473212-80cf-4ff3-9ce6-e73665cac988",
   "metadata": {},
   "source": [
    "```java\n",
    "MenuItem[] menus = {\n",
    "    new MenuItem(\"김치찌개\", 8000),\n",
    "    new MenuItem(\"불고기\", 9000),\n",
    "    new MenuItem(\"비빔밥\", 7000)\n",
    "};\n",
    "```"
   ]
  },
  {
   "cell_type": "markdown",
   "id": "c2d9487c-c995-4973-b320-f3e3137bdd33",
   "metadata": {},
   "source": [
    "- menus 배열 사용 예제 코드"
   ]
  },
  {
   "cell_type": "markdown",
   "id": "b0470627-6573-4cba-8fd4-d559b6a4fad3",
   "metadata": {},
   "source": [
    "```java\n",
    "menus[0].printInfo(); // 출력 내용: 김치찌재 - 8000원 \n",
    "\n",
    "System.out.println(menus[1].getName()); // 출력 내용: 불고기\n",
    "```"
   ]
  },
  {
   "cell_type": "markdown",
   "id": "213336d7-d240-4c29-b71d-e85696a1d0bc",
   "metadata": {},
   "source": [
    "### 배열 vs 클래스 비교 \n",
    "\n",
    "| 구분 | 배열(Array) 기반 | 클래스(Class) 기반 |\n",
    "|------|------------------|--------------------|\n",
    "| **데이터 저장** | 메뉴 이름 배열, 가격 배열, 카테고리 배열 등 **여러 배열로 분리** | `MenuItem` 객체에 **이름, 가격, 카테고리 묶음** |\n",
    "| **코드 작성** | 인덱스를 맞춰 관리해야 함 <br> `menuNames[i]`, `menuPrices[i]` | 객체 단위로 관리 <br> `menuItems[i].getName()` |\n",
    "| **확장성** | 속성 추가 시 새로운 배열을 만들어야 함 | 클래스에 새로운 필드만 추가하면 됨 <br> (부가적으로 해당 필드의 getter/setter 메소드를 추가) |\n",
    "| **가독성** | 인덱스 맞추기 복잡, 직관성 낮음 | 한 객체에 관련 정보 묶여 가독성 높음 |\n",
    "| **유지보수** | 배열 개수가 늘어날수록 코드 복잡도 증가, 관리 어려움 | 클래스 구조만 수정하면 코드 유지보수 용이 |\n",
    "| **학습 포인트** | 자료구조(배열) 연습 | 객체지향 개념 이해 <br> 데이터 + 기능 묶음 연습 |\n",
    "\n"
   ]
  },
  {
   "cell_type": "markdown",
   "id": "9ec5bf59-e563-4700-86e7-ef02fcc265fd",
   "metadata": {},
   "source": [
    "# 3. 클래스\n",
    "### 혼공자 06-1 ~ 06-4 (p.234 ~ p.291)"
   ]
  },
  {
   "cell_type": "markdown",
   "id": "091362c7-1ca8-4ae8-b13a-66a393e9660b",
   "metadata": {},
   "source": [
    "## 객체 지향 프로그래밍\n",
    "- 객체: 물리적으로 존재하거나 추상적으로 생각할 수 있는 것 중에서 자신의 속성을 가지고 있으면서 식별 가능한 것\n",
    "  - 물리적으로 존재하는 객체: 자동차, 자전거, 책, 사람 등\n",
    "  - 추상적인 객체: 학과, 강의, 주문 등\n",
    "- 객체는 속성과 동작으로 구성\n",
    "  - 사람의 속성: 이름, 나이 등\n",
    "  - 사람의 동작: 웃다, 먹다 등\n",
    "  - 자동차의 속성: 색상, 속도 등\n",
    "  - 자동차의 동작: 달린다, 멈춘다 등\n",
    "- 속성: 필드\n",
    "- 동작: 메소드"
   ]
  },
  {
   "cell_type": "markdown",
   "id": "45330523-7552-405a-bbc9-a6f10751e9a0",
   "metadata": {},
   "source": [
    "- 객체 모델링: 현실 세계의 객체를 소프트웨어 객체로 설계하는 것\n",
    "  - 현실 세계 객체의 속성과 동작을 추려내어 소프트웨어 객체의 필드와 메소드로 정의하는 과정"
   ]
  },
  {
   "cell_type": "markdown",
   "id": "04aa7d74-6c28-46f9-aebe-60d8b9781d16",
   "metadata": {},
   "source": [
    "### 객체의 상호작용\n",
    "- 현실 세계에서 일어나는 모든 현상은 객체와 객체 간의 상호작용으로 이루어짐\n",
    "  - 예: 사람은 전자계산기의 기능을 이용하고, 전자계산기는 계산 결과를 사람에게 알려주는 상호작용\n",
    "- 소프트웨어에서도 마찬가지로 객체들은 각각 독립적으로 존재하고, 다른 객체와 서로 상호작용하면서 동작함\n",
    "  - 객체들 사이의 상호작용 수단은 메소드\n",
    "  - 한 객체가 다른 객체의 기능을 이용하는 것이 바로 **메소드 호출**"
   ]
  },
  {
   "cell_type": "markdown",
   "id": "1f9bc0ca-4a76-4a2e-8d50-c6db9dfc0489",
   "metadata": {},
   "source": [
    "### 객체 간의 관계\n",
    "- 객체 간 관계의 종류\n",
    "  - 집합 관계\n",
    "  - 사용 관계\n",
    "  - 상속 관계"
   ]
  },
  {
   "cell_type": "markdown",
   "id": "9dc0160c-d4cc-445d-8ce3-adc0142a2e1a",
   "metadata": {},
   "source": [
    "- 집합 관계: 하나는 부품이고 하나는 완성품에 해당 (완성품이 부품을 포함하는 것)\n",
    "  - 예: 자동차는 엔진, 타이어, 핸들 등으로 구성되므로 자동차 객체와 엔진, 타이어, 핸들 객체는 집합 관계라고 볼 수 있음"
   ]
  },
  {
   "cell_type": "markdown",
   "id": "7357b5fc-6fa7-44dd-9b2e-ccb44163d801",
   "metadata": {},
   "source": [
    "- 사용 관계: 객체 간의 상호작용\n",
    "  - 객체는 다른 객체의 메소드를 호출하여 원하는 결과를 얻어냄\n",
    "  - 예: 사람은 자동차를 사용하므로 사용 관계\n",
    "  - 사람이 자동차를 사용할 때, 자동차의 달린다, 멈춘다 등의 메소드를 호출"
   ]
  },
  {
   "cell_type": "markdown",
   "id": "46ade870-3782-49a8-b9a2-d13b7d60177e",
   "metadata": {},
   "source": [
    "- 상속 관계: 상위(부모) 객체를 기반으로 하위(자식) 객체를 생성하는 관계\n",
    "  - 일반적으로 상위 객체는 종류를 의미하고 하위 객체는 구체적인 사물에 해당\n",
    "  - 예: 자동차는 기계의 한 종류이므로 기계(상위)와 자동차(하위)는 상속 관계에 있음"
   ]
  },
  {
   "cell_type": "markdown",
   "id": "0c6124cb-92e9-4ed0-b617-7947da90ca78",
   "metadata": {},
   "source": [
    "- **객체 지향 프로그래밍**\n",
    "  - 만들고자 하는 완성품인 객체를 모델링하고\n",
    "  - 집합 관계에 있는 부품 객체와 사용 관계에 있는 객체를 하나씩 설계한 후\n",
    "  - 이를 조립하는 방식으로 프로그램을 개발하는 방법"
   ]
  },
  {
   "cell_type": "markdown",
   "id": "8d48de4f-98de-49fb-a28f-30006eedf565",
   "metadata": {},
   "source": [
    "### 객체와 클래스\n",
    "- 클래스(class): 객체를 만들기 위해 필요한 설계도 같은 역할\n",
    "  - 객체를 생성하기 위한 필드와 메소드가 정의되어 있음\n",
    "- 인스턴스(instance): 클래스로부터 만들어진 객체\n",
    "- 인스턴스화: 클래스로부터 객체를 만드는 과정\n",
    "- 하나의 클래스로부터 여러 개의 인스턴스를 만들 수 있음 -> 동일한 설계도로 여러 대의 자동차를 만드는 것과 동일한 개념"
   ]
  },
  {
   "cell_type": "markdown",
   "id": "da21da2e-1876-42d6-99fd-db4af29a5235",
   "metadata": {},
   "source": [
    "### 클래스 선언\n",
    "- 클래스 이름\n",
    "  - 예: 사람 객체의 클래스는 Person으로 자동차 객체의 클래스는 Car라는 이름을 줄 수 있음\n",
    "  - 자바의 식별자 작성 규칙에 따라야 함\n",
    "  - 영어 대소문자 구분\n",
    "  - 보통 첫 글자를 대문자로 하고 나머지는 소문자로\n",
    "  - 여러 개의 단어가 혼합된 이름의 경우 각 단어의 첫 글자를 대문자로: ChatClient, ChatServer\n",
    "  "
   ]
  },
  {
   "cell_type": "markdown",
   "id": "5ec27f00-3c81-4bff-9d19-2cc576370d43",
   "metadata": {},
   "source": [
    "- 식별자 작성 규칙\n",
    "  - 하나 이상의 문자: Car, SportsCar\n",
    "  - 첫 글자에는 숫자가 올 수 없음: 3Car (X)\n",
    "  - '$', '_' 외의 특수 문자 사용 불가: Sports#Car (X)\n",
    "  - 자바 키워드 사용 불가: int(X), for(X)"
   ]
  },
  {
   "cell_type": "markdown",
   "id": "a076cdcb-7c9b-423f-95aa-ef122fae8de7",
   "metadata": {},
   "source": [
    "- 소스 파일\n",
    "  - \"클래스이름\".java 로 소스 파일을 생성\n",
    "  - 소스 파일 이름 역시 대소문자를 구분하므로 반드시 클래스 이름과 대소문자가 같도록 해야 함"
   ]
  },
  {
   "cell_type": "markdown",
   "id": "e549d367-c3a1-4b20-aefa-eeca61824c56",
   "metadata": {},
   "source": [
    "- 클래스 선언\n",
    "  \n",
    "```java\n",
    "public class Car {\n",
    "}\n",
    "```"
   ]
  },
  {
   "cell_type": "markdown",
   "id": "74dda145-5b90-40b3-a0fe-3d786a5d5f16",
   "metadata": {},
   "source": [
    "- 일반적으로 소스 파일당 하나의 클래스를 선언\n",
    "- 하지만 2개 이상의 클래스 선언도 가능\n",
    "  - 2개 이상의 클래스가 선언된 소스 파일을 컴파일하면 바이트코드 파일(.class)은 선언한 클래스 수만큼 생김\n",
    "\n",
    "```java\n",
    "public class Car {\n",
    "}\n",
    "\n",
    "class Tire {\n",
    "}\n",
    "```\n",
    "\n",
    "- 위 코드를 컴파일하면 Car.class와 Tire.class가 각각 생성됨"
   ]
  },
  {
   "cell_type": "markdown",
   "id": "19dcc121-d0ba-4ee6-b8d2-2f13ca76b83b",
   "metadata": {},
   "source": [
    "- public 접근 제한자는 파일 이름과 동일한 이름의 클래스 선언에만 붙일 수 있음\n",
    "  - 파일 이름과 일치하지 않는 클래스 선언에 public 접근 제한자를 붙이면 컴파일 에러 발생"
   ]
  },
  {
   "cell_type": "markdown",
   "id": "4c2484dd-96ba-408c-bdf4-4b3f6775f786",
   "metadata": {},
   "source": [
    "### 객체 생성과 클래스 변수\n",
    "- 클래스로부터 객체를 생성하는 방법: new 연산자 사용\n",
    "\n",
    "```java\n",
    "Car myCar; // 여기서 myCar가 Car 클래스에 대한 변수\n",
    "myCar = new Car();\n",
    "\n",
    "Car myCar = new Car();\n",
    "```"
   ]
  },
  {
   "cell_type": "markdown",
   "id": "c1ab5072-6875-4619-a67a-927347525315",
   "metadata": {},
   "source": [
    "- new 연산자로 생성된 객체는 메모리 힙(heap) 영역에 생성\n",
    "- new 연산자는 힙 영역에 객체를 생성시킨 후 객체의 번지를 리턴하도록 되어 있음\n",
    "- 이 주소를 참조 타입인 클래스 변수에 저장해 두면 이 변수를 통해 객체를 사용할 수 있음"
   ]
  },
  {
   "cell_type": "markdown",
   "id": "354ebe9c-990a-4ecd-801f-3ad6ac708629",
   "metadata": {},
   "source": [
    "```java\n",
    "Car c1 = new Car();\n",
    "Car c2 = new Car();\n",
    "```\n",
    "- Car 클래스는 하나지만 new 연산자를 사용한 만큼 객체가 메모리에 생성됨\n",
    "- 이 객체들은 Car 클래스의 인스턴스\n",
    "- 같은 클래스로부터 생성되었지만 각각 자신만의 고유 데이터를 갖는 독립된 서로 다른 객체"
   ]
  },
  {
   "cell_type": "markdown",
   "id": "6b542b34-62f7-4f99-acd3-e80991ff65a9",
   "metadata": {},
   "source": [
    "### 클래스의 구성 멤버\n",
    "- 객체가 가져야 할 구성 멤버: 필드, 생성자, 메소드\n",
    "- 이 구성 멤버들은 생략되거나 복수의 개수로 작성될 수 있음\n"
   ]
  },
  {
   "cell_type": "markdown",
   "id": "be6af036-61ab-4f70-83c0-3a592ac9fea6",
   "metadata": {},
   "source": [
    "- 필드\n",
    "  - 객체의 고유 데이터, 부품 객체, 상태 정보를 저장\n",
    "  - 선언은 변수와 비슷하지만 변수라고 부르지는 않음\n",
    "  - 필드는 생성자와 메소드 전체에서 사용되며 객체가 소멸되지 않는 한 존재\n",
    "  "
   ]
  },
  {
   "cell_type": "markdown",
   "id": "a27e74f4-feef-490c-bd66-10a92eafa941",
   "metadata": {},
   "source": [
    "- 생성자\n",
    "  - new 연산자에 의해 호출되는 특별한 중괄호 {} 블록\n",
    "  - 객체 생성 시 초기화 담당\n",
    "  - 필드를 초기화하거나 메소드를 호출해서 객체를 사용할 준비를 함\n",
    "  - 메소드와 비슷하게 생겼지만 클래스 이름과 동일한 이름으로 되어 있고 리턴 타입이 없음"
   ]
  },
  {
   "cell_type": "markdown",
   "id": "f9ea5661-bc03-4d76-a510-f409479d6487",
   "metadata": {},
   "source": [
    "- 메소드\n",
    "  - 객체의 동작에 해당하는 중괄호 {} 블록\n",
    "  - 메소드 이름을 가지고 있음\n",
    "  - 메소드를 호출하면 중괄호 블록에 있는 코드들이 실행됨\n",
    "  - 객체 간 데이터를 전달하는 수단"
   ]
  },
  {
   "cell_type": "markdown",
   "id": "015de009-adcb-47c7-9e65-841e4dfa435e",
   "metadata": {},
   "source": [
    "## 필드\n",
    "### 필드 선언\n",
    "- 클래스 중괄호 {} 블록 어디서든 존재할 수 있음\n",
    "- 생성자 선언과 메소드 선언의 앞과 뒤 어떤 곳에서도 필드 선언 가능\n",
    "  - 생성자와 메소드 중괄호 {} 블록 내부에는 선언 불가능\n",
    "  - 생성자와 메소드 중괄호 블로 내부에 선언된 것은 모두 지역 변수가 됨"
   ]
  },
  {
   "cell_type": "markdown",
   "id": "a62bd3a8-57f7-4a4e-9db5-14c7af9f3701",
   "metadata": {},
   "source": [
    "- 타입 이름 [= 초기값];\n",
    "  \n",
    "```java\n",
    "public class Car {\n",
    "    // 필드\n",
    "    String company = \"현대자동차\";\n",
    "    String model = \"그랜저\";\n",
    "    String color = \"검정\";\n",
    "    int maxSpeed = 350;\n",
    "    int speed; // 초기값이 없는 경우\n",
    "}"
   ]
  },
  {
   "cell_type": "markdown",
   "id": "ccbdb7b6-2f2c-4bc1-bff8-c98001b913c9",
   "metadata": {},
   "source": [
    "- 초기값이 지정되지 않은 필드는 객체 생성 시 자동으로 기본 초기값으로 설정\n",
    "  - 숫자 타입: 0 (정수), 0.0 (실수)\n",
    "  - boolean: false\n",
    "  - 참조 타입: null"
   ]
  },
  {
   "cell_type": "markdown",
   "id": "2be635a1-572a-44d8-9502-c8e2703136ea",
   "metadata": {},
   "source": [
    "### 필드 사용\n",
    "- 필드값을 읽고 변경하는 작업\n",
    "- 클래스 내부의 생성자나 메소드에서 사용할 경우에는 단순히 필드 이름으로 읽고 변경하면 됨\n",
    "- 클래스 외부에서 사용할 경우 우선 객체를 생성한 뒤 필드를 사용할 수 있음"
   ]
  },
  {
   "cell_type": "markdown",
   "id": "9b8bd684-9228-40ab-8a53-354550d06449",
   "metadata": {},
   "source": [
    "```java\n",
    "public class CarExample {\n",
    "    public static void main(String[] args) {\n",
    "        // 객체 생성\n",
    "        Car myCar = new Car();\n",
    "\n",
    "        // 필드값 읽기\n",
    "        System.out.println(\"제조사: \" + myCar.company);\n",
    "        System.out.println(\"모델명: \" + myCar.model);\n",
    "        System.out.println(\"현재속도: \" + myCar.speed);\n",
    "\n",
    "        // 필드값 변경\n",
    "        myCar.speed = 60;\n",
    "        System.out.println(\"수정된 속도: \" + myCar.speed);\n",
    "    }\n",
    "}\n",
    "```"
   ]
  },
  {
   "cell_type": "markdown",
   "id": "e0647500-7725-4744-bdef-bdbb810bec48",
   "metadata": {},
   "source": [
    "## 생성자\n",
    "- 모든 클래스는 생성자가 반드시 존재\n",
    "- 하나 이상의 생성자를 가질 수 있음\n",
    "### 기본 생성자\n",
    "- 클래스 내부에 생성자 선언을 생략했다면 컴파일러는 다음과 같이 중괄호 {} 블록 내용이 비어 있는 기본 생성자를 바이트 코드에 자동 추가\n",
    "- [public] 클래스이름() { }\n",
    "    - 클래스가 public class로 선언되면 기본 생성자에서도 public이 붙지만, 클래스가 public 없이 선언되면 기본 생성자에도 public이 붙지 않음\n",
    "- 그렇기 때문에 클래스에 생성자를 선언하지 않아도 new 연산자 뒤에 기본 생성자를 호출해서 객체를 생성할 수 있음\n",
    "- 클래스에 명시적으로 선언한 생성자가 1개라도 있으면 컴파일러는 기본 생성자를 추가하지 않음"
   ]
  },
  {
   "cell_type": "markdown",
   "id": "6f0289a4-9f1d-458e-ae61-e65df8633c98",
   "metadata": {},
   "source": [
    "### 생성자 선언\n",
    "- 객체를 다양한 값으로 초기화하는 목적\n",
    "- 메소드와 비슷한 형태지만 리턴 타입이 없고 클래스 이름과 동일\n",
    "- 생성자 블록 내부에는 객체 초기화 코드가 작성되는데, 일반적으로 필드에 초기값을 저장하거나 메소드를 호출하여 객체 사용 전에 필요한 준비 수행\n",
    "- 매개 변수는 생략할 수도 있고 여러 개를 선언할 수 있음\n",
    "- 매개 변수는 생성자를 호출할 때 외부의 값을 생성자 블록 내부로 전달하는 역할\n",
    "\n",
    "```java\n",
    "public class Car {\n",
    "    // 생성자\n",
    "    Car(String model, String color, int maxSpeed) {\n",
    "        \n",
    "    }\n",
    "}\n",
    "\n",
    "public class CarExample {\n",
    "    public static void main(String[] args) {\n",
    "        // 객체 생성\n",
    "        Car myCar = new Car(\"그랜저\", \"검정\", 200);\n",
    "    }\n",
    "}\n",
    "```"
   ]
  },
  {
   "cell_type": "markdown",
   "id": "ab9907df-c02f-4f5d-afce-69f0db6f512f",
   "metadata": {},
   "source": [
    "### 필드 초기화\n",
    "- 필드를 선언할 때 초기값을 주는 방법\n",
    "  - 동일한 클래스로부터 생성되는 객체들은 객체 생성 시점에 모두 같은 필드값을 갖게 됨\n",
    "- 생성자에서 초기값을 주는 방법\n",
    "  - 객체 생성 시점에 외부에서 제공되는 다양한 값들로 초기화되어야 한다면 생성자에서 초기화 함\n",
    " \n",
    "```java\n",
    "public class Korean {\n",
    "    // 필드\n",
    "    String nation = \"대한민국\"; // 필드 선언 시 초기화\n",
    "    String name;\n",
    "    String ssn;\n",
    "\n",
    "    // 생성자\n",
    "    public Korean(String n, String s) {\n",
    "        name = n; // 생성자에서 초기화\n",
    "        ssn = s; // 생성자에서 초기화\n",
    "    }\n",
    "}"
   ]
  },
  {
   "cell_type": "markdown",
   "id": "d3804c76-16c7-4073-8239-a21036b1fd19",
   "metadata": {},
   "source": [
    "```java\n",
    "// 생성자\n",
    "public Korean(String name, String ssn) {\n",
    "    this.name = name; // 왼쪽 name과 오른쪽 name의 차이는?\n",
    "    this.ssn = ssn;\n",
    "}\n",
    "```\n",
    "- this: 객체 자신를 나타냄"
   ]
  },
  {
   "cell_type": "markdown",
   "id": "8e220ef4-6251-422a-9e20-ed7c67891afa",
   "metadata": {},
   "source": [
    "### 생성자 오버로딩\n",
    "- 매개 변수를 달리하는 생성자를 여러 개 선언하는 것\n",
    "  - 외부에서 제공되는 다양한 데이터를 이용해서 객체를 초기화하려면 생성자도 다양화될 필요가 있음\n",
    "- 생성자의 매개 변수 타입과 개수를 다르게 할 수 있음\n",
    "  - 매개 변수 이름만 바꾸는 것은 생성자 오버로딩 아님\n",
    "\n",
    "```java\n",
    "public class Car {\n",
    "    Car() { }\n",
    "    Car(String model) {\n",
    "        this.model = model;\n",
    "    }\n",
    "    Car(String model, String color) {\n",
    "        this.model = model;\n",
    "        this.color = color;\n",
    "    }\n",
    "    Car(String model, String color, int maxSpeed) {\n",
    "        this.model = model;\n",
    "        this.color = color;\n",
    "        this.maxSpeed = maxSpeed;\n",
    "    }\n",
    "}\n",
    "```"
   ]
  },
  {
   "cell_type": "markdown",
   "id": "b6dd5d75-dcd4-4cdd-89ec-0d85a222e1df",
   "metadata": {},
   "source": [
    "- 생성자가 오버로딩 되어 있을 경우 생성자를 호출할 때 제공되는 매개 변수 값의 타입과 개수에 의해 호출될 생성자가 결정됨\n",
    "\n",
    "```java\n",
    "Car car1 = new Car();\n",
    "Car car2 = new Car(\"그랜저\");\n",
    "Car car3 = new Car(\"그랜저\", \"흰색\");\n",
    "Car car4 = new Car(\"그랜저\", \"흰색\", 300);\n",
    "```"
   ]
  },
  {
   "cell_type": "markdown",
   "id": "f315a035-bb5f-4b79-b9d6-940121b8e121",
   "metadata": {},
   "source": [
    "### 다른 생성자 호출: this()\n",
    "- 생성자 오버로딩이 많아질 경우 생성자 간의 중복된 코드가 발생할 수 있음\n",
    "- 매개 변수의 수만 달리하고 필드 초기화 내용이 비슷한 생성자에서 이런 코드 중복이 많이 나타날 수 있음\n",
    "- 이 경우 필드 초기화 내용은 한 생성자에만 집중적으로 작성하고 나머지 생성자는 초기화 내용을 가지고 있는 생성자를 호출하는 방법으로 코드를 개선할 수 있음\n",
    "\n",
    "```java\n",
    "Car(String model) {\n",
    "    this.model = model;\n",
    "    this.color = \"은색\";\n",
    "    this.maxSpeed = 250;\n",
    "}\n",
    "\n",
    "Car(String model, String color) {\n",
    "    this.model = model;\n",
    "    this.color = color;\n",
    "    this.maxSpeed = 250;\n",
    "}\n",
    "\n",
    "Car(String model, String color, int maxSpeed) {\n",
    "    this.model = model;\n",
    "    this.color = color;\n",
    "    this.maxSpeed = maxSpeed;\n",
    "}\n",
    "```"
   ]
  },
  {
   "cell_type": "markdown",
   "id": "a5267c7d-14db-4b2a-b21f-ec30c2709d27",
   "metadata": {},
   "source": [
    "- 개선 코드\n",
    "  \n",
    "```java\n",
    "Car(String model) {\n",
    "    this(model, \"은색\", 250);\n",
    "}\n",
    "\n",
    "Car(String model, String color) {\n",
    "    this(model, color, 250);\n",
    "}\n",
    "\n",
    "Car(String model, String color, int maxSpeed) {\n",
    "    this.model = model;\n",
    "    this.color = color;\n",
    "    this.maxSpeed = maxSpeed;\n",
    "}\n",
    "```"
   ]
  },
  {
   "cell_type": "markdown",
   "id": "3af61007-a70e-4180-adda-2b5942e29472",
   "metadata": {},
   "source": [
    "## 메소드\n",
    "### 메소드 선언\n",
    "- 메소드 선언은 선언부와 실행 블록으로 구성\n",
    "- 메소드 선언부: 메소드 시그너처(signature)\n",
    "  - 리턴 타입\n",
    "  - 메소드 이름\n",
    "  - 매개 변수 선언"
   ]
  },
  {
   "cell_type": "markdown",
   "id": "0a7f2601-f9c0-491e-b26b-4049c322ee5b",
   "metadata": {},
   "source": [
    "- 리턴 타입: 메소드에서 리턴하는 값의 타입\n",
    "  - 메소드는 리턴값이 있을 수도 있고 없을 수도 있음\n",
    "  - 리턴값이 있을 경우 해당 타입으로 리턴 타입이 명시되어야 함: 메소드 블록 내부에서 반드시 return 문을 사용해서 리턴값을 지정해야 함\n",
    "  - 리턴값이 없을 경우 void"
   ]
  },
  {
   "cell_type": "markdown",
   "id": "ac0c48cc-af49-4e67-a590-a01cfeda6ca1",
   "metadata": {},
   "source": [
    "- 메소드 이름\n",
    "  - 숫자로 시작하면 안 됨\n",
    "  - $와 _를 제외한 특수 문자 사용 안 됨\n",
    "  - 소문자로 작성\n",
    "  - 여러 단어가 혼합된 이름이라면 뒤이어 나오는 단어의 첫 글자는 대문자로\n",
    " \n",
    "```java\n",
    "void run()\n",
    "void startEngine()\n",
    "String getName()\n",
    "int[] getScores()\n",
    "```"
   ]
  },
  {
   "cell_type": "markdown",
   "id": "8c1184a2-cd4a-4866-8b5f-c79d3c3da18a",
   "metadata": {},
   "source": [
    "- 매개 변수 선언\n",
    "  - 메소드가 실행할 때 필요한 데이터를 외부로부터 받기 위해 사용\n",
    " \n",
    "```java\n",
    "public class Calculator {\n",
    "    void powerOn() { // 매개 변수 선언 없음\n",
    "        System.out.println(\"전원을 켭니다.\");\n",
    "    }\n",
    "\n",
    "    int plus(int x, int y) { // 2개의 int 형 매개 변수 선언\n",
    "        int result = x + y;\n",
    "        return result;\n",
    "    }\n",
    "\n",
    "    double divide(int x, int y) { // 2개의 int 형 매개 변수 선언\n",
    "        double result = (double)x / (double)y;\n",
    "        return result;\n",
    "    }\n",
    "\n",
    "    void powerOff() {\n",
    "        System.out.println(\"전원을 끕니다.\");\n",
    "    }\n",
    "}\n",
    "```"
   ]
  },
  {
   "cell_type": "markdown",
   "id": "75a4cba5-3311-4748-bbcb-b244efb449b1",
   "metadata": {},
   "source": [
    "```java\n",
    "publc class CalculatorExample {\n",
    "    public static void main(String[] args) {\n",
    "        Calculator myCal = new Calculator();\n",
    "        myCal.powerOn(); // 메소드 호출\n",
    "\n",
    "        int result1 = myCal.plus(5, 6); // 메소드 호출 - 매개 변수 개수만큼 인자 값을 전달해야 함\n",
    "        System.out.println(\"result1: \" + result1);\n",
    "    }\n",
    "}\n",
    "```\n",
    "        "
   ]
  },
  {
   "cell_type": "markdown",
   "id": "9f3fea5a-182b-4313-82e6-301190dbb988",
   "metadata": {},
   "source": [
    "- 매개 변수의 개수를 모를 경우\n",
    "  - 메소드를 선언할 때 매개 변수의 개수를 알 수 없는 경우도 있음\n",
    "  - 매개 변수를 배열 타입으로 선언\n",
    "  - 매개 변수를 ...를 사용해서 선언\n",
    "  - p.275 예제 코드 참고"
   ]
  },
  {
   "cell_type": "markdown",
   "id": "c6269062-0ac7-4b24-93d1-44ffe08bb447",
   "metadata": {},
   "source": [
    "### 메소드 호출\n",
    "- 메소드는 클래스 내,외부의 호출에 의해 실행됨\n",
    "- 클래스 내부의 다른 메소드에서 호출할 경우 단순히 메소드 이름으로 호출하면 됨\n",
    "- 클래스 외부에서 호출할 경우에는 먼저 클래스 객체를 생성한 뒤 이 객체의 참조 변수를 이용해서 메소드를 호출해야 함\n",
    "\n",
    "```java\n",
    "public class Calculator {\n",
    "    void powerOn() { \n",
    "        System.out.println(\"전원을 켭니다.\");\n",
    "    }\n",
    "\n",
    "    int plus(int x, int y) { \n",
    "        int result = x + y;\n",
    "        return result;\n",
    "    }\n",
    "\n",
    "    double avg(int x, int y) {\n",
    "        double sum = plus(x, y); // 클래스 내부의 avg 메소드에서 plus 메소드 호출\n",
    "        double result = sum / 2;\n",
    "        return result;\n",
    "    }\n",
    "\n",
    "    void execute() {\n",
    "        double result = avg(7, 10); // avg 메소드 호출\n",
    "        println(\"실행결과: \" + result); // println 메소드 호출\n",
    "    }\n",
    "\n",
    "    void println(String message) {\n",
    "        System.out.println(message);\n",
    "    }\n",
    "}\n",
    "\n",
    "\n",
    "public class CalculatorExample {\n",
    "    public static void main(String[] args) {\n",
    "        Calculator myCal = new Calculator();\n",
    "        myCal.execute(); // 클래스 외부에서 execute 메소드 호출. 윗줄에서 Calculator 객체를 myCal이라는 참조 변수로 생성하여 이용\n",
    "    }\n",
    "}"
   ]
  },
  {
   "cell_type": "markdown",
   "id": "33fa50d5-5522-45ca-b57a-244e8c16faed",
   "metadata": {},
   "source": [
    "### 메소드 오버로딩\n",
    "- 클래스 내에 같은 이름의 메소드를 여러 개 선언하는 것\n",
    "- 매개 변수의 타입, 개수, 순서 중 하나가 달라야 함\n",
    "- 메소드 오버로딩이 필요한 이유: 매개 변수 값을 다양하게 받아 처리할 수 있도록 하기 위함\n",
    "\n",
    "```java\n",
    "// 아래 plus 메소드를 호출하기 위해서는 2개의 int 매개 변수 값이 필요\n",
    "// double 타입의 값을 덧셈하기 위해서는 이 plus 메소드를 호출할 수 없음\n",
    "int plus(int x, int y) { \n",
    "    int result = x + y;\n",
    "    return result;\n",
    "}\n",
    "\n",
    "double plus(double x, double y) {\n",
    "    double result = x + y;\n",
    "    return result;\n",
    "}\n",
    "\n",
    "plus(10, 20);\n",
    "plus(10.5, 20.3);\n",
    "```"
   ]
  },
  {
   "cell_type": "code",
   "execution_count": null,
   "id": "07e60cf7-664f-4fbf-9b51-7a32c052cf65",
   "metadata": {},
   "outputs": [],
   "source": []
  }
 ],
 "metadata": {
  "kernelspec": {
   "display_name": "Python 3 (ipykernel)",
   "language": "python",
   "name": "python3"
  },
  "language_info": {
   "codemirror_mode": {
    "name": "ipython",
    "version": 3
   },
   "file_extension": ".py",
   "mimetype": "text/x-python",
   "name": "python",
   "nbconvert_exporter": "python",
   "pygments_lexer": "ipython3",
   "version": "3.12.4"
  }
 },
 "nbformat": 4,
 "nbformat_minor": 5
}
