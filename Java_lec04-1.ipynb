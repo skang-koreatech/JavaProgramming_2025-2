{
 "cells": [
  {
   "cell_type": "markdown",
   "id": "e0347503-f8ba-4163-a2ef-e380970babdc",
   "metadata": {},
   "source": [
    "# 자바프로그래밍 (01분반)"
   ]
  },
  {
   "cell_type": "markdown",
   "id": "f59d9ffc-d5a8-4212-97a9-50dc350d761d",
   "metadata": {},
   "source": [
    "# 1. 클래스 - 인스턴스 멤버와 정적 멤버\n",
    "### 혼공자 06-5 (p.292 ~ p.307)"
   ]
  },
  {
   "cell_type": "markdown",
   "id": "fd331122-d128-462a-bc7f-f535fe840e31",
   "metadata": {},
   "source": [
    "## 클래스 멤버\n",
    "- 필드: 객체의 속성, 상태를 나타내는 데이터\n",
    "- 메소드: 객체의 동작, 기능을 나타내는 함수\n",
    "\n",
    "### 객체(인스턴스)\n",
    "- 정의된 하나의 클래스에서 여러 개의 객체(인스턴스)가 생성될 수 있음"
   ]
  },
  {
   "cell_type": "markdown",
   "id": "f40b3122-074e-4277-87f4-9c5988a457e7",
   "metadata": {},
   "source": [
    "- 아래 Car 클래스는 현대자동차에서 만드는 자동차를 모델링한 클래스라고 해보자\n",
    "  \n",
    "```java\n",
    "// 예제: Week4Test1\n",
    "\n",
    "class Car {\n",
    "\tString company = \"Hyundai\";\n",
    "    String model;\n",
    "    String color;\n",
    "   \n",
    "    Car(String model, String color) {\n",
    "        this.model = model;\n",
    "        this.color = color;\n",
    "    }\n",
    "\n",
    "    void showInfo() {\n",
    "        System.out.println(\"제조사: \" + company + \", 모델: \" + model + \", 색상: \" + color);\n",
    "    }\n",
    "}\n",
    "\n",
    "public class Test {\n",
    "    public static void main(String[] args) {\n",
    "    \t// 자동차 생산 - 객체 생성하는 것을 자동차 생산하는 것으로 생각해보자\n",
    "        Car c1 = new Car(\"Sonata\", \"White\");\n",
    "        Car c2 = new Car(\"Avante\", \"Black\");\n",
    "\n",
    "        c1.showInfo();\n",
    "        c2.showInfo();\n",
    "    }\n",
    "}\n",
    "``` "
   ]
  },
  {
   "cell_type": "markdown",
   "id": "aaf902f2-423b-4f38-be49-3884aef7845a",
   "metadata": {},
   "source": [
    "- 위 코드의 실행 결과\n",
    "##### 제조사: Hyundai, 모델: Sonata, 색상: White\n",
    "##### 제조사: Hyundai, 모델: Avante, 색상: Black"
   ]
  },
  {
   "cell_type": "markdown",
   "id": "a403b241-e351-499b-8ba0-e5bebcf700ec",
   "metadata": {},
   "source": [
    "- 클래스에 정의된 멤버(필드와 메소드)는 객체마다 가지고 있어야 하는가?\n",
    "- 객체마다 필드값이 달라야 한다면 해당 필드는 객체마다 가지고 있는 것이 맞음\n",
    "  - 예: 학생 클래스에서 이름, 학번은 객체마다 달라지는 값\n",
    "- 모든 객체가 동일한 필드값을 갖고 있어야 한다면 이 필드를 객체마다 가지고 있을 필요가 없음\n",
    "  - 객체마다 가지고 있으면 메모리가 낭비됨\n",
    "  - 모든 객체의 필드값을 같게 맞추는 작업이 필요할 수 있음\n",
    "- 위 Car 클래스의 필드 중 company의 값은 모두 \"Hyundai\"로 동일하고 생성되는 객체는 모두 이 필드를 가지게 됨"
   ]
  },
  {
   "cell_type": "markdown",
   "id": "70471626-93cb-49a0-81ab-3caae2c7a633",
   "metadata": {},
   "source": [
    "#### 인스턴스 멤버\n",
    "- 객체마다 가지고 있는 멤버\n",
    "\n",
    "#### 정적 멤버\n",
    "- 클래스에 위치시키고 모든 객체가 공유하는 멤버"
   ]
  },
  {
   "cell_type": "markdown",
   "id": "dbca57ac-8d5e-4178-ad36-b7070dc7bbe4",
   "metadata": {},
   "source": [
    "### 인스턴스 멤버와 this\n",
    "- 인스턴스 멤버란 객체(인스턴스)를 생성한 후 사용할 수 있는 필드와 메소드\n",
    "  - 인스턴스 필드, 인스턴스 메소드\n",
    "- 지금까지 작성한 필드와 메소드는 인스턴스 멤버였음\n",
    "- 객체에 소속된 멤버이기 때문에 객체 없이는 사용할 수 없음"
   ]
  },
  {
   "cell_type": "markdown",
   "id": "7dac5bad-da17-492f-abc1-fa3576b20947",
   "metadata": {},
   "source": [
    "- this 키워드\n",
    "  - 객체 내부에서 인스턴스 멤버에 접근하기 위해 사용\n",
    "  - 객체 자신을 표현"
   ]
  },
  {
   "cell_type": "markdown",
   "id": "da40b51a-fe73-4e97-b553-1f78832f53f0",
   "metadata": {},
   "source": [
    "```java\n",
    "class Car {\n",
    "    // 필드\n",
    "    String model;\n",
    "    int speed;\n",
    "\n",
    "    // 생성자\n",
    "    Car(String model) {\n",
    "        this.model = model;\n",
    "    }\n",
    "\n",
    "    // 메소드\n",
    "    void setSpeed(int speed) {\n",
    "        this.speed = speed;\n",
    "    }\n",
    "\n",
    "    void run() {\n",
    "        for(int i=10; i<=50; i+=10) {\n",
    "            this.setSpeed(i);\n",
    "            System.out.println(this.model + \"가 달립니다.(시속:\" + this.speed + \"km/h\");\n",
    "        }\n",
    "    }\n",
    "}\n",
    "\n",
    "public class CarExample {\n",
    "    public static void main(String[] args) {\n",
    "        Car myCar = new Car(\"포르쉐\");\n",
    "        Car yourCar = new Car(\"벤츠\");\n",
    "\n",
    "        myCar.run();\n",
    "        yourCar.run();\n",
    "    }\n",
    "}\n",
    "```"
   ]
  },
  {
   "cell_type": "markdown",
   "id": "0a1383a3-d0f5-41db-bb9b-f35fba7193a0",
   "metadata": {},
   "source": [
    "### 정적 멤버와 static\n",
    "- 정적은 '고정된'이란 의미\n",
    "- 정적 멤버는 클래스에 고정된 멤버로서 객체를 생성하지 않고 사용할 수 있는 필드와 메소드\n",
    "  - 정적 필드, 정적 메소드"
   ]
  },
  {
   "cell_type": "markdown",
   "id": "dc5f3b99-5804-4a16-ac39-a93b5b141a0f",
   "metadata": {},
   "source": [
    "#### 정적 멤버 선언\n",
    "- 필드와 메소드 선언 시 static 키워드를 붙임\n",
    "- 객체마다 가지고 있을 필요가 없는 공용 데이터는 정적 필드로 선언\n",
    "- 메소드가 인스턴스 필드를 포함하고 있지 않다면 정적 메소드로 선언"
   ]
  },
  {
   "cell_type": "markdown",
   "id": "db110204-baeb-40db-8a23-9bfc5e6aaf79",
   "metadata": {},
   "source": [
    "```java\n",
    "class Calculator {\n",
    "    String color; // 계산기 별로 색깔이 다를 수 있음 - 인스턴스 필드\n",
    "    static double pi = 3.14159; // 계산기에서 사용하는 파이 값은 동일 - 정적 필드\n",
    "\n",
    "    void setColor(String color) { // 인스턴스 메소드\n",
    "        this.color = color;\n",
    "    }\n",
    "\n",
    "    static int plus(int x, int y) { // 외부에서 주어진 두 개의 정수 값을 가지고 계산하고 인스턴스 필드를 사용하지 않음 - 정적 메소드\n",
    "        return x + y;\n",
    "    }\n",
    "\n",
    "    static int minus(int x, int y) { // 정적 메소드\n",
    "        return x - y;\n",
    "    }\n",
    "}\n",
    "```"
   ]
  },
  {
   "cell_type": "markdown",
   "id": "6b25bf68-bb9f-4e8b-ad08-02cb81223527",
   "metadata": {},
   "source": [
    "#### 정적 멤버 사용\n",
    "- 클래스가 메모리로 로딩되면 정적 멤버를 바로 사용할 수 있음\n",
    "- 아래와 같은 형식으로 사용\n",
    "    - 클래스이름.필드;\n",
    "    - 클래스이름.메소드(매개값, ...);"
   ]
  },
  {
   "cell_type": "markdown",
   "id": "0546f809-00e8-4afe-8311-5a8fd49f4b8a",
   "metadata": {},
   "source": [
    "```java\n",
    "double result1 = Calculator.pi * 100 * 100; // Calculator 클래스의 객체 생성 없이, pi 필드 값을 사용\n",
    "int result2 = Calculator.plus(10, 5); // Calculator 클래스의 객체 생성 없이, plus() 메소드 사용\n",
    "int result3 = Calculator.minus(10, 5); // Calculator 클래스의 객체 생성 없이, minus() 메소드 사용\n",
    "```"
   ]
  },
  {
   "cell_type": "markdown",
   "id": "d40264c2-0cee-4169-a207-f8b9fc65e1c4",
   "metadata": {},
   "source": [
    "#### 정적 메소드 선언 시 주의할 점\n",
    "- 객체가 없어도 실행된다는 특징 때문에 정적 메소드를 선언할 때는 이들 내부에 인스턴스 필드나 인스턴스 메소드를 사용할 수 없음\n",
    "- 객체 자신의 참조인 this 키워드도 사용할 수 없음"
   ]
  },
  {
   "cell_type": "markdown",
   "id": "6298acc0-11b5-4d15-b150-7f172ef8c36c",
   "metadata": {},
   "source": [
    "```java\n",
    "public class ClassName {\n",
    "    // 인스턴스 필드와 메소드\n",
    "    int field1;\n",
    "    void method1() { ... }\n",
    "\n",
    "    // 정적 필드와 메소드\n",
    "    static int field2;\n",
    "    static void method2() { ... }\n",
    "\n",
    "    // 정적 메소드\n",
    "    static void method3() {\n",
    "        this.field1 = 10; // 컴파일 에러 - this 키워드, 인스턴스 필드 사용 불가능\n",
    "        this.method1(); // 컴파일 에러 - this 키워드, 인스턴스 필드 사용 불가능\n",
    "        field2 = 10; // field2는 정적 필드이므로 사용 가능\n",
    "        method2(); // method2는 정적 메소드이므로 사용 가능\n",
    "    }\n",
    "}\n",
    "```"
   ]
  },
  {
   "cell_type": "markdown",
   "id": "cc54919e-bd25-4d1c-b906-808a1baf1c42",
   "metadata": {},
   "source": [
    "```java\n",
    "    static void method3() {\n",
    "        ClassName obj = new ClassName(); // 객체 생성 후 이 객체 참조 변수를 통해 인스턴스 필드와 인스턴스 메소드 사용\n",
    "        obj.field1 = 10;\n",
    "        obj.method1();\n",
    "    }\n",
    "```"
   ]
  },
  {
   "cell_type": "markdown",
   "id": "7514eec9-10ed-4e09-967d-592e9cc0fff2",
   "metadata": {},
   "source": [
    "#### main() 메소드\n",
    "- 자바 프로그램이 실행될 때 맨 처음 호출되는 main() 메소드도 정적 메소드\n",
    "- 객체 생성 없이 인스턴스 필드와 인스턴스 메소드를 바로 사용할 수 없음"
   ]
  },
  {
   "cell_type": "markdown",
   "id": "341127f7-5661-4853-9e52-f22c683e0b86",
   "metadata": {},
   "source": [
    "```java\n",
    "public class Car {\n",
    "    int speed;\n",
    "\n",
    "    void run() {\n",
    "        System.out.println(speed + \"으로 달립니다.\");\n",
    "    }\n",
    "\n",
    "    public static void main(String[] args) { // Car 클래스에 정의된 main() 메소드\n",
    "        Car myCar = new Car(); // Car 클래스 객체 생성 후 인스턴스 필드 speed, 인스턴스 메소드 run() 사용 가능\n",
    "        myCar.speed = 60;\n",
    "        myCar.run();\n",
    "    }\n",
    "}\n",
    "```"
   ]
  },
  {
   "cell_type": "markdown",
   "id": "029ca17a-bd48-4d2a-9c64-b371b96a2dd9",
   "metadata": {},
   "source": [
    "- 다음 Car 클래스에서 Car 클래스 객체 생성을 자동차 생산으로 보자\n",
    "- 이때 정적 필드와 정적 메소드를 이용하여 총 생산된 자동차 수를 구하는 것을 하고 있음"
   ]
  },
  {
   "cell_type": "markdown",
   "id": "3441b0fa-be7c-4905-85a8-bde7e4802db2",
   "metadata": {},
   "source": [
    "```java\n",
    "// 예제: Week4Test2\n",
    "\n",
    "package kr.ac.koreatech;\r\n",
    "\r\n",
    "class Car {\r\n",
    "    String model;\r\n",
    "    String color;\r\n",
    "\r\n",
    "    // 전체 생산된 자동차 수 (공유 데이터)\r\n",
    "    static int totalCars = 0;\r\n",
    "\r\n",
    "    Car(String model, String color) {\r\n",
    "        this.model = model;\r\n",
    "        this.color = color;\r\n",
    "        totalCars++;\r\n",
    "    }\r\n",
    "\r\n",
    "    void showInfo() {\r\n",
    "        System.out.println(\"모델: \" + model + \", 색상: \" + color);\r\n",
    "    }\r\n",
    "\r\n",
    "    static void showTotalCars() {\r\n",
    "        System.out.println(\"총 생산된 자동차 수: \" + totalCars);\r\n",
    "    }\r\n",
    "}\r\n",
    "\r\n",
    "public class Test {\r\n",
    "    public static void main(String[] args) {\r\n",
    "        Car c1 = new Car(\"Sonata\", \"White\");\r\n",
    "        Car c2 = new Car(\"Avante\", \"Black\");\r\n",
    "\r\n",
    "        c1.showInfo();\r\n",
    "        c2.showInfo();\r\n",
    "\r\n",
    "        Car.showTotalCars(); // 총 생산된 자동차 수: 2\r\n",
    "    }\r\n",
    "}\r\n"
   ]
  },
  {
   "cell_type": "markdown",
   "id": "a3a0a59d-6f3a-49ce-a631-846e8523e179",
   "metadata": {},
   "source": [
    "### 싱글톤 (Singleton)\n",
    "- 전체 프로그램에서 단 하나의 객체만 만들도록 보장해야 하는 경우가 있는데, 이런 객체를 싱글톤이라고 함\n",
    "- 싱글톤을 만들려면 클래스 외부에서 new 연산자로 생성자를 호출할 수 없도록 막아야 함\n",
    "  - 생성자를 외부에서 호출할 수 없도록 하려면 생성자 앞에 private 접근 제한자를 붙여줌\n",
    "- 클래스 타입의 정적 필드를 하나 선언하고 자신의 객체를 생성해 초기화\n",
    "  - 클래스 내부에서는 new 연산자로 생성자 호출 가능\n",
    "- 정적 필드도 private 접근 제한자를 붙여 외부에서 필드값을 변경하지 못하도록 막음\n",
    "- 외부에서 호출할 수 있는 정적 메소드인 getInstance()를 선언하고 자신의 객체를 리턴"
   ]
  },
  {
   "cell_type": "markdown",
   "id": "4fde92cb-9347-4906-914d-2d43ff0a73bf",
   "metadata": {},
   "source": [
    "```java\n",
    "public class Singleton {\n",
    "    private static Singleton singleton = new Singleton(); // 정적 필드 - Singleton 클래스의 첵체를 생성하여 초기화\n",
    "\n",
    "    private Singleton() {} // 생성자를 외부에서 호출할 수 없도록 private 접근 제한자 붙임\n",
    "\n",
    "    static Singleton getInstance() {\n",
    "        return singleton; // 정적 필드로 참조하는 Singleton 클래스 객체 리턴\n",
    "    }\n",
    "}\n",
    "\n",
    "public class SingletonExample {\n",
    "    public static void main(String[] args) {\n",
    "        Singleton obj1 = new Singleton(); // 컴파일 에러\n",
    "        Singleton obj2 = new Singleton(); // 컴파일 에러\n",
    "\n",
    "        Singleton obj1 = Singleton.getInstance();\n",
    "        Singleton obj2 = Singleton.getInstance();\n",
    "\n",
    "        if(obj1 == obj2) {\n",
    "            System.out.println(\"같은 Singleton 객체입니다.\");\n",
    "        } else {\n",
    "            System.out.println(\"다른 Singleton 객체입니다.\");\n",
    "        }\n",
    "    }\n",
    "}\n",
    "```"
   ]
  },
  {
   "cell_type": "markdown",
   "id": "b150b5ed-178d-4027-8438-2fc25f0d2adc",
   "metadata": {},
   "source": [
    "- 싱글톤을 사용해야 하는 경우의 예제\n",
    "  - 게임 레벨/점수 관리: 여러 플레이어가 접속하여 게임을 할 수 있지만 게임 전체 상태(현재 레벨, 점수판 등)은 하나만 유지되어야 함\n",
    "  - 또 다른 경우는?"
   ]
  },
  {
   "cell_type": "markdown",
   "id": "55e61a1d-0a7a-4e5a-9a8b-6c1e2e9ce078",
   "metadata": {},
   "source": [
    "```java\n",
    "class GameManager {\n",
    "    private static GameManager instance = new GameManager();\n",
    "    private int score = 0;\n",
    "\n",
    "    private GameManager() {}\n",
    "\n",
    "    public static GameManager getInstance() {\n",
    "        return instance;\n",
    "    }\n",
    "\n",
    "    public void addScore(int points) {\n",
    "        score += points;\n",
    "    }\n",
    "\n",
    "    public int getScore() {\n",
    "        return score;\n",
    "    }\n",
    "}\n",
    "\n",
    "public class Main {\n",
    "    public static void main(String[] args) {\n",
    "        GameManager game1 = GameManager.getInstance();\n",
    "        GameManager game2 = GameManager.getInstance();\n",
    "\n",
    "        game1.addScore(10);\n",
    "        System.out.println(\"점수: \" + game2.getScore()); // 10 (같은 객체이므로 공유됨)\n",
    "    }\n",
    "}\n"
   ]
  },
  {
   "cell_type": "markdown",
   "id": "28ed8911-1495-4c65-b11a-6f328f5c8538",
   "metadata": {},
   "source": [
    "### final 필드와 상수\n",
    "#### final 필드\n",
    "- final 필드: 초기값이 저장되면 이것이 최종적인 값이 되어서 프로그램 실행 도중에 수정할 수 없음\n",
    "- final 필드의 초기값 설정 방법\n",
    "  - 필드 선언 시 초기값 설정\n",
    "  - 생성자에서 초기값 설정\n",
    "- 생성자는 final 필드의 최종 초기화를 마쳐야 하는데 만약 초기화되지 않은 final 필드를 그대로 남겨두면 컴파일 에러 발생"
   ]
  },
  {
   "cell_type": "markdown",
   "id": "b7baa732-a678-4460-9bc4-ae00889ba87c",
   "metadata": {},
   "source": [
    "```java\n",
    "public class Person {\n",
    "    final String nation = \"Korea\"; // final 필드 - 필드 선언시 초기화\n",
    "    final String ssn; // final 필드\n",
    "    String name;\n",
    "\n",
    "    public Person(String ssn, String name) {\n",
    "        this.ssn = ssn; // 생성자에서 final 필드 초기화\n",
    "        this.name = name;\n",
    "    }\n",
    "}\n",
    "\n",
    "public class PersonExample {\n",
    "    public static void main(String[] args) {\n",
    "        Person p1 = new Person(\"123456-1234567\", \"홍길동\"); // 객체 생성\n",
    "\n",
    "        System.out.println(p1.nation);\n",
    "        System.out.println(p1.ssn);\n",
    "        System.out.println(p1.name);\n",
    "\n",
    "        p1.nation = \"usa\"; \n",
    "        p1.ssn = \"654321-1234567\";\n",
    "        p1.name = \"홍삼원\";\n",
    "    }\n",
    "}\n",
    "```"
   ]
  },
  {
   "cell_type": "markdown",
   "id": "bbba0f2b-ca96-4423-88dc-9afe6f685d96",
   "metadata": {},
   "source": [
    "#### 상수\n",
    "- 일반적으로 불변의 값을 상수라고 부름\n",
    "- 불변의 값을 저장하는 필드를 자바에서 상수라고 함\n",
    "- final 필드는 한 번 초기화되면 수정할 수 없는 필드\n",
    "    - final 필드를 상수라고 부를 수 있는가?"
   ]
  },
  {
   "cell_type": "markdown",
   "id": "38a02d94-5034-46c7-a948-e16a3033441d",
   "metadata": {},
   "source": [
    "- final 필드는 객체마다 저정되고 생성자의 매개값을 통해서 여러 가지 값을 가질 수 있음\n",
    "- 상수는 객체마다 저장할 필요가 없는 불변의 값으로 여러 가지 값으로 초기화될 수 없는 것\n",
    "    - 상수는 static이면서 final이어야 함\n",
    "    - static final 필드는 객체마다 존재하지 않고 클래스에만 존재하며 한 번 초기값이 저장되면 변경할 수 없음\n",
    "\n",
    "```java\n",
    "class Earth {\n",
    "    static final double PI = 3.14159;\n",
    "    static final double EARTH_RADIUS = 6400;\n",
    "    static final double EARTH_AREA = 4 * PI * EARTH_RADIUS * EARTH_RADIUS;\n",
    "}\n",
    "```"
   ]
  },
  {
   "cell_type": "markdown",
   "id": "07d828cc-4538-4004-b6b7-7a9c33106ceb",
   "metadata": {},
   "source": [
    "# 2. 클래스 - 패키지와 접근 제한자\n",
    "### 혼공자 06-6 (p.308 ~ p.329)"
   ]
  },
  {
   "cell_type": "markdown",
   "id": "7e7d437d-ffc5-49e3-9889-48f58eac8a98",
   "metadata": {},
   "source": [
    "#### 패키지\n",
    "- 클래스를 유일하게 만들어주는 식별자 역할 : 클래스 이름이 동일하더라도 패키지가 다르면 다른 클래스로 인식함\n",
    "- 패키지의 물리적인 형태는 파일 시스템의 폴더\n",
    "- 클래스이 전체 이름\n",
    "  - '패키지 이름 + 클래스 이름'"
   ]
  },
  {
   "cell_type": "markdown",
   "id": "ab32663f-c3bf-4435-8238-24b2f886660b",
   "metadata": {},
   "source": [
    "### 패키지 선언"
   ]
  },
  {
   "cell_type": "markdown",
   "id": "998820e6-0237-4686-9807-eda9012afab4",
   "metadata": {},
   "source": [
    "- 클래스를 작성할 때 해당 클래스가 어떤 패키지에 속할 것인지를 선언하는 것\n",
    "\n",
    "```java\n",
    "package 상위패키지.하위패키지;\n",
    "\n",
    "public class ClassName { ... }\n",
    "```"
   ]
  },
  {
   "cell_type": "markdown",
   "id": "15e8f138-e80c-4b85-b75d-9281169d4928",
   "metadata": {},
   "source": [
    "```java\n",
    "package com.mycompany;\n",
    "\n",
    "public class Car { ... }"
   ]
  },
  {
   "cell_type": "markdown",
   "id": "c34a7051-6b4f-422a-86e0-6015cf8397df",
   "metadata": {},
   "source": [
    "- Car 클래스는 com.mycompany 패키지에 소속되어 있음\n",
    "  - com/mycompany 폴더에 Car 클래스가 저장됨\n",
    "  - 만약 com/yourcompany 폴더에 Car 클래스를 옮겨 저장하면 Car 클래스를 사용할 수 없음"
   ]
  },
  {
   "cell_type": "markdown",
   "id": "aa992060-b623-4ffd-86d4-d519ca79ddf2",
   "metadata": {},
   "source": [
    "- 패키지 이름\n",
    "  - 개발자가 임의대로 만들 수 있음\n",
    "  - 숫자로 시작하면 안 됨\n",
    "  - _, $를 제외한 특수 문자를 사용하면 안 됨\n",
    "  - java로 시작하는 패키지는 자바 표준 API에서만 사용하므로 사용해서는 안 됨\n",
    "  - 모두 소문자로 작성하는 것이 관례"
   ]
  },
  {
   "cell_type": "markdown",
   "id": "f0ccd86d-ebf8-44d5-a97b-9f73b054b9c4",
   "metadata": {},
   "source": [
    "- 패키지 이름의 중복 방지 방법\n",
    "  - 여러 개발 회사가 함께 참여하는 대규모 프로젝트나 다른 회사의 패키지를 이용해서 개발할 경우 패키지 이름이 중복될 가능성이 있음\n",
    "  - 중복 방지를 위해 흔히 회사의 도메인 이름으로 패키지 이름을 지음\n",
    "  - 도메인은 등록 기관에서 유일한 이름이 되도록 검증되었기 때문에 도메인 이름으로 패키지를 만들면 다른 회사의 패키지와 중복되는 경우가 발생하지 않음\n",
    "  - 패키지 이름은 도메인 이름의 역순으로 하고 마지막에 프로젝트 이름을 붙이는 것이 관례\n",
    " \n",
    "```java\n",
    "com.samsung.projectname\n",
    "com.lg.projectname\n",
    "org.apache.projectname\n",
    "```"
   ]
  },
  {
   "cell_type": "markdown",
   "id": "40ea40d2-b833-4626-9971-3f6b30a915de",
   "metadata": {},
   "source": [
    "#### import 문\n",
    "- 사용하고자 하는 클래스가 다른 패키지에 소속되어 있으면 import 문으로 해당 패키지의 클래스를 가져와 사용할 것임을 컴파일러에게 알려줘야 함\n",
    "\n",
    "```java\n",
    "import 상위패키지.하위패키지.클래스이름;\n",
    "import 상위패키지.하위패키지.*;\n",
    "```"
   ]
  },
  {
   "cell_type": "markdown",
   "id": "3665ed66-0480-4f98-813a-b485056763f8",
   "metadata": {},
   "source": [
    "- import 작성\n",
    "    - 패키지 선언과 클래스 선언 사이에 작성\n",
    "    - 개수에 제한 없음"
   ]
  },
  {
   "cell_type": "markdown",
   "id": "23ddeb0c-400d-49c1-bf7e-87544e5e7f3c",
   "metadata": {},
   "source": [
    "- com.mycompany 패키지에 소속된 Car 클래스에서 com.hankook 패키지에 소속된 Tire 클래스를 사용하기 위해 import 문을 작성한 예시"
   ]
  },
  {
   "cell_type": "markdown",
   "id": "0fa9a220-5a9d-4be0-8ac5-f584938f4fac",
   "metadata": {},
   "source": [
    "```java\n",
    "package com.mycompany;\n",
    "\n",
    "import com.hankook.Tire;\n",
    "// 또는 import com.hankook.*;\n",
    "\n",
    "public class Car {\n",
    "    Tire tire = new Tire();\n",
    "}"
   ]
  },
  {
   "cell_type": "markdown",
   "id": "412b19a1-e03e-4b54-819a-39339b356766",
   "metadata": {},
   "source": [
    "- 경우에 따라 import 문과 상관없이 패키지가 포함된 클래스 전체 이름을 코드에 기술해야 할 때가 있음\n",
    "  - 서로 다른 패키지에 동일한 클래스 이름이 존재하고 두 패키지가 모두 import 된 경우\n",
    "  - 이때는 컴파일러가 어떤 패키지의 클래스를 사용해야 할지 모호해지므로 컴파일 에러를 발생시킴\n",
    "  - 이 경우에는 정확하게 패키지가 포함된 클래스 전체 이름을 기술해야 함\n",
    "- 예시는 p.314 예제 코드 참고"
   ]
  },
  {
   "cell_type": "markdown",
   "id": "b86e2d90-8dff-4f1e-afb4-56d039080541",
   "metadata": {},
   "source": [
    "### 접근 제한자"
   ]
  },
  {
   "cell_type": "markdown",
   "id": "8cfab01d-cb52-4ea5-a713-a4822988d15b",
   "metadata": {},
   "source": [
    "- 접근 제한자: 클래스가 가지고 있는 필드나 메소드에 접근을 제한하기 위해 사용\n",
    "    - public 접근 제한자: 외부 클래스가 자유롭게 사용할 수 있게 함\n",
    "    - protected 접근 제한자: 같은 패키지 또는 자식 클래스에서 사용할 수 있도록 함\n",
    "    - private 접근 제한자: 외부에서 사용할 수 없도록 함\n",
    "- default 접근 제한\n",
    "    - 위 세 가지 접근 제한자가 적용되지 않은 경우\n",
    "    - 같은 패키지에 소속된 클래스에서만 사용할 수 있도록 함"
   ]
  },
  {
   "cell_type": "markdown",
   "id": "0dc24e44-3089-4a27-b698-390f59dc9ef2",
   "metadata": {},
   "source": [
    "### 클래스의 접근 제한"
   ]
  },
  {
   "cell_type": "markdown",
   "id": "f181c1ef-90c9-4a2b-829d-401b5f497502",
   "metadata": {},
   "source": [
    "- 클래스를 선언할 때 해당 클래스를 같은 패키지 내에서만 사용할 것인지, 아니면 다른 패키지에서도 사용할 수 있도록 할 것인지 결정해야 함\n",
    "- 클래스는 public, default 접근 제한을 가짐"
   ]
  },
  {
   "cell_type": "markdown",
   "id": "3e292721-0f21-4bed-90cc-a5c0e7c4022a",
   "metadata": {},
   "source": [
    "```java\n",
    "// default 접근 제한\n",
    "class 클래스이름 { ... }\n",
    "\n",
    "// public 접근 제한\n",
    "public class 클래스이름 { ... }\n"
   ]
  },
  {
   "cell_type": "markdown",
   "id": "a809a592-908a-4525-875f-99c7bb9ecae2",
   "metadata": {},
   "source": [
    "#### default 접근 제한\n",
    "- 클래스를 선언할 때 public을 생략했다면 클래스는 default 접근 제한을 가짐\n",
    "- 같은 패키지에서는 아무런 제한 없이 사용할 수 있지만 다른 패키지에서는 사용할 수 없도록 제한됨"
   ]
  },
  {
   "cell_type": "markdown",
   "id": "17a04dab-6bd3-41f1-8be9-048d9fd04534",
   "metadata": {},
   "source": [
    "#### public 접근 제한\n",
    "- 클래스를 선언할 때 public 접근 제한자를 붙였다면 클래스는 public 접근 제한을 가짐\n",
    "- 같은 패키지뿐만 아니라 다른 패키지에서도 아무런 제한 없이 해당 클래스를 사용할 수 있음\n",
    "- 클래스를 다른 개발자가 사용할 수 있도록 라이브러리 클래스로 개발한다면 반드시 public 접근 제한을 갖도록 해야 함"
   ]
  },
  {
   "cell_type": "markdown",
   "id": "c47c9821-426e-400a-bb5c-851a689d9343",
   "metadata": {},
   "source": [
    "```java\n",
    "package com.mycompany.test;\n",
    "\n",
    "class A { // default 접근 제한\n",
    "\n",
    "}"
   ]
  },
  {
   "cell_type": "markdown",
   "id": "1368c43b-4aa7-433a-92e6-d4cc701616a9",
   "metadata": {},
   "source": [
    "```java\n",
    "package com.mycompany.test;\n",
    "\n",
    "public class B { // public 접근 제한\n",
    "    A a; // 클래스 A는 같은 패키지에 소속되어 있으므로 A 클래스 접근 가능 (필드로 선언할 수 있음)\n",
    "}"
   ]
  },
  {
   "cell_type": "markdown",
   "id": "ccf7b7b9-64a2-4c0c-bded-07c3861fa6db",
   "metadata": {},
   "source": [
    "```java\n",
    "package com.yourcompany.test;\n",
    "\n",
    "import com.mycompany.*;\n",
    "\n",
    "public class C {\n",
    "    A a; // 컴파일 에러 - 클래스 A는 클래스 C와 다른 패키지에 소속되어 있고 default 접근 제한이므로 사용 불가능\n",
    "    B b; // 클래스 B는 클래스 C와 다른 패키지에 소속되어 있지만 public 접근 제한이므로 사용 가능\n",
    "}"
   ]
  },
  {
   "cell_type": "markdown",
   "id": "e48e549d-0bc2-47df-b98a-82bf0995e0dc",
   "metadata": {},
   "source": [
    "### 생성자의 접근 제한"
   ]
  },
  {
   "cell_type": "markdown",
   "id": "bdcb73e9-af27-450d-9847-960dcc206652",
   "metadata": {},
   "source": [
    "- 객체를 생성하기 위해서는 new 연산자로 생성자를 호출함\n",
    "- 하지만 생성자가 어떤 접근 제한을 갖느냐에 따라 호출 가능 여부가 결정됨\n",
    "- 생성자는 public, protected, default, private 접근 제한을 가짐\n",
    "- 클래스에 생성자를 선언하지 않으면 컴파일러에 의해 자동으로 기본 생성자가 추가됨\n",
    "    - 자동 생성되는 기본 생성자의 접근 제한은 클래스의 접근 제한과 동일함"
   ]
  },
  {
   "cell_type": "markdown",
   "id": "ca0e726c-87de-4b56-b7fc-5a719c35a5cf",
   "metadata": {},
   "source": [
    "- public 접근 제한\n",
    "  - 모든 패키지에서 아무런 제한 없이 생성자를 호출할 수 있도록 함\n",
    "- default 접근 제한\n",
    "  - 같은 패키지에서는 아무런 제한 없이 생성자를 호출할 수 있으나 다른 패키지에서는 생성자를 호출할 수 없도록 함\n",
    "- protected 접근 제한\n",
    "  - 같은 패키지에 속하는 클래스에서 생성자를 호출할 수 있도록 함\n",
    "  - 다른 패키지에 속한 클래스가 해당 클래스의 자식 클래스라면 생성자를 호출할 수 있음\n",
    "- private 접근 제한\n",
    "  - 동일한 패키지이건 다른 패키지이건 상관없이 생성자를 호출하지 못하도록 제한\n",
    "  - 오로지 클래스 내부에서만 생성자를 호출할 수 있고 객체를 만들 수 있음"
   ]
  },
  {
   "cell_type": "markdown",
   "id": "604e5d54-cc6a-4a56-8d24-0f0309ec1cb8",
   "metadata": {},
   "source": [
    "```java\n",
    "package com.company.myproject;\n",
    "\n",
    "public class A {\n",
    "    // 필드\n",
    "    A a1 = new A(true);\n",
    "    A a2 = new A(1);\n",
    "    A a3 = new A(\"문자열\");\n",
    "\n",
    "    // 생성자 (매개변수가 다른 여러 개의 생성자)\n",
    "    public A(boolean b) {} // public 접근 제한\n",
    "    A(int b) {}            // default 접근 제한\n",
    "    private A(String s) {} // private 접근 제한"
   ]
  },
  {
   "cell_type": "markdown",
   "id": "2fb161c5-af92-4029-be03-e40470d92e13",
   "metadata": {},
   "source": [
    "```java\n",
    "package com.company.myproject; // 동일한 패키지\n",
    "\n",
    "public class B {\n",
    "    // 필드\n",
    "    A a1 = new A(true);\n",
    "    A a2 = new A(1);\n",
    "    A a3 = new A(\"문자열\"); // 컴파일 에러 - private 생성자 접근 불가\n",
    "}"
   ]
  },
  {
   "cell_type": "markdown",
   "id": "465ee4d1-4683-45f1-8458-09ded5649884",
   "metadata": {},
   "source": [
    "```java\n",
    "package com.company.test; // 다른 패키지\n",
    "\n",
    "import com.company.myproject.A;\n",
    "\n",
    "public class C {\n",
    "    // 필드\n",
    "    A a1 = new A(true);\n",
    "    A a2 = new A(1);        // 컴파일 에러 - default 생성자 접근 불가\n",
    "    A a3 = new A(\"문자열\"); // 컴파일 에러 - private 생성자 접근 불가\n",
    "}"
   ]
  },
  {
   "cell_type": "markdown",
   "id": "ee1da940-b999-44e0-b314-ff4932bb1f18",
   "metadata": {},
   "source": [
    "### 필드와 메소드의 접근 제한"
   ]
  },
  {
   "cell_type": "markdown",
   "id": "fde73fb4-3922-489b-bec4-b910ccaf4883",
   "metadata": {},
   "source": [
    "- 필드와 메소드를 선언할 때 해당 필드와 메소드를 어디까지 사용하게 할 것인지 결정해야 함\n",
    "- 필드와 메소드의 접근 제한에 의해 결정됨\n",
    "- 필드와 메소드도 public, default, protected, private 접근 제한을 가질 수 있음"
   ]
  },
  {
   "cell_type": "markdown",
   "id": "bc465562-5597-4111-93da-34e6d5c1092b",
   "metadata": {},
   "source": [
    "- public 접근 제한\n",
    "  - 모든 패키지에서 아무런 제한 없이 필드와 메소드를 사용할 수 있도록 함\n",
    "- default 접근 제한\n",
    "  - 필드와 메소드를 선언할 때 접근 제한자를 생략하면 default 접근 제한을 가짐\n",
    "  - 같은 패키지에서는 아무런 제한 없이 필드와 메소드를 사용할 수 있으나 다른 패키지에서는 사용할 수 없도록 함\n",
    "- protected 접근 제한\n",
    "  - 같은 패키지에 속하는 클래스에서 필드와 메소드를 사용할 수 있도록 함\n",
    "  - 다른 패키지에 속한 클래스가 해당 클래스의 자식 클래스라면 필드와 메소드를 사용할 수 있음\n",
    "- private 접근 제한\n",
    "  - 동일한 패키지이건 다른 패키지이건 상관없이 필드와 메소드를 사용하지 못하도록 제한\n",
    "  - 오로지 클래스 내부에서만 사용할 수 있음"
   ]
  },
  {
   "cell_type": "markdown",
   "id": "d1357713-7b5c-4126-8f89-e4bf8e688ebf",
   "metadata": {},
   "source": [
    "- 아래 예제 코드에서 컴파일 에러가 발생하는 부분을 모두 찾아보자"
   ]
  },
  {
   "cell_type": "markdown",
   "id": "78032a3d-956f-47d2-855d-b962f740db60",
   "metadata": {},
   "source": [
    "```java\n",
    "package com.company.myproject;\n",
    "\n",
    "public class A {\n",
    "    // 필드\n",
    "    public int field1;\n",
    "    int field2;\n",
    "    private int field3;\n",
    "\n",
    "    // 생성자 \n",
    "    public A() {\n",
    "        field1 = 1;\n",
    "        field2 = 1;\n",
    "        field3 = 1;\n",
    "\n",
    "        method1();\n",
    "        method2();\n",
    "        method3();\n",
    "    }\n",
    "\n",
    "    // 메소드\n",
    "    public void method1() {}\n",
    "    void method2() {}\n",
    "    private method3() {}\n",
    "}"
   ]
  },
  {
   "cell_type": "markdown",
   "id": "e1252a4a-56a5-4465-ae4a-10b6923d1e1e",
   "metadata": {},
   "source": [
    "```java\n",
    "package com.company.myproject;\n",
    "\n",
    "public class B {\n",
    "    // 생성자 \n",
    "    public B() {\n",
    "        A a = new A();\n",
    "        a.field1 = 1;\n",
    "        a.field2 = 1;\n",
    "        a.field3 = 1;\n",
    "\n",
    "        a.method1();\n",
    "        a.method2();\n",
    "        a.method3();\n",
    "    }\n",
    "}"
   ]
  },
  {
   "cell_type": "markdown",
   "id": "60b11654-b178-411a-88c6-986a377c6522",
   "metadata": {},
   "source": [
    "```java\n",
    "package com.company.yourproject;\n",
    "\n",
    "import com.company.myproject.A;\n",
    "\n",
    "public class C {\n",
    "    // 생성자 \n",
    "    public C() {\n",
    "        A a = new A();\n",
    "        a.field1 = 1;\n",
    "        a.field2 = 1;\n",
    "        a.field3 = 1;\n",
    "\n",
    "        a.method1();\n",
    "        a.method2();\n",
    "        a.method3();\n",
    "    }\n",
    "}"
   ]
  },
  {
   "cell_type": "markdown",
   "id": "1d81f2b2-1c6d-40a4-8ee4-e4bdfe591501",
   "metadata": {},
   "source": [
    "### Getter와 Setter 메소드"
   ]
  },
  {
   "cell_type": "markdown",
   "id": "b278cf56-0c89-4489-8331-2f2bbd7a5706",
   "metadata": {},
   "source": [
    "- 일반적으로 객체 지향 프로그래밍에서는 객체의 필드를 객체 외부에서 직접적으로 접근하는 것을 막음\n",
    "- 그 이유는 외부에서 마음대로 변경할 경우 객체의 무결성이 깨질 수 있기 때문\n",
    "  - 예를 들어 자동차의 속력은 음수가 될 수 없는데, 외부에서 음수로 변경하면 객체의 무결성이 깨짐\n",
    "\n",
    "#### Setter 메소드\n",
    "- 위와 같은 문제점을 해결하기 위해 메소드를 통해서 필드를 변경하는 방법을 선호함\n",
    "  - 필드는 외부에서 접근할 수 없도록 막고 메소드는 공개해서 외부에서 메소드를 통해 필드에 접근하도록 함\n",
    "  - 메소드는 매개변수 값을 검증해서 유효한 값만 객체의 필드로 저장할 수 있게 구현할 수 있기 때문\n",
    "  \n"
   ]
  },
  {
   "cell_type": "markdown",
   "id": "664c2e46-9ac5-4c36-90b6-9be10429e47f",
   "metadata": {},
   "source": [
    "#### Getter 메소드\n",
    "- 외부에서 객체의 데이터를 읽을 때도 메소드를 사용하는 것이 좋음\n",
    "- 필드값을 직접 사용하면 부적절한 경우도 있기 때문\n",
    "- 이런 경우에는 메소드로 필드값을 가공한 후 외부로 전달"
   ]
  },
  {
   "cell_type": "markdown",
   "id": "e5230ae7-ea9f-4acc-8cd3-5733d53d4c92",
   "metadata": {},
   "source": [
    "- 클래스를 선언할 때 가능하다면 필드를 private으로 선언해서 외부로부터 보호\n",
    "- 필드에 대한 Setter와 Getter 메소드를 작성해서 필드값을 안전하게 변경/사용하는 것이 바람직함"
   ]
  },
  {
   "cell_type": "markdown",
   "id": "c86db542-6b7c-456c-a8ff-280176ddd0b5",
   "metadata": {},
   "source": [
    "```java\n",
    "public class Car {\n",
    "    private int speed; // private 필드\n",
    "\n",
    "    // speed 필드에 대한 Getter 메소드\n",
    "    public int getSpeed() {\n",
    "        return speed;\n",
    "    }\n",
    "\n",
    "    // speed 필드에 대한 Setter 메소드\n",
    "    public void setSpeed(int speed) {\n",
    "        this.speed = speed;\n",
    "    }\n",
    "}\n",
    "```"
   ]
  },
  {
   "cell_type": "markdown",
   "id": "0b878e74-8a97-4c5b-a1df-02c4761c5e44",
   "metadata": {},
   "source": [
    "- 필드 타입이 boolean일 경우에는 Getter는 get으로 시작하지 않고 is로 시작하는 것이 관례"
   ]
  },
  {
   "cell_type": "markdown",
   "id": "bcc2f249-78ff-4754-b16c-93c5d5bf450c",
   "metadata": {},
   "source": [
    "```java\n",
    "public class Car {\n",
    "    private int speed; // private 필드\n",
    "    private boolean stop; // private 필드\n",
    "\n",
    "    // stop 필드에 대한 Getter 메소드\n",
    "    public boolean isStop() {\n",
    "        return stop;\n",
    "    }\n",
    "\n",
    "    // stop 필드에 대한 Setter 메소드\n",
    "    public void setStop(boolean stop) {\n",
    "        this.stop = stop;\n",
    "    }\n",
    "\n",
    "    // speed 필드에 대한 Getter 메소드\n",
    "    public int getSpeed() {\n",
    "        return speed;\n",
    "    }\n",
    "\n",
    "    // speed 필드에 대한 Setter 메소드\n",
    "    public void setSpeed(int speed) {\n",
    "        this.speed = speed;\n",
    "    }\n",
    "}\n",
    "```"
   ]
  },
  {
   "cell_type": "markdown",
   "id": "87a98ade-b64f-40c7-84a6-fd9a43988be1",
   "metadata": {},
   "source": [
    "- 읽기 전용 필드\n",
    "    - 만약 외부에서 필드값을 읽을 수만 있고 변경하지 못하도록 하려면 Getter 메소드만 선언\n",
    "    - 아니면 Setter 메소드가 private 접근 제한을 갖도록 선언"
   ]
  },
  {
   "cell_type": "code",
   "execution_count": null,
   "id": "d4b720a4-b34e-425b-9254-45ba9bce6fa7",
   "metadata": {},
   "outputs": [],
   "source": []
  }
 ],
 "metadata": {
  "kernelspec": {
   "display_name": "Python 3 (ipykernel)",
   "language": "python",
   "name": "python3"
  },
  "language_info": {
   "codemirror_mode": {
    "name": "ipython",
    "version": 3
   },
   "file_extension": ".py",
   "mimetype": "text/x-python",
   "name": "python",
   "nbconvert_exporter": "python",
   "pygments_lexer": "ipython3",
   "version": "3.12.4"
  }
 },
 "nbformat": 4,
 "nbformat_minor": 5
}
