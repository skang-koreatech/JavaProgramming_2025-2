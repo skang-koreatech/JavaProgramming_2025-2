{
 "cells": [
  {
   "cell_type": "markdown",
   "id": "96ccb3c9-4601-4944-a91c-cd26f8436754",
   "metadata": {},
   "source": [
    "# 자바프로그래밍 (01분반)\n"
   ]
  },
  {
   "cell_type": "markdown",
   "id": "fc8c9194-b3b3-415f-890c-b1b125eade74",
   "metadata": {},
   "source": [
    "# 1. 자바 변수와 자료형\n",
    "\n",
    "# 변수 (Variable)\n",
    "- 데이터를 저장하는 이름 있는 공간\n",
    "- **선언(Declaration)**: 자료형 + 변수명\n",
    "- **초기화(Initialization)**: 처음 값 지정\n"
   ]
  },
  {
   "cell_type": "markdown",
   "id": "530afcdc-9390-446b-8193-0c7e769801f2",
   "metadata": {},
   "source": [
    "```java\n",
    "int age;        // 선언\n",
    "age = 20;       // 초기화\n",
    "int score = 95; // 선언 + 초기화\n",
    "\n",
    "System.out.println(\"나이 = \" + age);\n",
    "System.out.println(\"점수 = \" + score);\n",
    "\n",
    "```"
   ]
  },
  {
   "cell_type": "markdown",
   "id": "653dc1ed-78ae-4bf9-a164-974fc3043bd6",
   "metadata": {},
   "source": [
    "# 기본 자료형 (Primitive Types)\n",
    "\n",
    "자바에는 총 8가지 기본 자료형이 있음\n",
    "\n",
    "## 정수형 (Integer Types)\n",
    "- byte (1바이트, -128 ~ 127)\n",
    "- short (2바이트, -32,768 ~ 32,767)\n",
    "- int (4바이트, 약 -21억 ~ 21억) → 가장 많이 사용\n",
    "- long (8바이트, -2^63 ~ 2^63-1)\n"
   ]
  },
  {
   "cell_type": "markdown",
   "id": "602ef0b4-9964-4d0d-8387-ab9521668d9b",
   "metadata": {},
   "source": [
    "```java\n",
    "byte b = 100;\n",
    "short s = 32000;\n",
    "int i = 1000000;\n",
    "long l = 10000000000L; // L 붙여야 함\n",
    "\n",
    "System.out.println(\"byte: \" + b);\n",
    "System.out.println(\"short: \" + s);\n",
    "System.out.println(\"int: \" + i);\n",
    "System.out.println(\"long: \" + l);\n",
    "```"
   ]
  },
  {
   "cell_type": "markdown",
   "id": "fd0399ab-6af2-4f6a-85f2-1ddb353adc4f",
   "metadata": {},
   "source": [
    "## 실수형 (Floating Point Types)\n",
    "- float (4바이트, 7자리 정밀도) → 뒤에 f 필요\n",
    "- double (8바이트, 15자리 정밀도) → 기본 실수형\n"
   ]
  },
  {
   "cell_type": "markdown",
   "id": "ab99a87b-60b3-4c11-ac17-487defb5f0e9",
   "metadata": {},
   "source": [
    "```java\n",
    "float f = 3.14f;\n",
    "double d = 3.14159;\n",
    "\n",
    "System.out.println(\"float: \" + f);\n",
    "System.out.println(\"double: \" + d);\n",
    "```"
   ]
  },
  {
   "cell_type": "markdown",
   "id": "7d42d8ae-48fe-4b2f-81ca-5cf59f32a3fe",
   "metadata": {},
   "source": [
    "## 문자형 (Character Type)\n",
    "- char: 문자 하나만 저장 가능 (2바이트)\n",
    "- 작은따옴표(' ') 사용\n",
    "- 내부적으로 유니코드 저장\n",
    "\n",
    "## 논리형 (Boolean Type)\n",
    "- true / false 두 값만 가능\n",
    "- 조건문 제어에 사용\n"
   ]
  },
  {
   "cell_type": "markdown",
   "id": "b2fb5975-cd62-4d74-8ca3-2d00b667e943",
   "metadata": {},
   "source": [
    "```java\n",
    "char c = 'A';\n",
    "char h = '한';\n",
    "boolean isOpen = true;\n",
    "boolean isPassed = false;\n",
    "\n",
    "System.out.println(\"char c: \" + c);\n",
    "System.out.println(\"char h: \" + h);\n",
    "System.out.println(\"boolean isOpen: \" + isOpen);\n",
    "System.out.println(\"boolean isPassed: \" + isPassed);\n",
    "```"
   ]
  },
  {
   "cell_type": "markdown",
   "id": "683023c5-d69e-4f6a-a9c4-4f1807bd34c7",
   "metadata": {},
   "source": [
    "# 참조 자료형 (Reference Types)\n",
    "\n",
    "## 문자열 (String)\n",
    "- 큰따옴표(\" \") 사용\n",
    "- 클래스 타입이지만 기본형처럼 많이 사용\n",
    "\n",
    "## 배열 (Array)\n",
    "- 같은 자료형을 여러 개 저장\n",
    "\n",
    "## 클래스 (Class)\n",
    "- 객체(Object) 단위로 데이터와 기능을 묶음\n"
   ]
  },
  {
   "cell_type": "markdown",
   "id": "c544a34a-7f68-4a6b-b054-0982502bc949",
   "metadata": {},
   "source": [
    "```java\n",
    "String name = \"김치찌개\";\n",
    "System.out.println(\"String: \" + name);\n",
    "\n",
    "int[] scores = {90, 85, 77};\n",
    "System.out.println(\"배열[0]: \" + scores[0]);\n",
    "\n",
    "class MenuItem {\n",
    "    String name;\n",
    "    int price;\n",
    "}\n",
    "MenuItem m = new MenuItem();\n",
    "m.name = \"불고기\";\n",
    "m.price = 9000;\n",
    "System.out.println(\"클래스: \" + m.name + \" - \" + m.price + \"원\");\n",
    "```"
   ]
  },
  {
   "cell_type": "markdown",
   "id": "4bf9a1b9-ef9f-41da-9f8c-2f1b4e98b629",
   "metadata": {},
   "source": [
    "# 형 변환 (Casting)\n",
    "\n",
    "## 자동 형 변환 (작은 → 큰)\n",
    "\n",
    "```java\n",
    "int i = 10;\n",
    "double d = i; // int → double 자동 변환\n",
    "System.out.println(\"double d = \" + d);\n",
    "```\n",
    "\n",
    "### 정수 연산에서 자동 형 변환\n",
    "- 정수 타입 변수가 산술 연산식에서 피연산자로 사용되면 int 타입보다 작은 byte, short 타입의 변수는 int 타입으로 자동 변환되어 연산 수행\n",
    "- int 타입보다 범위가 큰 long 타입이 피연산자로 사용되면 다른 피연산자는 무조건 long 타입으로 변환되어 연산 수행\n",
    "\n",
    "### 실수 연산에서 자동 형 변환\n",
    "- 두 피연산자에 동일한 타입이라면 해당 타입으로 연산\n",
    "- 피연산자 중 하나가 double 타입이라면 다른 피연산자도 double 타입으로 자동 변환되어 연산 수행\n",
    "\n",
    "### + 연산에서 문자열 자동 형 변환\n",
    "- 피연산자가 모두 숫자일 경우에는 덧셈 연산\n",
    "- 피연산자 중 하나가 문자열일 경우에는 나머지 피연산자도 문자열로 자동 변환되어 문자열 결합 연산 수행\n"
   ]
  },
  {
   "cell_type": "markdown",
   "id": "4673003f-ca22-4ce4-a8ce-1c366b9f152e",
   "metadata": {},
   "source": [
    "## 강제 형 변환 (큰 → 작은)\n",
    "- (자료형) 변수 로 명시\n",
    "- 데이터 손실 주의\n",
    "\n",
    "```java\n",
    "double d2 = 3.14;\n",
    "int i2 = (int) d2; // 소수점 버려짐\n",
    "System.out.println(\"int i2 = \" + i2);\n",
    "```"
   ]
  },
  {
   "cell_type": "markdown",
   "id": "c9425d41-26b7-410c-a92b-a046536b866c",
   "metadata": {},
   "source": [
    "# 기본 자료형 요약\n",
    "\n",
    "| 자료형   | 크기   | 범위                 | 기본값 | 예시 |\n",
    "|----------|-------|----------------------|--------|------|\n",
    "| byte     | 1B    | -128 ~ 127           | 0      | byte b = 100; |\n",
    "| short    | 2B    | -32,768 ~ 32,767     | 0      | short s = 32000; |\n",
    "| int      | 4B    | 약 -21억 ~ 21억      | 0      | int i = 1000000; |\n",
    "| long     | 8B    | -2^63 ~ 2^63-1       | 0L     | long l = 10000000000L; |\n",
    "| float    | 4B    | ±3.4E38 (7자리 정밀도)      | 0.0f   | float f = 3.14f; |\n",
    "| double   | 8B    | ±1.7E308 (15자리 정밀도)    | 0.0d   | double d = 3.14159; |\n",
    "| char     | 2B    | 0 ~ 65,535 (유니코드)| '\\u0000' | char c = 'A'; |\n",
    "| boolean  | JVM에 따라 다름 (보통 1B) | | false  | boolean flag = true; |\n"
   ]
  },
  {
   "cell_type": "markdown",
   "id": "c167d3c5-14cc-4659-97c9-ac8a602b225c",
   "metadata": {},
   "source": [
    "# 2. 자바 표준 입출력\n",
    "\n",
    "# 자바 표준 출력\n",
    "자바에서 콘솔에 출력하는 방법에는 3가지가 있음\n",
    "\n",
    "1. **System.out.print()** : 줄바꿈 없이 출력  \n",
    "2. **System.out.println()** : 출력 후 줄바꿈  \n",
    "3. **System.out.printf()** : 형식 지정자를 사용하여 포맷된 출력\n"
   ]
  },
  {
   "cell_type": "markdown",
   "id": "93112f09-de26-4b6e-a756-d750f6bd3e5a",
   "metadata": {},
   "source": [
    "| 메서드         | 특징                      | 사용 예시                                                                                 | 출력 결과                |\n",
    "| ----------- | ----------------------- | ------------------------------------------------------------------------------------- | -------------------- |\n",
    "| **print**   | 줄바꿈 없음                  | `System.out.print(\"Hello \");`<br>`System.out.print(\"Java\");`                          | Hello Java           |\n",
    "| **println** | 출력 후 줄바꿈                | `System.out.println(\"Hello\");`<br>`System.out.println(\"Java\");`                       | Hello<br>Java        |\n",
    "| **printf**  | 형식 지정자 사용<br>(줄바꿈 자동 ❌) | `System.out.printf(\"나이: %d살%n\", 20);`<br>`System.out.printf(\"원주율: %.2f%n\", 3.14159);` | 나이: 20살<br>원주율: 3.14 |\n"
   ]
  },
  {
   "cell_type": "markdown",
   "id": "4069fa3c-e18a-4740-9b41-8a3507b5cd62",
   "metadata": {},
   "source": [
    "## printf 형식 지정자\n",
    "\n",
    "| 지정자 | 설명 | 예시 코드 | 출력 결과 |\n",
    "|--------|------|-----------|-----------|\n",
    "| `%d` | 10진수 정수 출력 | System.out.printf(\"%d%n\", 25); | `25` |\n",
    "| `%f` | 실수 출력 (기본 소수점 6자리) | System.out.printf(\"%f%n\", 3.14159); | `3.141590` |\n",
    "| `%.2f` | 소수점 둘째 자리까지 | System.out.printf(\"%.2f%n\", 3.14159);| `3.14` |\n",
    "| `%s` | 문자열 출력 | System.out.printf(\"%s%n\", \"Hello\"); | `Hello` |\n",
    "| `%c` | 문자 출력 | System.out.printf(\"%c%n\", 'A'); | `A` |\n",
    "\n"
   ]
  },
  {
   "cell_type": "markdown",
   "id": "69eeb33b-da1c-4b19-9904-8c889afaa707",
   "metadata": {},
   "source": [
    "# 자바 표준 입력\n",
    "\n",
    "자바에서 입력을 받는 방법은 대표적으로 두 가지가 있음\n",
    "\n",
    "1. **Scanner 클래스**\n",
    "- 장점: 사용법 직관적, 다양한 자료형 입력 지원 (nextInt, nextDouble, nextLine 등)\n",
    "- 단점: 입력 버퍼 문제(개행 문자 처리) 발생할 수 있음\n",
    "\n"
   ]
  },
  {
   "cell_type": "markdown",
   "id": "eb6b271c-3d07-440c-888d-6770b1e7dff6",
   "metadata": {},
   "source": [
    "```java\n",
    "import java.util.Scanner;\n",
    "Scanner sc = new Scanner(System.in);\n",
    "\n",
    "System.out.print(\"숫자 입력: \");\n",
    "int num = sc.nextInt();   // 정수 입력\n",
    "System.out.println(\"입력값 = \" + num);\n",
    "```"
   ]
  },
  {
   "cell_type": "markdown",
   "id": "da637b0f-65e0-4085-a798-28b17d3eba5c",
   "metadata": {},
   "source": [
    "2. **BufferedReader 클래스**\n",
    "- 장점: 빠른 입력 처리 (대량 입력, 알고리즘 문제에 적합)\n",
    "- 단점: 문자열만 읽을 수 있음 → 숫자는 parseInt, parseDouble 변환 필요\n",
    "\n",
    "```java\n",
    "import java.io.*;\n",
    "\n",
    "BufferedReader br = new BufferedReader(new InputStreamReader(System.in));\n",
    "\n",
    "System.out.print(\"숫자 입력: \");\n",
    "String line = br.readLine();      // 한 줄 입력\n",
    "int num = Integer.parseInt(line); // 문자열 → int 변환\n",
    "System.out.println(\"입력값 = \" + num);\n",
    "```"
   ]
  },
  {
   "cell_type": "markdown",
   "id": "a441742a-813d-4ff6-8943-6806e8bd0e8a",
   "metadata": {},
   "source": [
    "## Scanner 입력 버퍼 문제 (개행 문자 처리)\n",
    "- `nextInt()`와 `nextLine()`을 함께 사용할 때 생기는 문제\n",
    "\n",
    "\n",
    "### 문제 상황 코드\n",
    "```java\n",
    "Scanner sc = new Scanner(System.in);\n",
    "\n",
    "System.out.print(\"숫자 입력: \");\n",
    "int num = sc.nextInt();   // 숫자만 읽고 엔터는 버퍼에 남음\n",
    "\n",
    "System.out.print(\"문자열 입력: \");\n",
    "String str = sc.nextLine(); // 버퍼에 남은 \\n을 읽음 → 빈 문자열\n",
    "\n",
    "System.out.println(\"숫자: \" + num);\n",
    "System.out.println(\"문자열: \" + str);\n",
    "```\n",
    "\n",
    "### 실행 결과\n",
    "```java\n",
    "숫자 입력: 10\n",
    "문자열 입력: \n",
    "숫자: 10\n",
    "문자열: \n",
    "```\n",
    "\n"
   ]
  },
  {
   "cell_type": "markdown",
   "id": "d0323976-4a21-425c-8564-32fe62542136",
   "metadata": {},
   "source": [
    "- nextInt() → 숫자까지만 읽고, 엔터(\\n)는 버퍼에 남겨둠\n",
    "- 그 다음 nextLine() → 버퍼에 남은 엔터를 읽어서 빈 문자열 반환\n",
    "- 즉, 입력 버퍼에 남은 개행 문자 문제"
   ]
  },
  {
   "cell_type": "markdown",
   "id": "77e5aeb2-6aa8-46d6-acd2-864f003cf33e",
   "metadata": {},
   "source": [
    "### 해결 방법 1: 버퍼 비우기\n",
    "\n",
    "```java\n",
    "int num = sc.nextInt();\n",
    "sc.nextLine();  // 남아 있던 엔터 제거\n",
    "\n",
    "String str = sc.nextLine();\n",
    "System.out.println(\"문자열: \" + str);\n",
    "```\n",
    "\n",
    "### 실행 결과\n",
    "```java\n",
    "숫자 입력: 10\n",
    "문자열 입력: 자바 프로그래밍\n",
    "숫자: 10\n",
    "문자열: 자바 프로그래밍\n",
    "```"
   ]
  },
  {
   "cell_type": "markdown",
   "id": "c9a905e5-6d6a-42df-87a3-f3be9f2b6be8",
   "metadata": {},
   "source": [
    "### 해결 방법 2: 전부 nextLine()으로 입력\n",
    "- 이 경우 데이터의 타입에 맞게 변환하는 과정 필요\n",
    "\n",
    "```java\n",
    "String line = sc.nextLine();\n",
    "int num = Integer.parseInt(line); // 문자열 → 숫자 변환\n",
    "\n",
    "String str = sc.nextLine();\n",
    "System.out.println(\"문자열: \" + str);\n",
    "```\n",
    "\n",
    "### 실행 결과\n",
    "```java\n",
    "숫자 입력: 10\n",
    "문자열 입력: 키오스크 프로젝트\n",
    "숫자: 10\n",
    "문자열: 키오스크 프로젝트\n",
    "```"
   ]
  },
  {
   "cell_type": "markdown",
   "id": "44581ed3-4847-4419-8d15-93909bb09d84",
   "metadata": {},
   "source": [
    "## Scanner 클래스 주요 메서드 정리\n",
    "\n",
    "### 1. 입력 확인 메서드 (`hasNext` 계열)\n",
    "- 다음 토큰이 특정 타입으로 변환 가능한지 확인\n",
    "- `true` / `false` 반환 (입력값 소비하지 않음)\n",
    "\n",
    "| 메서드 | 설명 | 예시 |\n",
    "|--------|------|------|\n",
    "| `hasNext()` | 다음 입력이 있는지 확인 | `if (sc.hasNext()) { ... }` |\n",
    "| `hasNextInt()` | 다음 입력이 `int`인지 확인 | `if (sc.hasNextInt()) { int n = sc.nextInt(); }` |\n",
    "| `hasNextDouble()` | 다음 입력이 `double`인지 확인 | `if (sc.hasNextDouble()) { ... }` |\n",
    "| `hasNextLine()` | 다음 줄이 존재하는지 확인 | 파일 입력 시 유용 |\n"
   ]
  },
  {
   "cell_type": "markdown",
   "id": "0b66f063-d54b-4f55-aa38-e0008ed5fbcd",
   "metadata": {},
   "source": [
    "\n",
    "### 2. 토큰 단위 입력 메서드 (`next` 계열)\n",
    "- 공백(space, tab, 엔터)을 기준으로 \"토큰\"을 읽음\n",
    "- 토큰: 공백으로 구분된 입력의 최소 단위 문자열\n",
    "- 문자열을 나눠 읽을 때 적합\n",
    "\n",
    "| 메서드 | 설명 | 예시 입력 | 읽는 값 |\n",
    "|--------|------|-----------|---------|\n",
    "| `next()` | 공백 전까지 문자열 | `Hello World` | `Hello` |\n",
    "| `nextInt()` | 정수 입력 읽기 | `123` | `123` (int) |\n",
    "| `nextDouble()` | 실수 입력 읽기 | `3.14` | `3.14` (double) |\n",
    "| `nextBoolean()` | true/false 읽기 | `true` | `true` |\n",
    "\n",
    "- 주의: `next()` 계열은 줄바꿈 문자(`\\n`)를 읽지 않음 → `nextLine()`과 섞어 쓰면 버퍼 문제 발생 가능"
   ]
  },
  {
   "cell_type": "markdown",
   "id": "29c167bb-08fe-4196-9426-d21fdf5f0d25",
   "metadata": {},
   "source": [
    "\n",
    "### 3. 줄 단위 입력 메서드\n",
    "- 엔터(`\\n`)를 기준으로 한 줄 전체를 읽음\n",
    "\n",
    "| 메서드 | 설명 | 예시 입력 | 읽는 값 |\n",
    "|--------|------|-----------|---------|\n",
    "| `nextLine()` | 한 줄 전체 입력 | `Hello World` (엔터) | `\"Hello World\"` |\n",
    "\n",
    "- 가장 자주 쓰이는 메서드  \n",
    "- 단, `nextInt()` 뒤에 사용 시 버퍼 문제 발생 → 개행 문자 제거 필요"
   ]
  },
  {
   "cell_type": "markdown",
   "id": "858fb511-0b84-4f0b-9e1a-58c9b7e0a874",
   "metadata": {},
   "source": [
    "\n",
    "### 4. 예제 코드\n",
    "    \n",
    "```java\n",
    "import java.util.Scanner;\n",
    "\n",
    "public class ScannerMethodsDemo {\n",
    "    public static void main(String[] args) {\n",
    "        Scanner sc = new Scanner(System.in);\n",
    "\n",
    "        // hasNextInt() + nextInt()\n",
    "        System.out.print(\"정수 입력: \");\n",
    "        if (sc.hasNextInt()) {\n",
    "            int num = sc.nextInt();\n",
    "            System.out.println(\"입력된 정수: \" + num);\n",
    "        } else {\n",
    "            System.out.println(\"정수가 아닙니다!\");\n",
    "            sc.next(); // 잘못된 입력 소모\n",
    "        }\n",
    "\n",
    "        // next()\n",
    "        System.out.print(\"단어 입력: \");\n",
    "        String word = sc.next();\n",
    "        System.out.println(\"단어: \" + word);\n",
    "\n",
    "        // nextLine()\n",
    "        sc.nextLine(); // 버퍼 비우기\n",
    "        System.out.print(\"문장 입력: \");\n",
    "        String line = sc.nextLine();\n",
    "        System.out.println(\"문장: \" + line);\n",
    "\n",
    "        sc.close();\n",
    "    }\n",
    "}\n",
    "```"
   ]
  },
  {
   "cell_type": "markdown",
   "id": "99408bc4-5a93-41f9-be07-357f06261ec7",
   "metadata": {},
   "source": [
    "# 3. 자바 switch 문 변경 사항"
   ]
  },
  {
   "cell_type": "markdown",
   "id": "05573eb1-4c96-4ff3-a35b-8cdd6d4e81c7",
   "metadata": {},
   "source": [
    "## 문자열(String) 지원\n",
    "\n",
    "- 기존: switch는 int, char, enum 등만 가능\n",
    "- 변경: String 타입도 지원\n",
    "\n",
    "```java\n",
    "String fruit = \"apple\";\n",
    "\n",
    "switch (fruit) {\n",
    "    case \"apple\":\n",
    "        System.out.println(\"사과\");\n",
    "        break;\n",
    "    case \"banana\":\n",
    "        System.out.println(\"바나나\");\n",
    "        break;\n",
    "    default:\n",
    "        System.out.println(\"기타 과일\");\n",
    "}\n",
    "```"
   ]
  },
  {
   "cell_type": "markdown",
   "id": "7d298d39-795d-45e5-a7ba-dfb5f2fb0f2d",
   "metadata": {},
   "source": [
    "## 표현식으로 사용 가능\n",
    "\n",
    "- 기존: switch는 문장(statement)만 가능했음\n",
    "- 변경: 표현식(expression)으로도 사용 가능 → 값 반환\n",
    "\n",
    "### 기존 방식\n",
    "```java\n",
    "int numLetters;\n",
    "switch (day) {\n",
    "    case MONDAY:\n",
    "    case FRIDAY:\n",
    "    case SUNDAY:\n",
    "        numLetters = 6;\n",
    "        break;\n",
    "    case TUESDAY:\n",
    "        numLetters = 7;\n",
    "        break;\n",
    "    default:\n",
    "        numLetters = 0;\n",
    "}\n",
    "```\n",
    "\n",
    "### 새로운 방식\n",
    "```java\n",
    "int numLetters = switch (day) {\n",
    "    case MONDAY, FRIDAY, SUNDAY -> 6;\n",
    "    case TUESDAY                -> 7;\n",
    "    default                     -> 0;\n",
    "};\n",
    "```"
   ]
  },
  {
   "cell_type": "markdown",
   "id": "21a34057-8480-4d25-bf66-7e9486f92e7c",
   "metadata": {},
   "source": [
    "## yield 키워드\n",
    "- 계산이 여러 줄 필요한 경우 단순 ->로 값 반환이 불가능\n",
    "- 이때 yeild 키워드를 써서 반환할 값을 지정 - switch 표현식 블록에서 값을 반환하는 목적 (return 키워드로 값을 반환하는 것과 다름)\n",
    "\n",
    "```java\n",
    "int result = switch (op) {\n",
    "    case \"+\" -> 1;\n",
    "    case \"-\" -> -1;\n",
    "    case \"*\" -> {\n",
    "        int a = 2;\n",
    "        int b = 3;\n",
    "        int calc = a * b;\n",
    "        yield calc;   // 블록 내부에서 값 반환\n",
    "    }\n",
    "    default -> 0;\n",
    "};\n",
    "```"
   ]
  },
  {
   "cell_type": "code",
   "execution_count": null,
   "id": "ff35548d-ba61-4b08-b883-243f05f9420f",
   "metadata": {},
   "outputs": [],
   "source": []
  }
 ],
 "metadata": {
  "kernelspec": {
   "display_name": "Python 3 (ipykernel)",
   "language": "python",
   "name": "python3"
  },
  "language_info": {
   "codemirror_mode": {
    "name": "ipython",
    "version": 3
   },
   "file_extension": ".py",
   "mimetype": "text/x-python",
   "name": "python",
   "nbconvert_exporter": "python",
   "pygments_lexer": "ipython3",
   "version": "3.12.4"
  }
 },
 "nbformat": 4,
 "nbformat_minor": 5
}
