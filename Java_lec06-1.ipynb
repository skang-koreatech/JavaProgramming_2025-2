{
 "cells": [
  {
   "cell_type": "markdown",
   "id": "e0347503-f8ba-4163-a2ef-e380970babdc",
   "metadata": {},
   "source": [
    "# 자바프로그래밍 (01분반)"
   ]
  },
  {
   "cell_type": "markdown",
   "id": "f59d9ffc-d5a8-4212-97a9-50dc350d761d",
   "metadata": {},
   "source": [
    "# 1. 타입 변환과 다형성\n",
    "## 혼공자 07-2 (p.354 ~ p.378)"
   ]
  },
  {
   "cell_type": "markdown",
   "id": "fd331122-d128-462a-bc7f-f535fe840e31",
   "metadata": {},
   "source": [
    "### 다형성 (Polymorphism)\n",
    "- 사용 방법은 동일하지만 다양한 객체를 이용해서 다양한 실행결과가 나오도록 하는 성질\n",
    "- 메소드 재정의(Overriding)과 타입 변환이 다형성 구현에 중요 요소 "
   ]
  },
  {
   "cell_type": "markdown",
   "id": "24ea109d-aa7c-4e3f-9cb7-8641482f22bc",
   "metadata": {},
   "source": [
    "### 자동 타입 변환\n",
    "- 타입 변환: 어떤 데이터 타입을 다른 타입으로 변환하는 것\n",
    "- 자동 타입 변환: 프로그램 실행 도중에 자동적으로 타입 변환이 일어나는 것"
   ]
  },
  {
   "cell_type": "markdown",
   "id": "8c9bf338-5171-46c5-8730-b2b72b54e0cc",
   "metadata": {},
   "source": [
    "##### 기본 데이터 타입의 자동 타입 변환\n",
    "- 정수 타입 변수가 산술 연산식에서 피연산자로 사용되면 int 타입보다 작은 byte, short 타입의 변수는 int 타입으로 자동 변환되어 연산 수행"
   ]
  },
  {
   "cell_type": "markdown",
   "id": "e821bfcf-51af-4947-b1b4-2873a57c0521",
   "metadata": {},
   "source": [
    "```java\n",
    "byte x = 10;\n",
    "byte y = 20;\n",
    "int result = x + y; // byte 타입 변수가 산술 연산의 피연사자로 사용되어 int 타입으로 자동 변환"
   ]
  },
  {
   "cell_type": "markdown",
   "id": "23624834",
   "metadata": {},
   "source": [
    "- int 타입보다 범위가 큰 long 타입이 피연산자로 사용되면 다른 피연산자는 무조건 long 타입으로 변환되어 연산 수행"
   ]
  },
  {
   "cell_type": "markdown",
   "id": "7349c5b7",
   "metadata": {},
   "source": [
    "```java\n",
    "byte v1 = 10;\n",
    "int v2 = 100;\n",
    "long v3 = 1000;\n",
    "long result = v1 + v2 + v3\n",
    "```"
   ]
  },
  {
   "cell_type": "markdown",
   "id": "ad2a843b",
   "metadata": {},
   "source": [
    "- 피연산자 중 하나가 double 타입이라면 다른 피연산자도 double 타입으로 자동 변환되어 연산 수행"
   ]
  },
  {
   "cell_type": "markdown",
   "id": "08db383b",
   "metadata": {},
   "source": [
    "```java\n",
    "int intVal = 100;\n",
    "double doubleVal = 55.5;\n",
    "double result = intVal + doubleVal; // intVal이 double 타입으로 자동 변환\n",
    "```"
   ]
  },
  {
   "cell_type": "markdown",
   "id": "2f3554c7",
   "metadata": {},
   "source": [
    "##### 클래스의 자동 타입 변환 "
   ]
  },
  {
   "cell_type": "markdown",
   "id": "8b55b254",
   "metadata": {},
   "source": [
    "- 클래스의 타입 변환은 상속 관계에 있는 클래스 사이에서 발생\n",
    "- 자식은 부모 타입으로 자동 타입 변환 가능\n",
    "    - 자식은 부모의 특징과 기능을 상속받기 때문에 부모와 동일하게 취급될 수 있다는 개념"
   ]
  },
  {
   "cell_type": "markdown",
   "id": "9816dd6d",
   "metadata": {},
   "source": [
    "- 상속 관계의 Animal과 Cat 클래스 예제\n",
    "\n",
    "```java\n",
    "class Animal {\n",
    "    ...\n",
    "}\n",
    "\n",
    "class Cat extends Animal {\n",
    "    ...\n",
    "}\n",
    "\n",
    "Cat cat = new Cat(); // Cat 객체 생성\n",
    "\n",
    "Animal animal = cat; // Cat 객체를 Animal 변수에 대입 - 자동 타입 변환이 일어남\n",
    "```"
   ]
  },
  {
   "cell_type": "markdown",
   "id": "8a0c00ce",
   "metadata": {},
   "source": [
    "- 바로 위의 부모가 아니더라도 상속 계층에서 상위 클래스에 대해서는 자동 타입 변환이 일어날 수 있음"
   ]
  },
  {
   "cell_type": "markdown",
   "id": "cc30b70e",
   "metadata": {},
   "source": [
    "```java\n",
    "package sec02.exam01;\n",
    "\n",
    "class A {}\n",
    "\n",
    "class B extends A {}\n",
    "class C extends A {}\n",
    "\n",
    "class D extends B {}\n",
    "class E extends C {}\n",
    "\n",
    "public class PromotionExample {\n",
    "\tpublic static void main(String[] args) {\n",
    "\t\tB b = new B();\n",
    "\t\tC c = new C();\n",
    "\t\tD d = new D();\n",
    "\t\tE e = new E();\t\t\n",
    "\t\t\n",
    "\t\tA a1 = b;\n",
    "\t\tA a2 = c;\n",
    "\t\tA a3 = d;\n",
    "\t\tA a4 = e;\n",
    "\t\t\n",
    "\t\tB b1 = d;\n",
    "\t\tC c1 = e;\n",
    "\n",
    "\t\tB b3 = e; // 상속 관계에 있지 않기 때문에 컴파일 에러 발생\n",
    "\t\tC c2 = d; // 상속 관계에 있지 않기 때문에 컴파일 에러 발생\n",
    "\t}\n",
    "}\n",
    "\n"
   ]
  },
  {
   "cell_type": "markdown",
   "id": "b8b44e32",
   "metadata": {},
   "source": [
    "- 부모 타입으로 자동 타입 변환된 이후에는 부모 클래스에 선언된 필드와 메소드만 접근 가능\n",
    "- 예외적으로 메소드가 자식 클래스에서 재정의되었다면 자식 클래스의 메소드가 대신 호출됨 - 다형성 구현"
   ]
  },
  {
   "cell_type": "markdown",
   "id": "fa939ec2",
   "metadata": {},
   "source": [
    "```java\n",
    "package sec02.exam02;\n",
    "\n",
    "public class Parent {\n",
    "\tpublic void method1() {\n",
    "\t\tSystem.out.println(\"Parent-method1()\");\n",
    "\t}\n",
    "\t\n",
    "\tpublic void method2() {\n",
    "\t\tSystem.out.println(\"Parent-method2()\");\n",
    "\t}\n",
    "}\n",
    "```"
   ]
  },
  {
   "cell_type": "markdown",
   "id": "05f44165",
   "metadata": {},
   "source": [
    "```java\n",
    "package sec02.exam02;\n",
    "\n",
    "public class Child extends Parent {\n",
    "\t@Override\n",
    "\tpublic void method2() {\n",
    "\t\tSystem.out.println(\"Child-method2()\");\n",
    "\t}\n",
    "\t\n",
    "\tpublic void method3() {\n",
    "\t\tSystem.out.println(\"Child-method3()\");\n",
    "\t}\n",
    "}\n",
    "```"
   ]
  },
  {
   "cell_type": "markdown",
   "id": "8cf345d1",
   "metadata": {},
   "source": [
    "```java\n",
    "package sec02.exam02;\n",
    "\n",
    "public class ChildExample {\n",
    "\tpublic static void main(String[] args) {\n",
    "\t\t  Child child = new Child(); // Child 객체 생성\n",
    "\n",
    "\t\t  Parent parent = child; // Child를 Parent 타입으로 타입 변환\n",
    "\n",
    "\t\t  parent.method1(); // Parent에 method1()이 정의되어 있으므로 호출 가능\n",
    "\n",
    "\t\t  parent.method2(); // Child에 재정의된 method2()가 호출됨\n",
    "\n",
    "\t\t  parent.method3();  // 호출 불가능 - method3()는 Child에 있으나 Parent에 없음\n",
    "\t}\n",
    "}\n",
    "```"
   ]
  },
  {
   "cell_type": "markdown",
   "id": "d67d9883",
   "metadata": {},
   "source": [
    "### 필드의 다형성\n",
    "- 클래스의 필드의 타입을 부모 타입으로 선언\n",
    "    - 다양한 자식 객체들이 저장될 수 있음\n",
    "    - 필드 사용 결과가 달라질 수 있음"
   ]
  },
  {
   "cell_type": "markdown",
   "id": "a8f12862",
   "metadata": {},
   "source": [
    "```java\n",
    "// 부모 클래스\n",
    "class MenuItem {\n",
    "    protected String name;\n",
    "    protected int basePrice;\n",
    "\n",
    "    public MenuItem(String name, int basePrice) {\n",
    "        this.name = name;\n",
    "        this.basePrice = basePrice;\n",
    "    }\n",
    "\n",
    "    public int calcPrice() { return basePrice; }\n",
    "\n",
    "    public String getName() { return name; }\n",
    "}\n",
    "\n",
    "// 자식 클래스 1: 커피\n",
    "class Coffee extends MenuItem {\n",
    "    private int extraShot;\n",
    "\n",
    "    public Coffee(String name, int basePrice, int extraShot) {\n",
    "        super(name, basePrice);\n",
    "        this.extraShot = extraShot;\n",
    "    }\n",
    "\n",
    "    @Override\n",
    "    public int calcPrice() {\n",
    "        return basePrice + (extraShot * 500);\n",
    "    }\n",
    "}\n",
    "\n",
    "// 자식 클래스 2: 디저트\n",
    "class Dessert extends MenuItem {\n",
    "    private boolean packaged;\n",
    "\n",
    "    public Dessert(String name, int basePrice, boolean packaged) {\n",
    "        super(name, basePrice);\n",
    "        this.packaged = packaged;\n",
    "    }\n",
    "\n",
    "    @Override\n",
    "    public int calcPrice() {\n",
    "        return basePrice + (packaged ? 500 : 0);\n",
    "    }\n",
    "}\n",
    "\n",
    "// 주문 클래스 (필드 다형성 활용)\n",
    "class Order {\n",
    "    MenuItem item;  // 부모 타입 필드 : MenuItem의 자식 클래스인 Coffee나 Dessert 클래스 객체 어떤 것도 참조 가능\n",
    "    int quantity;\n",
    "\n",
    "    public void printOrder() {\n",
    "        System.out.println(item.getName() + \" x \" + quantity + \" -> \" + (item.calcPrice() * quantity) + \"원\");\n",
    "    }\n",
    "}\n",
    "```"
   ]
  },
  {
   "cell_type": "markdown",
   "id": "7a091318",
   "metadata": {},
   "source": [
    "```java\n",
    "public class FieldPolymorphismTest {\n",
    "    public static void main(String[] args) {\n",
    "        // Coffee 객체와 Dessert 객체를 부모 타입(MenuItem) 필드에 할당\n",
    "        Order order1 = new Order();\n",
    "        order1.item = new Coffee(\"아메리카노\", 3000, 1);\n",
    "        order1.quantity = 2;\n",
    "\n",
    "        Order order2 = new Order();\n",
    "        order2.item = new Dessert(\"치즈케이크\", 4500, true);\n",
    "        order2.quanity = 1;\n",
    "\n",
    "        order1.printOrder();\n",
    "        order2.printOrder();\n",
    "    }\n",
    "}\n",
    "```"
   ]
  },
  {
   "cell_type": "markdown",
   "id": "175e60ca",
   "metadata": {},
   "source": [
    "### 매개 변수의 다형성\n",
    "- 메소드를 호출할 때는 매개 변수의 타입과 동일한 매개값을 지정해야 함\n",
    "- 메소드의 매개 변수 타입이 클래스라면 해당 클래스의 자식 클래스 객체를 지정할 수 있음"
   ]
  },
  {
   "cell_type": "markdown",
   "id": "0f0ff24e",
   "metadata": {},
   "source": [
    "```java\n",
    "// 주문 처리 클래스\n",
    "class OrderProcessor {\n",
    "    \n",
    "    // 매개 변수 다형성\n",
    "    // processOrder 메소드의 첫번째 매개 변수를 MenuItem 타입으로 선언 -> MenuItem의 자식 클래스인 Coffee나 Dessert 객체 전달 가능\n",
    "\n",
    "    public void processOrder(MenuItem item, int quantity) {\n",
    "        int total = item.calcPrice() * quantity;\n",
    "\n",
    "        System.out.println(item.getName() + \" x \" + quantity + \" → \" + total + \"원\");\n",
    "    }\n",
    "}\n",
    "\n",
    "public class ParameterPolymorphismTest {\n",
    "    public static void main(String[] args) {\n",
    "        OrderProcessor processor = new OrderProcessor();\n",
    "\n",
    "        Coffee co = new Coffee(\"아메리카노\", 3000, 1);\n",
    "        Dessert de = new Dessert(\"치즈케이크\", 4500, true);\n",
    "\n",
    "        // processOrder 메소드의 MenuItem 타입 매개 변수 자리에 Coffee 객체 전달\n",
    "        processor.processOrder(co, 2);\n",
    "\n",
    "        // processOrder 메소드의 MenuItem 타입 매개 변수 자리에 Dessert 객체 전달\n",
    "        processor.processOrder(de, 1);\n",
    "    }\n",
    "}\n",
    "```\n"
   ]
  },
  {
   "cell_type": "markdown",
   "id": "1c8a03c4",
   "metadata": {},
   "source": [
    "### 강제 타입 변환\n",
    "- 부모 타입을 자식 타입으로 변환하는 것\n",
    "    - 모든 부모 타입을 자식 타입으로 강제 변환할 수 있는 것은 아님\n",
    "    - 자식 타입이 부모 타입으로 자동 타입 변환된 후 다시 자식 타입으로 변환할 때 강제 타입 변환 가능\n",
    "\n",
    "```java\n",
    "Parent parent = new Child(); // 자동 타입 변환\n",
    "Child child = (Child) parent; // 강제 타입 변환\n",
    "```"
   ]
  },
  {
   "cell_type": "markdown",
   "id": "7f99f69c",
   "metadata": {},
   "source": [
    "- 자동 타입 변환의 제약 사항\n",
    "    - 자식 타입이 부모 타입으로 자동 타입 변환되면 부모에 선언된 필드와 메소드만 사용 가능\n",
    "- 만약 자식에 선언된 필드와 메소드를 사용해야 한다면 강제 타입 변환을 해서 다시 자식 타입으로 변환한 다음 자식의 필드와 메소드를 사용하면 됨"
   ]
  },
  {
   "cell_type": "markdown",
   "id": "376dc6a1",
   "metadata": {},
   "source": [
    "```java\n",
    "package sec02.exam05;\n",
    "\n",
    "public class Parent {\n",
    "\tpublic String field1;\n",
    "\t\n",
    "\tpublic void method1() {\n",
    "\t\tSystem.out.println(\"Parent-method1()\");\n",
    "\t}\n",
    "\t\n",
    "\tpublic void method2() {\n",
    "\t\tSystem.out.println(\"Parent-method2()\");\n",
    "\t}\n",
    "}\n",
    "```"
   ]
  },
  {
   "cell_type": "markdown",
   "id": "d0f203cc",
   "metadata": {},
   "source": [
    "```java\n",
    "package sec02.exam05;\n",
    "\n",
    "public class Child extends Parent {\n",
    "\tpublic String field2;\n",
    "\t\n",
    "\tpublic void method3() {\n",
    "\t\tSystem.out.println(\"Child-method3()\");\n",
    "\t}\n",
    "}\n",
    "```"
   ]
  },
  {
   "cell_type": "markdown",
   "id": "e11ea022",
   "metadata": {},
   "source": [
    "```java\n",
    "package sec02.exam05;\n",
    "\n",
    "public class ChildExample {\n",
    "\tpublic static void main(String[] args) {\n",
    "\t\tParent parent = new Child(); // 자동 타입 변환\n",
    "\n",
    "\t\tparent.field1 = \"data1\"; // Parent 클래스에 정의된 필드인 field1 사용 가능\n",
    "\t\tparent.method1(); \t\t// Parent 클래스에 정의된 메소드인 method1() 사용 가능\n",
    "\t\tparent.method2();\t\t// Parent 클래스에 정의된 메소드인 method2() 사용 가능\n",
    "\n",
    "\t\t\n",
    "\t\tparent.field2 = \"data2\";  // Child 클래스에 정의된 필드인 field2 사용 불가능\n",
    "\t\tparent.method3();         // Child 클래스에 정의된 메소드인 method3() 사용 불가능\n",
    "\t\t\n",
    "\t\t\n",
    "\t\tChild child = (Child) parent;\t// 강제 타입 변환 - Parent 타입을 자식 클래스인 Child 타입으로 변환\n",
    "\t\tchild.field2 = \"yyy\";  // Child 클래스에 정의된 필드인 field2 사용 가능\n",
    "\t\tchild.method3();     // Child 클래스에 정의된 메소드인 method3() 사용 가능\n",
    "\t}\n",
    "}\n",
    "```"
   ]
  },
  {
   "cell_type": "markdown",
   "id": "26504463",
   "metadata": {},
   "source": [
    "### 객체 타입 확인\n",
    "- 강제 타입 변환은 자식 타입이 부모 타입으로 변환되어 있는 상태에서만 가능\n",
    "- 처음부터 부모 타입으로 생성된 객체는 자식 타입으로 변환할 수 없음\n",
    "\n",
    "```java\n",
    "Parent parent = new Parent();\n",
    "Child child = (Child) parent; // 강제 타입 변환 불가능\n",
    "```"
   ]
  },
  {
   "cell_type": "markdown",
   "id": "5647748b",
   "metadata": {},
   "source": [
    "- 부모 변수가 참조하는 객체가 부모 객체인지 자식 객체인지 확인하는 방법이 필요함\n",
    "- instanceof 연산자\n",
    "    - 객체가 어떤 클래스의 인스턴스인지 확인하기 위해 사용\n",
    "    - 주로 매개값의 타입을 조사할 때 사용됨\n",
    "    - 메소드 내에서 강제 타입 변환이 필요할 경우 반드시 매개값이 어떤 객체인지 instanceof 연산자로 확인하고 안전하게 강제 타입 변환을 해야 함"
   ]
  },
  {
   "cell_type": "markdown",
   "id": "ca7204dc",
   "metadata": {},
   "source": [
    "```java\n",
    "public void method(Parent parent) {\n",
    "    if (parent instanceof Child) { // Parent 타입 매개 변수인 parent가 Child 객체(인스턴스)이면 true, 아니면 false\n",
    "        Chlid child = (Child) parent; // Parent 타입 변수를 Child 타입으로 강제 타입 변환\n",
    "    }\n",
    "}\n",
    "```"
   ]
  },
  {
   "cell_type": "markdown",
   "id": "b1f092ee",
   "metadata": {},
   "source": [
    "- 메소드에서 instanceof 연산자를 사용하여 강제 타입 변환이 가능한지 확인하고 변환하는 예제와 그렇지 않은 예제 "
   ]
  },
  {
   "cell_type": "markdown",
   "id": "1458c73e",
   "metadata": {},
   "source": [
    "```java\n",
    "package sec02.exam06;\n",
    "\n",
    "public class Parent {\n",
    "}\n",
    "\n",
    "public class Child extends Parent {\n",
    "\n",
    "}\n",
    "\n",
    "public class InstanceofExample {\n",
    "    // Parent 타입 매개 변수 parent가 있는 메소드\n",
    "\tpublic static void method1(Parent parent) { \n",
    "\t\tif(parent instanceof Child) { // parent가 Child 타입 객체인지 확인\n",
    "\t\t\tChild child = (Child) parent; // 강제 타입 변환\n",
    "\t\t\tSystem.out.println(\"method1 - Child로 변환 성공\");\n",
    "\t\t} else {\n",
    "\t\t\tSystem.out.println(\"method1 - Child로 변환되지 않음\");\n",
    "\t\t}\n",
    "\t}\n",
    "\t\n",
    "    // Parent 타입 매개 변수 parent가 있는 메소드\n",
    "\tpublic static void method2(Parent parent) { \n",
    "\t\tChild child = (Child) parent; // 강제 타입 변환\n",
    "\t\tSystem.out.println(\"method2 - Child로 변환 성공\");\n",
    "\t}\n",
    "\t\n",
    "\tpublic static void main(String[] args) {\n",
    "\t\tParent parentA = new Child(); // 자동 타입 변환 - Child 객체를 Parent 타입 변수에 대입\n",
    "\t\tmethod1(parentA); // Parent 타입으로 자동 타입 변환된 Child 객체를 매개값으로 전달\n",
    "\t\tmethod2(parentA); // Parent 타입으로 자동 타입 변환된 Child 객체를 매개값으로 전달\n",
    "\t\t\n",
    "\t\tParent parentB = new Parent(); // Parent 객체 생성\n",
    "\t\tmethod1(parentB);\n",
    "\t\tmethod2(parentB); //예외 발생\n",
    "\t}\n",
    "}\n",
    "```"
   ]
  },
  {
   "cell_type": "markdown",
   "id": "7c4e7afd",
   "metadata": {},
   "source": [
    "#### 실행 결과\n",
    "##### method1 - Child로 변환 성공\n",
    "##### method2 - Child로 변환 성공\n",
    "##### method1 - Child로 변환되지 않음\n",
    "##### Exception in thread \"main\" java.lang.ClassCastException"
   ]
  },
  {
   "cell_type": "markdown",
   "id": "90f3b9ea",
   "metadata": {},
   "source": [
    "- 예외(Exception)이 발생하면 프로그램은 즉시 종료되기 때문에 강제 타입 변환을 하기 전에 instanceof 연산자로 변환시킬 타입의 객체인지 조사해서 잘못된 매개값으로 인해 프로그램이 종료되는 것을 막아야 함"
   ]
  }
 ],
 "metadata": {
  "kernelspec": {
   "display_name": "Python 3 (ipykernel)",
   "language": "python",
   "name": "python3"
  },
  "language_info": {
   "codemirror_mode": {
    "name": "ipython",
    "version": 3
   },
   "file_extension": ".py",
   "mimetype": "text/x-python",
   "name": "python",
   "nbconvert_exporter": "python",
   "pygments_lexer": "ipython3",
   "version": "3.13.5"
  }
 },
 "nbformat": 4,
 "nbformat_minor": 5
}
