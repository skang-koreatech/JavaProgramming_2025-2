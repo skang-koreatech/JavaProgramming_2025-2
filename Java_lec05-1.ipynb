{
 "cells": [
  {
   "cell_type": "markdown",
   "id": "e0347503-f8ba-4163-a2ef-e380970babdc",
   "metadata": {},
   "source": [
    "# 자바프로그래밍 (01분반)"
   ]
  },
  {
   "cell_type": "markdown",
   "id": "f065cf3f",
   "metadata": {},
   "source": [
    "## 메뉴 아이템 속성 예제\n",
    "\n",
    "- 커피류 / 허브티류 / 에이드류 속성 비교표\n",
    "\n",
    "\n",
    "| 구분       | 공통 속성 (Beverage) | 커피 (Coffee)            | 허브티 (HerbalTea)     | 에이드 (Ade)                       |\n",
    "|------------|----------------------|--------------------------|------------------------|-------------------------------------|\n",
    "| 이름       | `name`               | ✔                        | ✔                      | ✔                                   |\n",
    "| 기본 가격  | `basePrice`          | ✔                        | ✔                      | ✔                                   |\n",
    "| 사이즈 업  | -                    | -                        | -                      | ✔ (`largeSize`)                     |\n",
    "| 아이스 여부 | -                   | ✔ (`iced`)               | ✔ (`iced`)             | -                                   |\n",
    "| 샷 추가    | -                   | ✔ (`extraShot`)          | -                      | -                                   |\n",
    "| 탄산 여부  | -                   | -                        | -                      | ✔ (`sparkling`)                     |\n",
    "| 추가 비용 규칙 | -                 | 샷 × 500원, 아이스 +300원 | 아이스 +200원          | 탄산 +500원, 사이즈 업 +1000원      |\n",
    "\n"
   ]
  },
  {
   "cell_type": "markdown",
   "id": "c9a94c45",
   "metadata": {},
   "source": [
    "- 샌드위치류 / 샐러드류 / 파스타류 속성 비교표\n",
    "\n",
    "\n",
    "| 구분        | 공통 속성 (Meal)   | 샌드위치 (Sandwich)           | 샐러드 (Salad)              | 파스타 (Pasta)              |\n",
    "|-------------|--------------------|--------------------------------|-----------------------------|-----------------------------|\n",
    "| 이름        | `name`             | ✔                              | ✔                           | ✔                           |\n",
    "| 기본 가격   | `basePrice`        | ✔                              | ✔                           | ✔                           |\n",
    "| 리히팅 여부 | -                  | ✔ (`heated`)                   | -                           | -                           |\n",
    "| 치즈 추가   | -                  | ✔ (`addCheese`)                | -                           | -                           |\n",
    "| 치킨 추가   | -                  | -                              | ✔ (`addChicken`)            | -                           |\n",
    "| 아보카도 추가 | -                 | -                              | ✔ (`addAvocado`)            | -                           |\n",
    "| 소스 추가   | -                  | -                              | -                           | ✔ (`extraSauce`)            |\n",
    "| 해산물 추가 | -                  | -                              | -                           | ✔ (`addSeafood`)            |\n",
    "| 추가 비용 규칙 | -                | 리히팅 +300원 <br> 치즈 +700원 | 치킨 +1500원 <br> 아보카도 +1000원 | 소스 +500원 <br> 해산물 +2000원 |\n",
    "\n"
   ]
  },
  {
   "cell_type": "markdown",
   "id": "f4424b21",
   "metadata": {},
   "source": [
    "### 클래스 정의 예제\n",
    "\n",
    "```java\n",
    "// 커피 클래스\n",
    "class Coffee {\n",
    "    String name;\n",
    "    int basePrice;\n",
    "    int extraShot;   // 추가 샷 개수\n",
    "    boolean iced;    // 아이스 여부\n",
    "\n",
    "    public Coffee(String name, int basePrice, int extraShot, boolean iced) {\n",
    "        this.name = name;\n",
    "        this.basePrice = basePrice;\n",
    "        this.extraShot = extraShot;\n",
    "        this.iced = iced;\n",
    "    }\n",
    "\n",
    "    public void printInfo() {\n",
    "        System.out.println(name + \" - \" + basePrice + \"원\");\n",
    "    }\n",
    "\n",
    "    public int calcPrice() {\n",
    "        int price = basePrice;\n",
    "        price += extraShot * 500;\n",
    "        if (iced) price += 300;\n",
    "        return price;\n",
    "    }\n",
    "}\n",
    "\n",
    "// 허브티 클래스\n",
    "class HerbalTea {\n",
    "    String name;\n",
    "    int basePrice;\n",
    "    boolean iced;    // 아이스 여부\n",
    "\n",
    "    public HerbalTea(String name, int basePrice, boolean iced) {\n",
    "        this.name = name;\n",
    "        this.basePrice = basePrice;\n",
    "        this.iced = iced;\n",
    "    }\n",
    "\n",
    "    public void printInfo() {\n",
    "        System.out.println(name + \" - \" + basePrice + \"원\");\n",
    "    }\n",
    "\n",
    "    public int calcPrice() {\n",
    "        int price = basePrice;\n",
    "        if (iced) price += 200;\n",
    "        return price;\n",
    "    }\n",
    "}\n",
    "\n",
    "// 에이드 클래스\n",
    "class Ade {\n",
    "    String name;\n",
    "    int basePrice;\n",
    "    boolean sparkling; // 탄산 여부\n",
    "    boolean largeSize; // 사이즈 업 여부\n",
    "\n",
    "    public Ade(String name, int basePrice, boolean sparkling, boolean largeSize) {\n",
    "        this.name = name;\n",
    "        this.basePrice = basePrice;\n",
    "        this.sparkling = sparkling;\n",
    "        this.largeSize = largeSize;\n",
    "    }\n",
    "\n",
    "    public void printInfo() {\n",
    "        System.out.println(name + \" - \" + basePrice + \"원\");\n",
    "    }\n",
    "\n",
    "    public int calcPrice() {\n",
    "        int price = basePrice;\n",
    "        if (sparkling) price += 500;\n",
    "        if (largeSize) price += 1000;\n",
    "        return price;\n",
    "    }\n",
    "}\n",
    "\n",
    "```"
   ]
  },
  {
   "cell_type": "markdown",
   "id": "133e32aa",
   "metadata": {},
   "source": [
    "- 테스트 코드 예제\n",
    "```java\n",
    "public class CafeTest {\n",
    "    public static void main(String[] args) {\n",
    "        Coffee coffee = new Coffee(\"아메리카노\", 3000, 1, true);\n",
    "        HerbalTea tea = new HerbalTea(\"캐모마일\", 3500, false);\n",
    "        Ade ade = new Ade(\"레몬에이드\", 4000, true, true);\n",
    "\n",
    "        coffee.printInfo();\n",
    "        System.out.println(\"가격: \" + coffee.calcPrice());\n",
    "\n",
    "        tea.printInfo();\n",
    "        System.out.println(\"가격: \" + tea.calcPrice());\n",
    "\n",
    "        ade.printInfo();\n",
    "        System.out.println(\"가격: \" + ade.calcPrice());\n",
    "    }\n",
    "}\n",
    "```"
   ]
  },
  {
   "cell_type": "markdown",
   "id": "377b1ac7",
   "metadata": {},
   "source": [
    "#### 위와 같이 메뉴 카테고리별 클래스로 정의할 때 문제점\n",
    "- 중복 코드가 많아짐 : name, basePrice 필드, printInfo() 메소드 등이 모든 클래스에 반복되어 유지보수 어려워짐\n",
    "- 확장성 부족 : 새로운 카테고리 메뉴 추가 시 또다시 유사한 코드 작성이 필요하고 새로운 공통 기능을 추가해야할 때 모든 클래스에 일일이 추가해야 함\n",
    "- 유지 관리 어려움 : 메뉴 카테고리 별로 아이템의 개수가 많을 경우 각각을 따로 관리해야 하고 메뉴 전체를 한 리스트에 담아서 출력하거나 관리하기 어려움"
   ]
  },
  {
   "cell_type": "markdown",
   "id": "f59d9ffc-d5a8-4212-97a9-50dc350d761d",
   "metadata": {},
   "source": [
    "# 1. 상속\n",
    "### 혼공자 07-1 (p.332 ~ p.353)"
   ]
  },
  {
   "cell_type": "markdown",
   "id": "fd331122-d128-462a-bc7f-f535fe840e31",
   "metadata": {},
   "source": [
    "### 상속\n",
    "- 부모 클래스의 멤버(필드와 메소드)를 자식 클래스에게 물려주는 것\n",
    "- 이미 잘 개발된 클래스를 재사용해서 새로운 클래스를 만들기 때문에 중복되는 코드를 줄여줌\n",
    "- 부모 클래스의 수정으로 모든 자식 클래스들도 수정되는 효과가 있어 유지 보수 시간을 줄여줌\n",
    "\n"
   ]
  },
  {
   "cell_type": "markdown",
   "id": "f40b3122-074e-4277-87f4-9c5988a457e7",
   "metadata": {},
   "source": [
    "```java\n",
    "\n",
    "class Car {\n",
    "    String model;\n",
    "    String color;\n",
    "   \n",
    "    Car(String model, String color) {\n",
    "        this.model = model;\n",
    "        this.color = color;\n",
    "    }\n",
    "\n",
    "    void showInfo() {\n",
    "        System.out.println(\"모델: \" + model + \", 색상: \" + color);\n",
    "    }\n",
    "}\n",
    "``` "
   ]
  },
  {
   "cell_type": "markdown",
   "id": "d2d07557-1f99-46d0-83e8-a892795d1656",
   "metadata": {},
   "source": [
    "- extends 키워드 사용\n",
    "    - 상속받을 클래스 이름을 extends 뒤에 기술"
   ]
  },
  {
   "cell_type": "markdown",
   "id": "3105f32c-be79-481a-a33f-7bf5af5e1695",
   "metadata": {},
   "source": [
    "```java\n",
    "class SportsCar extends Car {\n",
    "    // 필드\n",
    "    // 생성자\n",
    "    // 메소드\n",
    "}\n",
    "```"
   ]
  },
  {
   "cell_type": "markdown",
   "id": "aaf902f2-423b-4f38-be49-3884aef7845a",
   "metadata": {},
   "source": [
    "- 자바에서 상속의 특징\n",
    "  - 다중 상속을 허용하지 않음 : 여러 개의 부모 클래스를 상속할 수 없음\n",
    "  - 부모 클래스에서 private 접근 제한을 갖는 필드와 메소드는 상속 대상에서 제외됨\n",
    "  - 부모 클래스와 자식 클래스가 다른 패키지에 존재한다면 default 접근 제한을 갖는 필드와 메소드도 상속 대상에서 제외됨"
   ]
  },
  {
   "cell_type": "markdown",
   "id": "a403b241-e351-499b-8ba0-e5bebcf700ec",
   "metadata": {},
   "source": [
    "- 클래스 상속 예제\n",
    "  - 핸드폰(CellPhone) 클래스\n",
    "  - DMB폰(DmbCellPhone) 클래스\n",
    "\n"
   ]
  },
  {
   "cell_type": "markdown",
   "id": "70471626-93cb-49a0-81ab-3caae2c7a633",
   "metadata": {},
   "source": [
    "```java\n",
    "package sec01.exam01;\n",
    "\n",
    "public class CellPhone {\n",
    "\t//필드\n",
    "\tString model;\n",
    "\tString color;\n",
    "\t\n",
    "\t//생성자\n",
    "\t\n",
    "\t//메소드\n",
    "\tvoid powerOn() { System.out.println(\"전원을 켭니다.\"); }\t\n",
    "\tvoid powerOff() { System.out.println(\"전원을 끕니다.\"); }\n",
    "\tvoid bell() { System.out.println(\"벨이 울립니다.\"); }\t\n",
    "\tvoid sendVoice(String message) { System.out.println(\"자기: \" + message); }\t\n",
    "\tvoid receiveVoice(String message) { System.out.println(\"상대방: \" + message); }\t\n",
    "\tvoid hangUp() { System.out.println(\"전화를 끊습니다.\"); }\n",
    "}\n",
    "```"
   ]
  },
  {
   "cell_type": "markdown",
   "id": "ed38b6d0-1450-4dd2-b7bf-a5b307725bdb",
   "metadata": {},
   "source": [
    "```java\n",
    "package sec01.exam01;\n",
    "\n",
    "public class DmbCellPhone extends CellPhone {\n",
    "\t//필드\n",
    "\tint channel;\n",
    "\t\n",
    "\t//생성자\n",
    "\tDmbCellPhone(String model, String color, int channel) {\n",
    "\t\tthis.model = model;\n",
    "\t\tthis.color = color;\n",
    "\t\tthis.channel = channel;\n",
    "\t}\n",
    "\n",
    "\t//메소드\n",
    "\tvoid turnOnDmb() {\n",
    "\t\tSystem.out.println(\"채널 \" + channel + \"번 DMB 방송 수신을 시작합니다.\");\n",
    "\t}\t\n",
    "\tvoid changeChannelDmb(int channel) {\n",
    "\t\tthis.channel = channel;\n",
    "\t\tSystem.out.println(\"채널 \" + channel + \"번으로 바꿉니다.\");\n",
    "\t}\n",
    "\tvoid turnOffDmb() {\n",
    "\t\tSystem.out.println(\"DMB 방송 수신을 멈춥니다.\");\n",
    "\t}\t\n",
    "}\n",
    "```\n"
   ]
  },
  {
   "cell_type": "markdown",
   "id": "84bd4d31-c11a-4e26-98f0-fd7b24a63cf9",
   "metadata": {},
   "source": [
    "```java\n",
    "package sec01.exam01;\n",
    "\n",
    "public class DmbCellPhoneExample {\n",
    "\tpublic static void main(String[] args) {\n",
    "\t\t//DmbCellPhone 객체 생성\n",
    "\t\tDmbCellPhone dmbCellPhone = new DmbCellPhone(\"자바폰\", \"검정\", 10);\n",
    "\t\t\n",
    "\t\t//CellPhone으로부터 상속 받은 필드\n",
    "\t\tSystem.out.println(\"모델: \" + dmbCellPhone.model);\n",
    "\t\tSystem.out.println(\"색상: \" + dmbCellPhone.color);\n",
    "\t\t\n",
    "\t\t//DmbCellPhone의 필드\n",
    "\t\tSystem.out.println(\"채널: \" + dmbCellPhone.channel);\n",
    "\t\t\n",
    "\t\t//CellPhone으로부터 상속 받은 메소드 호출\n",
    "\t\tdmbCellPhone.powerOn();\n",
    "\t\tdmbCellPhone.bell();\n",
    "\t\tdmbCellPhone.sendVoice(\"여보세요\");\n",
    "\t\tdmbCellPhone.receiveVoice(\"안녕하세요! 저는 홍길동인데요\");\n",
    "\t\tdmbCellPhone.sendVoice(\"아~ 예 반갑습니다.\");\n",
    "\t\tdmbCellPhone.hangUp();\n",
    "\n",
    "\t\t//DmbCellPhone의 메소드 호출\n",
    "\t\tdmbCellPhone.turnOnDmb();\n",
    "\t\tdmbCellPhone.changeChannelDmb(12);\n",
    "\t\tdmbCellPhone.turnOffDmb();\n",
    "\t}\n",
    "}\n",
    "```"
   ]
  },
  {
   "cell_type": "markdown",
   "id": "dbca57ac-8d5e-4178-ad36-b7070dc7bbe4",
   "metadata": {},
   "source": [
    "### 부모 생성자 호출\n",
    "- 자식 클래스의 객체를 생성하면, 부모 클래스 객체가 먼저 생성되고 그다음에 자식 객체가 생성됨\n",
    "- 아래 코드에서 DmbCellPhone 객체만 생성하는 것으로 보이지만 내부적으로 부모인 CellPhone 객체가 먼저 생성되고 자식인 DmbCellPhone 객체가 생성되는 것\n",
    "\n",
    "```java\n",
    "DmbCellPhone dmbCellPhone = new DmbCellPhone(\"자바폰\", \"검정\", 10);\n",
    "```"
   ]
  },
  {
   "cell_type": "markdown",
   "id": "7dac5bad-da17-492f-abc1-fa3576b20947",
   "metadata": {},
   "source": [
    "- 모드 객체는 클래스의 생성자를 호출해야만 생성됨\n",
    "- 부모 객체가 생성된다는 얘기는 어디선가 부모 클래스의 생성자를 호출한 것\n",
    "    - 부모 생성자는 자식 생성자의 맨 첫 줄에서 호출됨\n"
   ]
  },
  {
   "cell_type": "markdown",
   "id": "0a4f7ba8-5d88-4a13-8f96-3a0a0ffd68ed",
   "metadata": {},
   "source": [
    "- 아래 DmbCellPhone 생성자에서는 부모인 CellPhone 생성자를 호출하는 부분이 없는데?\n",
    "\n",
    " ```java\n",
    "    //생성자\n",
    "    DmbCellPhone(String model, String color, int channel) {\n",
    "        this.model = model;\n",
    "        this.color = color;\n",
    "        this.channel = channel;\n",
    "    }\n",
    "```"
   ]
  },
  {
   "cell_type": "markdown",
   "id": "6bf6091d-9c1f-4038-b30b-dcc6171c0e38",
   "metadata": {},
   "source": [
    "- 컴파일러가 기본 생성자를 생성하고 내부에서 super() 호출\n",
    "    - super() : 부모 클래스의 기본 생성자를 호출하는 것\n",
    "\n",
    "```java\n",
    "public DmbCellPhone() {\n",
    "    super();\n",
    "}\n",
    "```\n",
    "- CellPhone 클래스의 생성자가 선언되지 않았지만 컴파일러에 의해 기본 생성자가 만들어지므로 문제없이 실행됨\n",
    "\n",
    "```java\n",
    "public CellPhone() {\n",
    "}\n",
    "```"
   ]
  },
  {
   "cell_type": "markdown",
   "id": "7e7ae9f0-d1f1-424e-b2c6-391bdef32920",
   "metadata": {},
   "source": [
    "- 직접 자식 생성자를 선언하고 명시적으로 부모 생성자를 호출하고 싶다면 다음과 같이 작성\n",
    "\n",
    "```java\n",
    "자식클래스(매개변수선언, ...) {\n",
    "    super(매개값, ...); // 자식 생성자 첫 줄에 위치해야 하며 그렇지 않으면 컴파일 에러 발생\n",
    "    ...\n",
    "}\n",
    "```"
   ]
  },
  {
   "cell_type": "markdown",
   "id": "4c8abac4-915e-43bb-a32c-f91fa6cffaf4",
   "metadata": {},
   "source": [
    "- 예제\n",
    "  - People : 부모 클래스\n",
    "  - Student : 자식 클래스 "
   ]
  },
  {
   "cell_type": "markdown",
   "id": "ca749fa7-68af-4398-a997-afd61562bb0e",
   "metadata": {},
   "source": [
    "```java\n",
    "package sec01.exam02;\n",
    "\n",
    "public class People {\n",
    "\tpublic String name;\n",
    "\tpublic String ssn;\n",
    "\t\n",
    "\tpublic People(String name, String ssn) {\n",
    "\t\tthis.name = name;\n",
    "\t\tthis.ssn = ssn;\n",
    "\t}\n",
    "}\n",
    "```"
   ]
  },
  {
   "cell_type": "markdown",
   "id": "50ae20ac-3a7a-405f-a535-9e6303e359ee",
   "metadata": {},
   "source": [
    "- People 클래스에 기본 생성자가 없고 name과 ssn을 매개값으로 받아 객체를 생성하는 생성자만 존재\n",
    "    - People을 상속하는 Student 클래스는 생성자에서 super(name, ssn)으로 People 클래스의 생성자를 호출해야 함"
   ]
  },
  {
   "cell_type": "markdown",
   "id": "c4786c5a-3910-40a8-babb-607ee12ea932",
   "metadata": {},
   "source": [
    "```java\n",
    "package sec01.exam02;\n",
    "\n",
    "public class Student extends People{\n",
    "\tpublic int studentNo;\n",
    "\t\n",
    "\tpublic Student(String name, String ssn, int studentNo) {\n",
    "\t\tsuper(name, ssn); // 부모 생성자 호출\n",
    "\t\tthis.studentNo = studentNo;\n",
    "\t}\n",
    "}\n",
    "```\n"
   ]
  },
  {
   "cell_type": "markdown",
   "id": "1805a517-10a5-48cf-86e8-441e44e0a37f",
   "metadata": {},
   "source": [
    "```java\n",
    "package sec01.exam02;\n",
    "\n",
    "public class StudentExample {\n",
    "\tpublic static void main(String[] args) {\n",
    "\t\tStudent student = new Student(\"홍길동\", \"123456-1234567\", 1);\n",
    "\t\tSystem.out.println(\"name : \" + student.name); // 부모에게 상속받은 필드 출력\n",
    "\t\tSystem.out.println(\"ssn : \" + student.ssn);   // 부모에게 상속받은 필드 출력\n",
    "\t\tSystem.out.println(\"studentNo : \" + student.studentNo);\n",
    "\t}\n",
    "}\n",
    "```"
   ]
  },
  {
   "cell_type": "markdown",
   "id": "0a1383a3-d0f5-41db-bb9b-f35fba7193a0",
   "metadata": {},
   "source": [
    "### 메소드 재정의 (Method Overriding)\n",
    "- 자식 클래스에서 부모 클래스의 메소드를 다시 정의하는 것\n",
    "- 재정의 규칙\n",
    "  - 부모의 메소드와 동일한 시그너처(리턴 타입, 메소드 이름, 매개 변수 목록)을 가져야 함\n",
    "  - 접근 제한을 더 강하게 할 수 없음 : 예들 들면 부모 메소드가 public인데 재정의하는 자식 메소드가 default 혹은 private 접근 제한으로 수정할 수 없음\n",
    "  - 새로운 예외(Exception)를 throws할 수 없음 (예외: 10장)"
   ]
  },
  {
   "cell_type": "markdown",
   "id": "dc5f3b99-5804-4a16-ac39-a93b5b141a0f",
   "metadata": {},
   "source": [
    "- 메소드 재정의 예제\n",
    "  - Calculator : 부모 클래스\n",
    "  - Computer : 자식 클래스"
   ]
  },
  {
   "cell_type": "markdown",
   "id": "db110204-baeb-40db-8a23-9bfc5e6aaf79",
   "metadata": {},
   "source": [
    "```java\n",
    "package sec01.exam03;\n",
    "\n",
    "public class Calculator {\t\n",
    "\tdouble areaCircle(double r) { \n",
    "\t\tSystem.out.println(\"Calculator 객체의 areaCircle() 실행\");\n",
    "\t\treturn 3.14159 * r * r; \n",
    "\t}\n",
    "}\n",
    "```"
   ]
  },
  {
   "cell_type": "markdown",
   "id": "6b25bf68-bb9f-4e8b-ad08-02cb81223527",
   "metadata": {},
   "source": [
    "```java\n",
    "package sec01.exam03;\n",
    "\n",
    "public class Computer extends Calculator {\n",
    "\t@Override\n",
    "\tdouble areaCircle(double r) {\n",
    "\tSystem.out.println(\"Computer 객체의 areaCircle() 실행\");\n",
    "\t\treturn Math.PI * r * r;\n",
    "\t}\n",
    "}\n",
    "```"
   ]
  },
  {
   "cell_type": "markdown",
   "id": "3ee9b51b-adbe-4a23-8e2a-59ddb31acfcf",
   "metadata": {},
   "source": [
    "- Math : 수학 계산과 관련된 필드와 메소드를 가지고 있는 클래스로 자바 표준 API\n",
    "  - Math.PI : 원주율 값을 나타내는 상수\n",
    "\n",
    "- @Override : 자바 어노테이션 중 하나로 메소드가 재정의된 것이라는 정보를 주기 위해 사용\n",
    "  - 컴파일러가 오류 없이 재정의된 것인지 확인하기 때문에 개발자의 실수를 줄여줌\n",
    "  - 예를 들어 실수로 메소드 시그너처를 잘못 쓰면 컴파일 에러 발생"
   ]
  },
  {
   "cell_type": "markdown",
   "id": "0546f809-00e8-4afe-8311-5a8fd49f4b8a",
   "metadata": {},
   "source": [
    "```java\n",
    "package sec01.exam03;\n",
    "\n",
    "public class ComputerExample {\n",
    "\tpublic static void main(String[] args) {\t\t\n",
    "\t\tint r = 10;\t\t\n",
    "\t\tCalculator calculator = new Calculator();\n",
    "\t\tSystem.out.println(\"원면적 : \" + calculator.areaCircle(r));\t\t\n",
    "\t\tSystem.out.println();\t\t\n",
    "\t\tComputer computer = new Computer();\n",
    "\t\tSystem.out.println(\"원면적 : \" + computer.areaCircle(r));\n",
    "\t}\n",
    "}\n",
    "\n",
    "```"
   ]
  },
  {
   "cell_type": "markdown",
   "id": "f9849f50-c09b-4e03-a226-abb4c8c6b6a6",
   "metadata": {},
   "source": [
    "- 실행결과\n",
    "##### Calculator 객체의 areaCircle() 실행\n",
    "##### 원면적 : 314.159\n",
    "\n",
    "##### Computer 객체의 areaCircle() 실행\n",
    "##### 원면적 : 314.1592653589793\n"
   ]
  },
  {
   "cell_type": "markdown",
   "id": "d40264c2-0cee-4169-a207-f8b9fc65e1c4",
   "metadata": {},
   "source": [
    "#### 부모 메소드 호출\n",
    "- 자식 클래스에서 부모 클래스의 메소드를 재정의하게 되면 부모 클래스의 메소드는 숨겨지고 재정의된 자식 메소드만 사용됨\n",
    "- 자식 클래스 내부에서 재정의된 부모 클래스의 메소드를 호출해야 하는 상황이 발생한다면 명시적으로 super 키워드를 붙여서 부모 메소드를 호출할 수 있음"
   ]
  },
  {
   "cell_type": "markdown",
   "id": "a5eb0fed-3686-4aee-b1b0-81ad34fcb5f5",
   "metadata": {},
   "source": [
    "- 예제\n",
    "  - Airplane : 부모 클래스\n",
    "  - SupersonicAirplane : 자식 클래스"
   ]
  },
  {
   "cell_type": "markdown",
   "id": "6298acc0-11b5-4d15-b150-7f172ef8c36c",
   "metadata": {},
   "source": [
    "```java\n",
    "package sec01.exam04;\n",
    "\n",
    "public class Airplane {\n",
    "\tpublic void land() {\n",
    "\t\tSystem.out.println(\"착륙합니다.\");\n",
    "\t}\t\n",
    "\tpublic void fly() {\n",
    "\t\tSystem.out.println(\"일반비행합니다.\");\n",
    "\t}\t\n",
    "\tpublic void takeOff() {\n",
    "\t\tSystem.out.println(\"이륙합니다.\");\n",
    "\t}\t\n",
    "}\n",
    "```"
   ]
  },
  {
   "cell_type": "markdown",
   "id": "cc54919e-bd25-4d1c-b906-808a1baf1c42",
   "metadata": {},
   "source": [
    "```java\n",
    "package sec01.exam04;\n",
    "\n",
    "public class SupersonicAirplane extends Airplane {\n",
    "\tpublic static final int NORMAL = 1;\n",
    "\tpublic static final int SUPERSONIC = 2;\n",
    "\t\n",
    "\tpublic int flyMode = NORMAL;\n",
    "\t\n",
    "\t@Override\n",
    "\tpublic void fly() { // fly() 메소드 재정의\n",
    "\t\tif(flyMode == SUPERSONIC) {\n",
    "\t\t\tSystem.out.println(\"초음속비행합니다.\");\t\t\t\n",
    "\t\t} else {\n",
    "\t\t\t//Airplane 객체의 fly() 메소드 호출\n",
    "\t\t\tsuper.fly();\n",
    "\t\t}\n",
    "\t}\n",
    "}\n",
    "```"
   ]
  },
  {
   "cell_type": "markdown",
   "id": "341127f7-5661-4853-9e52-f22c683e0b86",
   "metadata": {},
   "source": [
    "```java\n",
    "package sec01.exam04;\n",
    "\n",
    "public class SupersonicAirplaneExample {\n",
    "\tpublic static void main(String[] args) {\t\t\t\n",
    "\t\tSupersonicAirplane sa = new SupersonicAirplane();\t\t\n",
    "\t\tsa.takeOff();\n",
    "\t\tsa.fly();\t\t\n",
    "\t\tsa.flyMode = SupersonicAirplane.SUPERSONIC;\n",
    "\t\tsa.fly();\t\t\n",
    "\t\tsa.flyMode = SupersonicAirplane.NORMAL;\n",
    "\t\tsa.fly();\t\t\n",
    "\t\tsa.land();\n",
    "\t}\n",
    "}\n",
    "```"
   ]
  },
  {
   "cell_type": "markdown",
   "id": "029ca17a-bd48-4d2a-9c64-b371b96a2dd9",
   "metadata": {},
   "source": [
    "- 위 코드의 실행 결과는?"
   ]
  },
  {
   "cell_type": "markdown",
   "id": "a3a0a59d-6f3a-49ce-a631-846e8523e179",
   "metadata": {},
   "source": [
    "### final 클래스와 final 메소드\n",
    "- final 키워드 : 해당 선언이 최종 상태이고 결코 수정될 수 없음을 의미\n",
    "- final 필드 : 초기값이 설정된 후 더 이상 값을 변경할 수 없음\n",
    "- final 클래스 : 상속할 수 없는 클래스\n",
    "- final 메소드 : 재정의할 수 없는 메소드\n"
   ]
  },
  {
   "cell_type": "markdown",
   "id": "0e32b1db-b419-4abf-b77a-15505064a013",
   "metadata": {},
   "source": [
    "- 상속할 수 없는 final 클래스 예제\n",
    "\n",
    "```java\n",
    "public final class Member {\n",
    "\n",
    "}\n",
    "```\n"
   ]
  },
  {
   "cell_type": "markdown",
   "id": "b7fc82bc-7303-467e-80e9-7cfd068d381d",
   "metadata": {},
   "source": [
    "- 아래와 같이 클래스를 선언할 수 없음\n",
    "\n",
    "```java\n",
    "public class VIP extends Member {\n",
    "\n",
    "}\n",
    "```\n"
   ]
  },
  {
   "cell_type": "markdown",
   "id": "ac6b3d7e-c0b3-44a0-aea8-b63a2b8aa9a8",
   "metadata": {},
   "source": [
    "- 재정의할 수 없는 final 메소드\n",
    "    - 부모 클래스를 상속해서 자식 클래스를 선언할 때 부모 클래스에 선언된 final 메소드는 자식 클래스에서 재정의할 수 없음\n"
   ]
  },
  {
   "cell_type": "markdown",
   "id": "4fde92cb-9347-4906-914d-2d43ff0a73bf",
   "metadata": {},
   "source": [
    "```java\n",
    "package sec01.exam06;\n",
    "\n",
    "public class Car {\n",
    "\t//필드\n",
    "\tpublic int speed;\n",
    "\t\n",
    "\t//메소드\n",
    "\tpublic void speedUp() {\n",
    "\t\tspeed += 1;\n",
    "\t}\t\t\n",
    "\t\n",
    "\t//final 메소드\n",
    "\tpublic final void stop() {\n",
    "\t\tSystem.out.println(\"차를 멈춤\");\n",
    "\t\tspeed = 0;\n",
    "\t}\n",
    "}\n",
    "```"
   ]
  },
  {
   "cell_type": "markdown",
   "id": "b150b5ed-178d-4027-8438-2fc25f0d2adc",
   "metadata": {},
   "source": [
    "- 위에서 Car 클래스의 stop() 메소드를 final로 선언\n",
    "- Car를 상속한 SportsCar 클래스에서 stop() 메소드를 재정의할 수 없음 "
   ]
  },
  {
   "cell_type": "markdown",
   "id": "55e61a1d-0a7a-4e5a-9a8b-6c1e2e9ce078",
   "metadata": {},
   "source": [
    "```java\n",
    "package sec01.exam06;\n",
    "\n",
    "public class SportsCar extends Car {\n",
    "\t@Override\n",
    "\tpublic void speedUp() {\n",
    "\t\tspeed += 10;\n",
    "\t}\n",
    "\t\n",
    "\t//오버라이딩을 할 수 없음\n",
    "\t/*\n",
    "\t@Override\n",
    "\tpublic void stop() {\n",
    "\t\tSystem.out.println(\"스포츠카를 멈춤\");\n",
    "\t\tspeed = 0;\n",
    "\t}\n",
    "\t*/\n",
    "}\n",
    "```\n"
   ]
  },
  {
   "cell_type": "markdown",
   "id": "d4b720a4-b34e-425b-9254-45ba9bce6fa7",
   "metadata": {},
   "source": [
    "# 2. 추상 클래스\n",
    "### 혼공자 07-3 (p.379 ~ p.389)"
   ]
  },
  {
   "cell_type": "markdown",
   "id": "5921f5e1",
   "metadata": {},
   "source": [
    "- 실체 클래스 : 객체를 직접 생성할 수 있는 클래스\n",
    "- 추상 클래스 : 실체 클래스들의 공통적인 특성을 추출해서 선언한 클래스\n",
    "- 추상 클래스가 부모, 실체 클래스가 자식으로 구현되어 실체 클래스는 추상 클래스의 모든 특성(필드와 메소드)을 물려받고, 추가적인 특성을 가질 수 있음\n",
    "- 추상 클래스는 new 연산자를 이용하여 객체를 생성할 수 없음"
   ]
  },
  {
   "cell_type": "markdown",
   "id": "bd886e0e",
   "metadata": {},
   "source": [
    "### 추상 클래스의 용도\n",
    "\n",
    "#### 공통된 필드와 메소드의 이름을 통일할 목적\n",
    "- 실체 클래스를 설계하는 사람이 여러 사람일 경우, 실체 클래스마다 필드와 메소드가 제각기 다른 이름을 가질 수 있음\n",
    "\n",
    "##### 예\n",
    "- Telephone 클래스\n",
    "    - 소유자의 이름을 저장하는 필드를 owner로 정의\n",
    "    - 전원을 켜는 메소드를 turnOn()으로 정의\n",
    "- SmartPhone 클래스\n",
    "    - 소유자의 이름을 저장하는 필드를 user로 정의\n",
    "    - 전원을 켜는 메소드를 powerOn()으로 정의\n",
    "- 데이터와 기능이 모두 동일함에도 불구하고 이름이 다르다 보니 객체마다 사용 방법이 달라짐\n",
    "- Phone이라는 추상 클래스를 정의하여 owner 필드와 turnOn() 메소드를 선언하고 Telephone과 SmartPhone은 Phone을 상속함으로써 필드와 메소드 이름을 통일할 수 있음\n",
    "\n",
    "#### 실체 클래스를 작성할 때 시간 절약\n",
    "- 공통적인 필드와 메소드는 추상 클래스인 Phone에 모두 선언하고 다른 점만 실체 클래스에 선언하면 실체 클래스를 작성하는 데 시간을 절약할 수 있음\n",
    "\n",
    "##### 예\n",
    "- Telephone과 SmartPhone은 Phone을 상속받기 때문에 owner 필드와 turnOn() 메소드를 선언할 필요가 없음\n",
    "- Telephone과 SmartPhone의 추가적인 특성인 autoAnswering()과 internetSearch() 메소드만 각각 선언하면 됨"
   ]
  },
  {
   "cell_type": "markdown",
   "id": "4bfca037",
   "metadata": {},
   "source": [
    "### 추상 클래스 선언\n",
    "- abstact 키워드 사용\n",
    "- new 연산자로 직접 생성자를 호출하여 객체를 생성할 수는 없지만 자식 객체가 생성될 때 super()를 호출해서 추상 클래스 객체를 생성하므로 추상 클래스도 생성자가 반드시 있어야 함"
   ]
  },
  {
   "cell_type": "markdown",
   "id": "387d9b64",
   "metadata": {},
   "source": [
    "#### 예\n",
    "\n",
    "```java\n",
    "package sec03.exam01;\n",
    "\n",
    "public abstract class Phone {\n",
    "\t//필드\n",
    "\tpublic String owner;\n",
    "\t\n",
    "\t//생성자\n",
    "\tpublic Phone(String owner) {\n",
    "\t\tthis.owner = owner;\n",
    "\t}\n",
    "\t\n",
    "\t//메소드\n",
    "\tpublic void turnOn() {\n",
    "\t\tSystem.out.println(\"폰 전원을 켭니다.\");\n",
    "\t}\t\n",
    "\tpublic void turnOff() {\n",
    "\t\tSystem.out.println(\"폰 전원을 끕니다.\");\n",
    "\t}\n",
    "}\n",
    "```"
   ]
  },
  {
   "cell_type": "markdown",
   "id": "41157feb",
   "metadata": {},
   "source": [
    "- Phone 추상 클래스를 상속해서 Smartphone 자식 클래스 정의\n",
    "\n",
    "```java\n",
    "package sec03.exam01;\n",
    "\n",
    "public class SmartPhone extends Phone {\n",
    "\t//생성자\n",
    "\tpublic SmartPhone(String owner) {\n",
    "\t\tsuper(owner);\n",
    "\t}\n",
    "\t//메소드\n",
    "\tpublic void internetSearch() {\n",
    "\t\tSystem.out.println(\"인터넷 검색을 합니다.\");\n",
    "\t}\n",
    "}\n",
    "```"
   ]
  },
  {
   "cell_type": "markdown",
   "id": "dce6b665",
   "metadata": {},
   "source": [
    "```java\n",
    "package sec03.exam01;\n",
    "\n",
    "public class PhoneExample {\n",
    "\tpublic static void main(String[] args) {\n",
    "\t\t//Phone phone = new Phone(); // (x) 추상 클래스는 new 연산자로 생성자를 호출하여 객체를 생성할 수 없음 \n",
    "\t\t\n",
    "\t\tSmartPhone smartPhone = new SmartPhone(\"홍길동\");\n",
    "\t\t\n",
    "\t\tsmartPhone.turnOn();\n",
    "\t\tsmartPhone.internetSearch();\n",
    "\t\tsmartPhone.turnOff();\n",
    "\t}\n",
    "}\n",
    "```"
   ]
  },
  {
   "cell_type": "markdown",
   "id": "83eff69f",
   "metadata": {},
   "source": [
    "### 추상 메소드와 재정의\n",
    "- 추상 클래스는 실체 클래스가 공통적으로 가져야 할 필드와 메소드들을 정의해놓은 추상적인 클래스로, 실체 클래스의 멤버(필드, 메소드)를 통일하는 데 목적이 있음\n",
    "- 모든 실체들이 가지고 있는 메소드의 실행 내용이 동일하다면 추상 클래스에 메소드를 작성하는 것이 바람직\n",
    "- 하지만 메소드의 선언만 통일하고 메소드의 동작은 실체 클래스마다 달라야 하는 경우가 있음\n",
    "    - 모든 동물은 소리를 내기 때문에 Animal 추상 클래스에서 sound()라는 메소드를 정의했다고 가정\n",
    "    - 그러나 동물은 제각각 다양한 소리를 내므로 이것을 추상 클래스에서 통일적으로 작성할 수 없고 각 동물의 실체 클래스에서 직접 작성해야 함\n",
    "\n",
    "#### 추상 메소드\n",
    "- 메소드의 선언부만 있고 메소드 실행 내용인 중괄호 {}가 없는 메소드\n",
    "\n",
    "```java\n",
    "[public | protected] abstract 리턴타입 메소드이름(매개변수, ...);\n",
    "```\n",
    "\n",
    "-  추상 클래스에서 추상 메소드를 정의하는 경우 이를 상속받는 자식클래스는 반드시 추상 메소드를 재정의하여 실행 내용을 작성해야 함\n",
    "    - 그렇지 않으면 컴파일 에러 발생\n"
   ]
  },
  {
   "cell_type": "markdown",
   "id": "3130bba5",
   "metadata": {},
   "source": [
    "#### 추상 메소드 예제"
   ]
  },
  {
   "cell_type": "markdown",
   "id": "65a75a40",
   "metadata": {},
   "source": [
    "```java\n",
    "package sec03.exam02;\n",
    "\n",
    "public abstract class Animal { // abstract 키워드를 붙여 추상 클래스로 정의\n",
    "\tpublic String kind;\n",
    "\t\n",
    "\tpublic void breathe() {\n",
    "\t\tSystem.out.println(\"숨을 쉽니다.\");\n",
    "\t}\n",
    "\n",
    "\tpublic abstract void sound(); // 추상 메소드 정의\n",
    "}\n",
    "```\n",
    "\n"
   ]
  },
  {
   "cell_type": "markdown",
   "id": "e7859b3a",
   "metadata": {},
   "source": [
    "```java\n",
    "package sec03.exam02;\n",
    "\n",
    "public class Cat extends Animal {\n",
    "\tpublic Cat() {\n",
    "\t\tthis.kind = \"포유류\";\n",
    "\t}\n",
    "\n",
    "\t// Animal 클래스의 추상 메소드인 sound() 재정의\n",
    "\t@Override\n",
    "\tpublic void sound() {\n",
    "\t\tSystem.out.println(\"야옹\");\n",
    "\t}\n",
    "}\n",
    "\n",
    "```"
   ]
  },
  {
   "cell_type": "markdown",
   "id": "3825bc99",
   "metadata": {},
   "source": [
    "```java\n",
    "package sec03.exam02;\n",
    "\n",
    "public class Dog extends Animal {\n",
    "\tpublic Dog() {\n",
    "\t\tthis.kind = \"포유류\";\n",
    "\t}\n",
    "\n",
    "\t// Animal 클래스의 추상 메소드인 sound() 재정의\n",
    "\t@Override\n",
    "\tpublic void sound() {\n",
    "\t\tSystem.out.println(\"멍멍\");\n",
    "\t}\n",
    "}\n",
    "```"
   ]
  },
  {
   "cell_type": "markdown",
   "id": "ef2f17bf",
   "metadata": {},
   "source": [
    "```java\n",
    "package sec03.exam02;\n",
    "\n",
    "public class AnimalExample {\n",
    "\tpublic static void main(String[] args) {\n",
    "\t\tDog dog = new Dog();\n",
    "\t\tCat cat = new Cat();\n",
    "\t\tdog.sound();\n",
    "\t\tcat.sound();\n",
    "\t\tSystem.out.println(\"-----\");\n",
    "\t}\n",
    "}\n",
    "```"
   ]
  }
 ],
 "metadata": {
  "kernelspec": {
   "display_name": "Python 3 (ipykernel)",
   "language": "python",
   "name": "python3"
  },
  "language_info": {
   "codemirror_mode": {
    "name": "ipython",
    "version": 3
   },
   "file_extension": ".py",
   "mimetype": "text/x-python",
   "name": "python",
   "nbconvert_exporter": "python",
   "pygments_lexer": "ipython3",
   "version": "3.13.5"
  }
 },
 "nbformat": 4,
 "nbformat_minor": 5
}
